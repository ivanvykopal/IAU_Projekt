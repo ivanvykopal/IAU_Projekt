{
 "cells": [
  {
   "cell_type": "markdown",
   "metadata": {},
   "source": [
    "# Projekt - odovzdanie 1\n",
    " \n",
    " **Autori:** Patrik Villant, Ivan Vykopal\n",
    " \n",
    " ## Dataset pre personal_train\n",
    " \n",
    " Dataset obsahuje meno pacienta, adresu, vek, pohlavie a dátum narodenia."
   ]
  },
  {
   "cell_type": "code",
   "execution_count": 2,
   "metadata": {},
   "outputs": [],
   "source": [
    "# import potrebných knižníc\n",
    "import matplotlib.pyplot as plt\n",
    "import pandas as pd\n",
    "import numpy as np\n",
    "import seaborn as sns"
   ]
  },
  {
   "cell_type": "code",
   "execution_count": 3,
   "metadata": {},
   "outputs": [],
   "source": [
    "personal = pd.read_csv('personal_train.csv')"
   ]
  },
  {
   "cell_type": "code",
   "execution_count": 4,
   "metadata": {},
   "outputs": [
    {
     "data": {
      "text/html": [
       "<div>\n",
       "<style scoped>\n",
       "    .dataframe tbody tr th:only-of-type {\n",
       "        vertical-align: middle;\n",
       "    }\n",
       "\n",
       "    .dataframe tbody tr th {\n",
       "        vertical-align: top;\n",
       "    }\n",
       "\n",
       "    .dataframe thead th {\n",
       "        text-align: right;\n",
       "    }\n",
       "</style>\n",
       "<table border=\"1\" class=\"dataframe\">\n",
       "  <thead>\n",
       "    <tr style=\"text-align: right;\">\n",
       "      <th></th>\n",
       "      <th>Unnamed: 0</th>\n",
       "      <th>name</th>\n",
       "      <th>address</th>\n",
       "      <th>age</th>\n",
       "      <th>sex</th>\n",
       "      <th>date_of_birth</th>\n",
       "    </tr>\n",
       "  </thead>\n",
       "  <tbody>\n",
       "    <tr>\n",
       "      <th>0</th>\n",
       "      <td>0</td>\n",
       "      <td>Roscoe Bohannon</td>\n",
       "      <td>7183 Osborne Ways Apt. 651\\r\\nEast Andrew, OH ...</td>\n",
       "      <td>-4700</td>\n",
       "      <td>Female</td>\n",
       "      <td>1972-03-14 00 00 00</td>\n",
       "    </tr>\n",
       "    <tr>\n",
       "      <th>1</th>\n",
       "      <td>1</td>\n",
       "      <td>Ernest Kline</td>\n",
       "      <td>391 Ball Road Suite 961\\r\\nFlowersborough, IN ...</td>\n",
       "      <td>52</td>\n",
       "      <td>Male</td>\n",
       "      <td>1967-02-10 00:00:00</td>\n",
       "    </tr>\n",
       "    <tr>\n",
       "      <th>2</th>\n",
       "      <td>2</td>\n",
       "      <td>Harold Hendriks</td>\n",
       "      <td>8702 Vincent Square\\r\\nNew Jerryfurt, CO 30614</td>\n",
       "      <td>46</td>\n",
       "      <td>Female</td>\n",
       "      <td>1972/12/15</td>\n",
       "    </tr>\n",
       "    <tr>\n",
       "      <th>3</th>\n",
       "      <td>3</td>\n",
       "      <td>Randy Baptiste</td>\n",
       "      <td>2751 Harris Crossroad\\r\\nWest Ashley, CA 30311</td>\n",
       "      <td>43</td>\n",
       "      <td>Male</td>\n",
       "      <td>1976-03-16</td>\n",
       "    </tr>\n",
       "    <tr>\n",
       "      <th>4</th>\n",
       "      <td>4</td>\n",
       "      <td>Anthony Colucci</td>\n",
       "      <td>904 Robert Cliffs Suite 186\\r\\nWest Kyle, CO 7...</td>\n",
       "      <td>68</td>\n",
       "      <td>Male</td>\n",
       "      <td>1951-05-04</td>\n",
       "    </tr>\n",
       "    <tr>\n",
       "      <th>5</th>\n",
       "      <td>5</td>\n",
       "      <td>Ronald Lange</td>\n",
       "      <td>30973 Martinez Shores\\r\\nJameston, CA 70245</td>\n",
       "      <td>58</td>\n",
       "      <td>Male</td>\n",
       "      <td>1960-11-24</td>\n",
       "    </tr>\n",
       "    <tr>\n",
       "      <th>6</th>\n",
       "      <td>6</td>\n",
       "      <td>Boyd Eiselein</td>\n",
       "      <td>29941 Christopher Curve Apt. 682\\r\\nRaychester...</td>\n",
       "      <td>47</td>\n",
       "      <td>Female</td>\n",
       "      <td>1972-01-05</td>\n",
       "    </tr>\n",
       "    <tr>\n",
       "      <th>7</th>\n",
       "      <td>7</td>\n",
       "      <td>Raymond Smith</td>\n",
       "      <td>53487 Scott Extensions Apt. 824\\r\\nMccartytown...</td>\n",
       "      <td>52</td>\n",
       "      <td>Male</td>\n",
       "      <td>1967-10-05</td>\n",
       "    </tr>\n",
       "    <tr>\n",
       "      <th>8</th>\n",
       "      <td>8</td>\n",
       "      <td>Harold Miller</td>\n",
       "      <td>8514 Elizabeth Crescent\\r\\nWest Joseland, GA 4...</td>\n",
       "      <td>44</td>\n",
       "      <td>Male</td>\n",
       "      <td>1975-07-04</td>\n",
       "    </tr>\n",
       "    <tr>\n",
       "      <th>9</th>\n",
       "      <td>9</td>\n",
       "      <td>Charles Czachorowski</td>\n",
       "      <td>6798 Wagner Locks Suite 377\\r\\nLake Brenda, DC...</td>\n",
       "      <td>70</td>\n",
       "      <td>Female</td>\n",
       "      <td>1949-03-24</td>\n",
       "    </tr>\n",
       "  </tbody>\n",
       "</table>\n",
       "</div>"
      ],
      "text/plain": [
       "   Unnamed: 0                  name  \\\n",
       "0           0       Roscoe Bohannon   \n",
       "1           1          Ernest Kline   \n",
       "2           2       Harold Hendriks   \n",
       "3           3        Randy Baptiste   \n",
       "4           4       Anthony Colucci   \n",
       "5           5          Ronald Lange   \n",
       "6           6         Boyd Eiselein   \n",
       "7           7         Raymond Smith   \n",
       "8           8         Harold Miller   \n",
       "9           9  Charles Czachorowski   \n",
       "\n",
       "                                             address   age      sex  \\\n",
       "0  7183 Osborne Ways Apt. 651\\r\\nEast Andrew, OH ... -4700   Female   \n",
       "1  391 Ball Road Suite 961\\r\\nFlowersborough, IN ...    52     Male   \n",
       "2     8702 Vincent Square\\r\\nNew Jerryfurt, CO 30614    46   Female   \n",
       "3     2751 Harris Crossroad\\r\\nWest Ashley, CA 30311    43     Male   \n",
       "4  904 Robert Cliffs Suite 186\\r\\nWest Kyle, CO 7...    68     Male   \n",
       "5        30973 Martinez Shores\\r\\nJameston, CA 70245    58     Male   \n",
       "6  29941 Christopher Curve Apt. 682\\r\\nRaychester...    47   Female   \n",
       "7  53487 Scott Extensions Apt. 824\\r\\nMccartytown...    52     Male   \n",
       "8  8514 Elizabeth Crescent\\r\\nWest Joseland, GA 4...    44     Male   \n",
       "9  6798 Wagner Locks Suite 377\\r\\nLake Brenda, DC...    70   Female   \n",
       "\n",
       "         date_of_birth  \n",
       "0  1972-03-14 00 00 00  \n",
       "1  1967-02-10 00:00:00  \n",
       "2           1972/12/15  \n",
       "3           1976-03-16  \n",
       "4           1951-05-04  \n",
       "5           1960-11-24  \n",
       "6           1972-01-05  \n",
       "7           1967-10-05  \n",
       "8           1975-07-04  \n",
       "9           1949-03-24  "
      ]
     },
     "execution_count": 4,
     "metadata": {},
     "output_type": "execute_result"
    }
   ],
   "source": [
    "personal.head(10)"
   ]
  },
  {
   "cell_type": "markdown",
   "metadata": {},
   "source": [
    "Výpis prvých 10 záznamov z datasetu personal_train.csv"
   ]
  },
  {
   "cell_type": "code",
   "execution_count": 5,
   "metadata": {},
   "outputs": [
    {
     "name": "stdout",
     "output_type": "stream",
     "text": [
      "<class 'pandas.core.frame.DataFrame'>\n",
      "RangeIndex: 3933 entries, 0 to 3932\n",
      "Data columns (total 6 columns):\n",
      " #   Column         Non-Null Count  Dtype \n",
      "---  ------         --------------  ----- \n",
      " 0   Unnamed: 0     3933 non-null   int64 \n",
      " 1   name           3933 non-null   object\n",
      " 2   address        3933 non-null   object\n",
      " 3   age            3933 non-null   int64 \n",
      " 4   sex            3933 non-null   object\n",
      " 5   date_of_birth  3933 non-null   object\n",
      "dtypes: int64(2), object(4)\n",
      "memory usage: 184.5+ KB\n"
     ]
    }
   ],
   "source": [
    "personal.info()"
   ]
  },
  {
   "cell_type": "markdown",
   "metadata": {},
   "source": [
    "V datasete máme 3933 záznamov a 6 atribútov. 2x - integer, 4x - string, pričom jeden z nich je dátum, ktorý by mohol mať iný formát."
   ]
  },
  {
   "cell_type": "code",
   "execution_count": 6,
   "metadata": {},
   "outputs": [
    {
     "data": {
      "text/plain": [
       "0"
      ]
     },
     "execution_count": 6,
     "metadata": {},
     "output_type": "execute_result"
    }
   ],
   "source": [
    "personal.shape[0] - personal.dropna().shape[0]"
   ]
  },
  {
   "cell_type": "markdown",
   "metadata": {},
   "source": [
    "V datasete nemáme nulové hodnoty"
   ]
  },
  {
   "cell_type": "code",
   "execution_count": 7,
   "metadata": {},
   "outputs": [],
   "source": [
    "# odstránenie stĺpca s indexom\n",
    "personal = personal.drop(columns=['Unnamed: 0'])"
   ]
  },
  {
   "cell_type": "code",
   "execution_count": 8,
   "metadata": {},
   "outputs": [
    {
     "data": {
      "text/html": [
       "<div>\n",
       "<style scoped>\n",
       "    .dataframe tbody tr th:only-of-type {\n",
       "        vertical-align: middle;\n",
       "    }\n",
       "\n",
       "    .dataframe tbody tr th {\n",
       "        vertical-align: top;\n",
       "    }\n",
       "\n",
       "    .dataframe thead th {\n",
       "        text-align: right;\n",
       "    }\n",
       "</style>\n",
       "<table border=\"1\" class=\"dataframe\">\n",
       "  <thead>\n",
       "    <tr style=\"text-align: right;\">\n",
       "      <th></th>\n",
       "      <th>name</th>\n",
       "      <th>address</th>\n",
       "      <th>age</th>\n",
       "      <th>sex</th>\n",
       "      <th>date_of_birth</th>\n",
       "    </tr>\n",
       "  </thead>\n",
       "  <tbody>\n",
       "    <tr>\n",
       "      <th>count</th>\n",
       "      <td>3933</td>\n",
       "      <td>3933</td>\n",
       "      <td>3933.000000</td>\n",
       "      <td>3933</td>\n",
       "      <td>3933</td>\n",
       "    </tr>\n",
       "    <tr>\n",
       "      <th>unique</th>\n",
       "      <td>3933</td>\n",
       "      <td>3933</td>\n",
       "      <td>NaN</td>\n",
       "      <td>2</td>\n",
       "      <td>3703</td>\n",
       "    </tr>\n",
       "    <tr>\n",
       "      <th>top</th>\n",
       "      <td>Taylor Porter</td>\n",
       "      <td>Unit 4266 Box 5620\\r\\nDPO AA 97458</td>\n",
       "      <td>NaN</td>\n",
       "      <td>Male</td>\n",
       "      <td>1961-07-30</td>\n",
       "    </tr>\n",
       "    <tr>\n",
       "      <th>freq</th>\n",
       "      <td>1</td>\n",
       "      <td>1</td>\n",
       "      <td>NaN</td>\n",
       "      <td>2621</td>\n",
       "      <td>3</td>\n",
       "    </tr>\n",
       "    <tr>\n",
       "      <th>mean</th>\n",
       "      <td>NaN</td>\n",
       "      <td>NaN</td>\n",
       "      <td>84.559369</td>\n",
       "      <td>NaN</td>\n",
       "      <td>NaN</td>\n",
       "    </tr>\n",
       "    <tr>\n",
       "      <th>std</th>\n",
       "      <td>NaN</td>\n",
       "      <td>NaN</td>\n",
       "      <td>1713.232486</td>\n",
       "      <td>NaN</td>\n",
       "      <td>NaN</td>\n",
       "    </tr>\n",
       "    <tr>\n",
       "      <th>min</th>\n",
       "      <td>NaN</td>\n",
       "      <td>NaN</td>\n",
       "      <td>-8400.000000</td>\n",
       "      <td>NaN</td>\n",
       "      <td>NaN</td>\n",
       "    </tr>\n",
       "    <tr>\n",
       "      <th>25%</th>\n",
       "      <td>NaN</td>\n",
       "      <td>NaN</td>\n",
       "      <td>43.000000</td>\n",
       "      <td>NaN</td>\n",
       "      <td>NaN</td>\n",
       "    </tr>\n",
       "    <tr>\n",
       "      <th>50%</th>\n",
       "      <td>NaN</td>\n",
       "      <td>NaN</td>\n",
       "      <td>52.000000</td>\n",
       "      <td>NaN</td>\n",
       "      <td>NaN</td>\n",
       "    </tr>\n",
       "    <tr>\n",
       "      <th>75%</th>\n",
       "      <td>NaN</td>\n",
       "      <td>NaN</td>\n",
       "      <td>61.000000</td>\n",
       "      <td>NaN</td>\n",
       "      <td>NaN</td>\n",
       "    </tr>\n",
       "    <tr>\n",
       "      <th>max</th>\n",
       "      <td>NaN</td>\n",
       "      <td>NaN</td>\n",
       "      <td>9700.000000</td>\n",
       "      <td>NaN</td>\n",
       "      <td>NaN</td>\n",
       "    </tr>\n",
       "  </tbody>\n",
       "</table>\n",
       "</div>"
      ],
      "text/plain": [
       "                 name                             address          age    sex  \\\n",
       "count            3933                                3933  3933.000000   3933   \n",
       "unique           3933                                3933          NaN      2   \n",
       "top     Taylor Porter  Unit 4266 Box 5620\\r\\nDPO AA 97458          NaN   Male   \n",
       "freq                1                                   1          NaN   2621   \n",
       "mean              NaN                                 NaN    84.559369    NaN   \n",
       "std               NaN                                 NaN  1713.232486    NaN   \n",
       "min               NaN                                 NaN -8400.000000    NaN   \n",
       "25%               NaN                                 NaN    43.000000    NaN   \n",
       "50%               NaN                                 NaN    52.000000    NaN   \n",
       "75%               NaN                                 NaN    61.000000    NaN   \n",
       "max               NaN                                 NaN  9700.000000    NaN   \n",
       "\n",
       "       date_of_birth  \n",
       "count           3933  \n",
       "unique          3703  \n",
       "top       1961-07-30  \n",
       "freq               3  \n",
       "mean             NaN  \n",
       "std              NaN  \n",
       "min              NaN  \n",
       "25%              NaN  \n",
       "50%              NaN  \n",
       "75%              NaN  \n",
       "max              NaN  "
      ]
     },
     "execution_count": 8,
     "metadata": {},
     "output_type": "execute_result"
    }
   ],
   "source": [
    "personal.describe(include='all')"
   ]
  },
  {
   "cell_type": "markdown",
   "metadata": {},
   "source": [
    "V datasete vypíšeme deskriptívne štatistiky atribútov.\n",
    "\n",
    "Zo štatistiky je možné vidieť, že nemáme žiadne duplicitné hodnoty. Ďalej sme zistili, že prevládajú v datasete muži a že traja pacienti sa narodili v rovnaký deň.\n",
    "\n",
    "#### Atribút age"
   ]
  },
  {
   "cell_type": "code",
   "execution_count": 9,
   "metadata": {},
   "outputs": [
    {
     "name": "stderr",
     "output_type": "stream",
     "text": [
      "d:\\users\\ivan\\fiit\\5.semester\\iau\\python\\xvykopal\\lib\\site-packages\\seaborn\\_decorators.py:36: FutureWarning: Pass the following variable as a keyword arg: x. From version 0.12, the only valid positional argument will be `data`, and passing other arguments without an explicit keyword will result in an error or misinterpretation.\n",
      "  warnings.warn(\n"
     ]
    },
    {
     "data": {
      "text/plain": [
       "<AxesSubplot:xlabel='age'>"
      ]
     },
     "execution_count": 9,
     "metadata": {},
     "output_type": "execute_result"
    },
    {
     "data": {
      "image/png": "[encoded data removed]",
      "text/plain": [
       "<Figure size 432x288 with 1 Axes>"
      ]
     },
     "metadata": {
      "needs_background": "light"
     },
     "output_type": "display_data"
    }
   ],
   "source": [
    "sns.boxplot(personal.age)"
   ]
  },
  {
   "cell_type": "markdown",
   "metadata": {},
   "source": [
    "Viacero hodnôt age je nereálnych (záporné hodnoty, hodnoty nad 150 rokov)"
   ]
  },
  {
   "cell_type": "code",
   "execution_count": 10,
   "metadata": {},
   "outputs": [
    {
     "name": "stderr",
     "output_type": "stream",
     "text": [
      "d:\\users\\ivan\\fiit\\5.semester\\iau\\python\\xvykopal\\lib\\site-packages\\seaborn\\_decorators.py:36: FutureWarning: Pass the following variable as a keyword arg: x. From version 0.12, the only valid positional argument will be `data`, and passing other arguments without an explicit keyword will result in an error or misinterpretation.\n",
      "  warnings.warn(\n"
     ]
    },
    {
     "data": {
      "text/plain": [
       "<AxesSubplot:xlabel='age'>"
      ]
     },
     "execution_count": 10,
     "metadata": {},
     "output_type": "execute_result"
    },
    {
     "data": {
      "image/png": "[encoded data removed]",
      "text/plain": [
       "<Figure size 432x288 with 1 Axes>"
      ]
     },
     "metadata": {
      "needs_background": "light"
     },
     "output_type": "display_data"
    }
   ],
   "source": [
    "test = personal[ (personal.age >= 0) & (personal.age < 150)]\n",
    "sns.boxplot(test.age)"
   ]
  },
  {
   "cell_type": "markdown",
   "metadata": {},
   "source": [
    "Vyfiltrovali sme reálne hodnoty (od 0 po 150) a vytvorili boxplot hodnôt, pričom boli zobrazení len tí pacienti, ktorí spĺňajú podmienku, že ich vek je medzi 0 a 150."
   ]
  },
  {
   "cell_type": "code",
   "execution_count": 23,
   "metadata": {},
   "outputs": [
    {
     "name": "stderr",
     "output_type": "stream",
     "text": [
      "d:\\users\\ivan\\fiit\\5.semester\\iau\\python\\xvykopal\\lib\\site-packages\\seaborn\\distributions.py:2551: FutureWarning: `distplot` is a deprecated function and will be removed in a future version. Please adapt your code to use either `displot` (a figure-level function with similar flexibility) or `histplot` (an axes-level function for histograms).\n",
      "  warnings.warn(msg, FutureWarning)\n"
     ]
    },
    {
     "data": {
      "text/plain": [
       "<AxesSubplot:xlabel='age', ylabel='Density'>"
      ]
     },
     "execution_count": 23,
     "metadata": {},
     "output_type": "execute_result"
    },
    {
     "data": {
      "image/png": "[encoded data removed]",
      "text/plain": [
       "<Figure size 432x288 with 1 Axes>"
      ]
     },
     "metadata": {
      "needs_background": "light"
     },
     "output_type": "display_data"
    }
   ],
   "source": [
    "sns.distplot(test.age, bins=50)"
   ]
  },
  {
   "cell_type": "markdown",
   "metadata": {},
   "source": [
    "Vytvorili sme si histogram z hodnôt veku, z ktorého vyčítame, že najviac ľudí má niečo málo ako 60 rokov.\n",
    "\n",
    "#### Atribút sex"
   ]
  },
  {
   "cell_type": "code",
   "execution_count": 12,
   "metadata": {
    "scrolled": false
   },
   "outputs": [
    {
     "data": {
      "text/plain": [
       "<AxesSubplot:>"
      ]
     },
     "execution_count": 12,
     "metadata": {},
     "output_type": "execute_result"
    },
    {
     "data": {
      "image/png": "[encoded data removed]",
      "text/plain": [
       "<Figure size 432x288 with 1 Axes>"
      ]
     },
     "metadata": {
      "needs_background": "light"
     },
     "output_type": "display_data"
    }
   ],
   "source": [
    "personal.sex.value_counts().plot.bar()"
   ]
  },
  {
   "cell_type": "markdown",
   "metadata": {},
   "source": [
    "V datasete prevláda mužské pohlavie."
   ]
  },
  {
   "cell_type": "code",
   "execution_count": 19,
   "metadata": {},
   "outputs": [
    {
     "name": "stderr",
     "output_type": "stream",
     "text": [
      "d:\\users\\ivan\\fiit\\5.semester\\iau\\python\\xvykopal\\lib\\site-packages\\seaborn\\distributions.py:2551: FutureWarning: `distplot` is a deprecated function and will be removed in a future version. Please adapt your code to use either `displot` (a figure-level function with similar flexibility) or `histplot` (an axes-level function for histograms).\n",
      "  warnings.warn(msg, FutureWarning)\n",
      "d:\\users\\ivan\\fiit\\5.semester\\iau\\python\\xvykopal\\lib\\site-packages\\seaborn\\distributions.py:2551: FutureWarning: `distplot` is a deprecated function and will be removed in a future version. Please adapt your code to use either `displot` (a figure-level function with similar flexibility) or `histplot` (an axes-level function for histograms).\n",
      "  warnings.warn(msg, FutureWarning)\n"
     ]
    },
    {
     "data": {
      "image/png": "[encoded data removed]",
      "text/plain": [
       "<Figure size 432x288 with 1 Axes>"
      ]
     },
     "metadata": {
      "needs_background": "light"
     },
     "output_type": "display_data"
    }
   ],
   "source": [
    "sns.distplot(pd.to_numeric(test[test.sex.str.strip() == 'Male'].age, errors=\"coerce\").astype(int),label=\"Male\")\n",
    "sns.distplot(pd.to_numeric(test[test.sex.str.strip() == 'Female'].age, errors=\"coerce\").astype(int),label=\"Female\")\n",
    "plt.legend()\n",
    "plt.show()"
   ]
  },
  {
   "cell_type": "markdown",
   "metadata": {},
   "source": [
    "Pri zobrazení len pacientov, ktorí majú správny vek (od 0 do 150) vidíme, že distribúcia medzi mužmi a ženami na základe veku je veľmi podobná.\n",
    "\n",
    "Atribút date_of_birth má zlý formát (čo sme zistili pri výpise pár záznamov), bude potrebná určiť rovnaké formátovanie pre tento atribút."
   ]
  },
  {
   "cell_type": "code",
   "execution_count": 20,
   "metadata": {},
   "outputs": [
    {
     "data": {
      "text/html": [
       "<div>\n",
       "<style scoped>\n",
       "    .dataframe tbody tr th:only-of-type {\n",
       "        vertical-align: middle;\n",
       "    }\n",
       "\n",
       "    .dataframe tbody tr th {\n",
       "        vertical-align: top;\n",
       "    }\n",
       "\n",
       "    .dataframe thead th {\n",
       "        text-align: right;\n",
       "    }\n",
       "</style>\n",
       "<table border=\"1\" class=\"dataframe\">\n",
       "  <thead>\n",
       "    <tr style=\"text-align: right;\">\n",
       "      <th></th>\n",
       "      <th>name</th>\n",
       "      <th>address</th>\n",
       "      <th>age</th>\n",
       "      <th>sex</th>\n",
       "      <th>date_of_birth</th>\n",
       "    </tr>\n",
       "  </thead>\n",
       "  <tbody>\n",
       "  </tbody>\n",
       "</table>\n",
       "</div>"
      ],
      "text/plain": [
       "Empty DataFrame\n",
       "Columns: [name, address, age, sex, date_of_birth]\n",
       "Index: []"
      ]
     },
     "execution_count": 20,
     "metadata": {},
     "output_type": "execute_result"
    }
   ],
   "source": [
    "personal[personal.name.duplicated()]"
   ]
  },
  {
   "cell_type": "markdown",
   "metadata": {},
   "source": [
    "Zistili sme, že v datasete personal_train nie sú žiadne duplicitné hodnoty.\n",
    "\n",
    "Atribút age a atribút date_of_birth závisa od seba. S tým, že nesprávny vek pri pacientoch vieme upraviť na základe atribútu date_of_birth, avšak až keď date_of_birth bude mať upravený formát.  \n",
    "\n",
    "### Identifikácia problémov: \n",
    "- v datasete je problém s formátom pri date_of_birth\n",
    "- v datasete je problém s vekom, kde vek nadobúda nereálne hodnoty a veľa výchyliek\n",
    "- adresy obsahujú biele znaky (\\r\\n), čo však nemusí zohrávať veľkú úlohu\n",
    "\n",
    "### Riešenie problémov:\n",
    "- pri atribúte age, vieme vek dopočítať na základe date_of_birth (avšak pri nahliadnutí na záznamy, vek je určený na základe roku 2019)\n",
    "- pri atribúte date_of_birth riešením je zjednotenie formátu dátumu"
   ]
  },
  {
   "cell_type": "markdown",
   "metadata": {},
   "source": [
    " ## Dataset pre other_train"
   ]
  },
  {
   "cell_type": "code",
   "execution_count": 24,
   "metadata": {},
   "outputs": [
    {
     "data": {
      "text/html": [
       "<div>\n",
       "<style scoped>\n",
       "    .dataframe tbody tr th:only-of-type {\n",
       "        vertical-align: middle;\n",
       "    }\n",
       "\n",
       "    .dataframe tbody tr th {\n",
       "        vertical-align: top;\n",
       "    }\n",
       "\n",
       "    .dataframe thead th {\n",
       "        text-align: right;\n",
       "    }\n",
       "</style>\n",
       "<table border=\"1\" class=\"dataframe\">\n",
       "  <thead>\n",
       "    <tr style=\"text-align: right;\">\n",
       "      <th></th>\n",
       "      <th>Unnamed: 0</th>\n",
       "      <th>name</th>\n",
       "      <th>address</th>\n",
       "      <th>race</th>\n",
       "      <th>marital-status</th>\n",
       "      <th>occupation</th>\n",
       "      <th>pregnant</th>\n",
       "      <th>education-num</th>\n",
       "      <th>relationship</th>\n",
       "      <th>capital-gain</th>\n",
       "      <th>education</th>\n",
       "      <th>fnlwgt</th>\n",
       "      <th>class</th>\n",
       "      <th>income</th>\n",
       "      <th>medical_info</th>\n",
       "      <th>native-country</th>\n",
       "      <th>hours-per-week</th>\n",
       "      <th>capital-loss</th>\n",
       "      <th>workclass</th>\n",
       "    </tr>\n",
       "  </thead>\n",
       "  <tbody>\n",
       "    <tr>\n",
       "      <th>0</th>\n",
       "      <td>0</td>\n",
       "      <td>Nelson Dupas</td>\n",
       "      <td>USS Wagner\\r\\nFPO AP 75518</td>\n",
       "      <td>White</td>\n",
       "      <td>Married-civ-spouse</td>\n",
       "      <td>Exec-managerial</td>\n",
       "      <td>f</td>\n",
       "      <td>10.0</td>\n",
       "      <td>Husband</td>\n",
       "      <td>0.0</td>\n",
       "      <td>Some-college</td>\n",
       "      <td>32916.0</td>\n",
       "      <td>0.0</td>\n",
       "      <td>&lt;=50K</td>\n",
       "      <td>{'mean_glucose':'129.6171875','std_glucose':'4...</td>\n",
       "      <td>United-States</td>\n",
       "      <td>45.0</td>\n",
       "      <td>0.0</td>\n",
       "      <td>Private</td>\n",
       "    </tr>\n",
       "    <tr>\n",
       "      <th>1</th>\n",
       "      <td>1</td>\n",
       "      <td>Jeremy Helfrich</td>\n",
       "      <td>0611 Jones Cliffs\\r\\nPort Kevin, AR 87203</td>\n",
       "      <td>White</td>\n",
       "      <td>Married-civ-spouse</td>\n",
       "      <td>Prof-specialty</td>\n",
       "      <td>f</td>\n",
       "      <td>15.0</td>\n",
       "      <td>Husband</td>\n",
       "      <td>15024.0</td>\n",
       "      <td>Prof-school</td>\n",
       "      <td>323798.0</td>\n",
       "      <td>0.0</td>\n",
       "      <td>&gt;50K</td>\n",
       "      <td>{'mean_glucose':'100.546875','std_glucose':'39...</td>\n",
       "      <td>United-States</td>\n",
       "      <td>55.0</td>\n",
       "      <td>0.0</td>\n",
       "      <td>Private</td>\n",
       "    </tr>\n",
       "    <tr>\n",
       "      <th>2</th>\n",
       "      <td>2</td>\n",
       "      <td>Luis Burdick</td>\n",
       "      <td>116 Wallace Meadow Suite 259\\r\\nPort Jenniferb...</td>\n",
       "      <td>White</td>\n",
       "      <td>Married-civ-spouse</td>\n",
       "      <td>Exec-managerial</td>\n",
       "      <td>f</td>\n",
       "      <td>9.0</td>\n",
       "      <td>Husband</td>\n",
       "      <td>0.0</td>\n",
       "      <td>HS-grad</td>\n",
       "      <td>116927.0</td>\n",
       "      <td>1.0</td>\n",
       "      <td>&gt;50K</td>\n",
       "      <td>{'mean_glucose':'26.09375','std_glucose':'nan'...</td>\n",
       "      <td>United-States</td>\n",
       "      <td>42.0</td>\n",
       "      <td>0.0</td>\n",
       "      <td>Self-emp-inc</td>\n",
       "    </tr>\n",
       "    <tr>\n",
       "      <th>3</th>\n",
       "      <td>3</td>\n",
       "      <td>Marion Bursey</td>\n",
       "      <td>85508 Martin Villages\\r\\nJonathanshire, AL 29047</td>\n",
       "      <td>White</td>\n",
       "      <td>Married-civ-spouse</td>\n",
       "      <td>Sales</td>\n",
       "      <td>f</td>\n",
       "      <td>10.0</td>\n",
       "      <td>Husband</td>\n",
       "      <td>0.0</td>\n",
       "      <td>Some-college</td>\n",
       "      <td>206351.0</td>\n",
       "      <td>0.0</td>\n",
       "      <td>&lt;=50K</td>\n",
       "      <td>{'mean_glucose':'113.0625','std_glucose':'42.8...</td>\n",
       "      <td>United-States</td>\n",
       "      <td>40.0</td>\n",
       "      <td>0.0</td>\n",
       "      <td>Private</td>\n",
       "    </tr>\n",
       "    <tr>\n",
       "      <th>4</th>\n",
       "      <td>4</td>\n",
       "      <td>Allen Brickley</td>\n",
       "      <td>58775 Thomas Mills Apt. 873\\r\\nLake Richardhav...</td>\n",
       "      <td>White</td>\n",
       "      <td>Married-civ-spouse</td>\n",
       "      <td>Craft-repair</td>\n",
       "      <td>f</td>\n",
       "      <td>13.0</td>\n",
       "      <td>Husband</td>\n",
       "      <td>0.0</td>\n",
       "      <td>Bachelors</td>\n",
       "      <td>37939.0</td>\n",
       "      <td>0.0</td>\n",
       "      <td>&lt;=50K</td>\n",
       "      <td>{'mean_glucose':'131.1328125','std_glucose':'4...</td>\n",
       "      <td>United-States</td>\n",
       "      <td>35.0</td>\n",
       "      <td>0.0</td>\n",
       "      <td>Self-emp-not-inc</td>\n",
       "    </tr>\n",
       "    <tr>\n",
       "      <th>5</th>\n",
       "      <td>5</td>\n",
       "      <td>Charles Wing</td>\n",
       "      <td>752 Jeffrey Mountains\\r\\nWest Amyfurt, WA 37220</td>\n",
       "      <td>White</td>\n",
       "      <td>Separated</td>\n",
       "      <td>Other-service</td>\n",
       "      <td>f</td>\n",
       "      <td>9.0</td>\n",
       "      <td>Not-in-family</td>\n",
       "      <td>0.0</td>\n",
       "      <td>HS-grad</td>\n",
       "      <td>205934.0</td>\n",
       "      <td>1.0</td>\n",
       "      <td>&lt;=50K</td>\n",
       "      <td>{'mean_glucose':'68.171875','std_glucose':'39....</td>\n",
       "      <td>United-States</td>\n",
       "      <td>25.0</td>\n",
       "      <td>0.0</td>\n",
       "      <td>Private</td>\n",
       "    </tr>\n",
       "    <tr>\n",
       "      <th>6</th>\n",
       "      <td>6</td>\n",
       "      <td>Hector Laverdiere</td>\n",
       "      <td>386 James Port\\r\\nJordanville, NH 35244</td>\n",
       "      <td>White</td>\n",
       "      <td>Married-civ-spouse</td>\n",
       "      <td>Transport-moving</td>\n",
       "      <td>f</td>\n",
       "      <td>10.0</td>\n",
       "      <td>Husband</td>\n",
       "      <td>0.0</td>\n",
       "      <td>Some-college</td>\n",
       "      <td>33304.0</td>\n",
       "      <td>1.0</td>\n",
       "      <td>&gt;50K</td>\n",
       "      <td>{'mean_glucose':'57.984375','std_glucose':'34....</td>\n",
       "      <td>United-States</td>\n",
       "      <td>40.0</td>\n",
       "      <td>0.0</td>\n",
       "      <td>Private</td>\n",
       "    </tr>\n",
       "    <tr>\n",
       "      <th>7</th>\n",
       "      <td>7</td>\n",
       "      <td>Jackson Jimenez</td>\n",
       "      <td>8161 Hopkins Locks\\r\\nTaylorhaven, CA 01893</td>\n",
       "      <td>Black</td>\n",
       "      <td>Married-civ-spouse</td>\n",
       "      <td>Craft-repair</td>\n",
       "      <td>f</td>\n",
       "      <td>9.0</td>\n",
       "      <td>Husband</td>\n",
       "      <td>4386.0</td>\n",
       "      <td>HS-grad</td>\n",
       "      <td>160808.0</td>\n",
       "      <td>1.0</td>\n",
       "      <td>&lt;=50K</td>\n",
       "      <td>{'mean_glucose':'39.84375','std_glucose':'34.3...</td>\n",
       "      <td>United-States</td>\n",
       "      <td>48.0</td>\n",
       "      <td>0.0</td>\n",
       "      <td>Private</td>\n",
       "    </tr>\n",
       "    <tr>\n",
       "      <th>8</th>\n",
       "      <td>8</td>\n",
       "      <td>Charles Langley</td>\n",
       "      <td>3036 Bailey Loaf Suite 670\\r\\nSmithhaven, IL 0...</td>\n",
       "      <td>Black</td>\n",
       "      <td>Never-married</td>\n",
       "      <td>Other-service</td>\n",
       "      <td>F</td>\n",
       "      <td>4.0</td>\n",
       "      <td>Unmarried</td>\n",
       "      <td>0.0</td>\n",
       "      <td>7th-8th</td>\n",
       "      <td>202822.0</td>\n",
       "      <td>0.0</td>\n",
       "      <td>&lt;=50K</td>\n",
       "      <td>{'mean_glucose':'120.6640625','std_glucose':'4...</td>\n",
       "      <td>Trinadad&amp;Tobago</td>\n",
       "      <td>14.0</td>\n",
       "      <td>0.0</td>\n",
       "      <td>Private</td>\n",
       "    </tr>\n",
       "    <tr>\n",
       "      <th>9</th>\n",
       "      <td>9</td>\n",
       "      <td>David Burt</td>\n",
       "      <td>91514 Kevin Extension Suite 992\\r\\nObrienhaven...</td>\n",
       "      <td>White</td>\n",
       "      <td>Married-civ-spouse</td>\n",
       "      <td>Machine-op-inspct</td>\n",
       "      <td>FALSE</td>\n",
       "      <td>9.0</td>\n",
       "      <td>Husband</td>\n",
       "      <td>0.0</td>\n",
       "      <td>HS-grad</td>\n",
       "      <td>144608.0</td>\n",
       "      <td>0.0</td>\n",
       "      <td>&lt;=50K</td>\n",
       "      <td>{'mean_glucose':'119.7890625','std_glucose':'4...</td>\n",
       "      <td>United-States</td>\n",
       "      <td>40.0</td>\n",
       "      <td>0.0</td>\n",
       "      <td>Private</td>\n",
       "    </tr>\n",
       "  </tbody>\n",
       "</table>\n",
       "</div>"
      ],
      "text/plain": [
       "   Unnamed: 0               name  \\\n",
       "0           0       Nelson Dupas   \n",
       "1           1    Jeremy Helfrich   \n",
       "2           2       Luis Burdick   \n",
       "3           3      Marion Bursey   \n",
       "4           4     Allen Brickley   \n",
       "5           5       Charles Wing   \n",
       "6           6  Hector Laverdiere   \n",
       "7           7    Jackson Jimenez   \n",
       "8           8    Charles Langley   \n",
       "9           9         David Burt   \n",
       "\n",
       "                                             address    race  \\\n",
       "0                         USS Wagner\\r\\nFPO AP 75518   White   \n",
       "1          0611 Jones Cliffs\\r\\nPort Kevin, AR 87203   White   \n",
       "2  116 Wallace Meadow Suite 259\\r\\nPort Jenniferb...   White   \n",
       "3   85508 Martin Villages\\r\\nJonathanshire, AL 29047   White   \n",
       "4  58775 Thomas Mills Apt. 873\\r\\nLake Richardhav...   White   \n",
       "5    752 Jeffrey Mountains\\r\\nWest Amyfurt, WA 37220   White   \n",
       "6            386 James Port\\r\\nJordanville, NH 35244   White   \n",
       "7        8161 Hopkins Locks\\r\\nTaylorhaven, CA 01893   Black   \n",
       "8  3036 Bailey Loaf Suite 670\\r\\nSmithhaven, IL 0...   Black   \n",
       "9  91514 Kevin Extension Suite 992\\r\\nObrienhaven...   White   \n",
       "\n",
       "        marital-status          occupation pregnant  education-num  \\\n",
       "0   Married-civ-spouse     Exec-managerial        f           10.0   \n",
       "1   Married-civ-spouse      Prof-specialty        f           15.0   \n",
       "2   Married-civ-spouse     Exec-managerial        f            9.0   \n",
       "3   Married-civ-spouse               Sales        f           10.0   \n",
       "4   Married-civ-spouse        Craft-repair        f           13.0   \n",
       "5            Separated       Other-service        f            9.0   \n",
       "6   Married-civ-spouse    Transport-moving        f           10.0   \n",
       "7   Married-civ-spouse        Craft-repair        f            9.0   \n",
       "8        Never-married       Other-service        F            4.0   \n",
       "9   Married-civ-spouse   Machine-op-inspct    FALSE            9.0   \n",
       "\n",
       "     relationship  capital-gain      education    fnlwgt  class  income  \\\n",
       "0         Husband           0.0   Some-college   32916.0    0.0   <=50K   \n",
       "1         Husband       15024.0    Prof-school  323798.0    0.0    >50K   \n",
       "2         Husband           0.0        HS-grad  116927.0    1.0    >50K   \n",
       "3         Husband           0.0   Some-college  206351.0    0.0   <=50K   \n",
       "4         Husband           0.0      Bachelors   37939.0    0.0   <=50K   \n",
       "5   Not-in-family           0.0        HS-grad  205934.0    1.0   <=50K   \n",
       "6         Husband           0.0   Some-college   33304.0    1.0    >50K   \n",
       "7         Husband        4386.0        HS-grad  160808.0    1.0   <=50K   \n",
       "8       Unmarried           0.0        7th-8th  202822.0    0.0   <=50K   \n",
       "9         Husband           0.0        HS-grad  144608.0    0.0   <=50K   \n",
       "\n",
       "                                        medical_info    native-country  \\\n",
       "0  {'mean_glucose':'129.6171875','std_glucose':'4...     United-States   \n",
       "1  {'mean_glucose':'100.546875','std_glucose':'39...     United-States   \n",
       "2  {'mean_glucose':'26.09375','std_glucose':'nan'...     United-States   \n",
       "3  {'mean_glucose':'113.0625','std_glucose':'42.8...     United-States   \n",
       "4  {'mean_glucose':'131.1328125','std_glucose':'4...     United-States   \n",
       "5  {'mean_glucose':'68.171875','std_glucose':'39....     United-States   \n",
       "6  {'mean_glucose':'57.984375','std_glucose':'34....     United-States   \n",
       "7  {'mean_glucose':'39.84375','std_glucose':'34.3...     United-States   \n",
       "8  {'mean_glucose':'120.6640625','std_glucose':'4...   Trinadad&Tobago   \n",
       "9  {'mean_glucose':'119.7890625','std_glucose':'4...     United-States   \n",
       "\n",
       "   hours-per-week  capital-loss          workclass  \n",
       "0            45.0           0.0            Private  \n",
       "1            55.0           0.0            Private  \n",
       "2            42.0           0.0       Self-emp-inc  \n",
       "3            40.0           0.0            Private  \n",
       "4            35.0           0.0   Self-emp-not-inc  \n",
       "5            25.0           0.0            Private  \n",
       "6            40.0           0.0            Private  \n",
       "7            48.0           0.0            Private  \n",
       "8            14.0           0.0            Private  \n",
       "9            40.0           0.0            Private  "
      ]
     },
     "execution_count": 24,
     "metadata": {},
     "output_type": "execute_result"
    }
   ],
   "source": [
    "other = pd.read_csv('other_train.csv')\n",
    "other.head(10)"
   ]
  },
  {
   "cell_type": "markdown",
   "metadata": {},
   "source": [
    "Výpis prvých 10 riadkov datasetu other_train.csv"
   ]
  },
  {
   "cell_type": "code",
   "execution_count": 25,
   "metadata": {},
   "outputs": [
    {
     "name": "stdout",
     "output_type": "stream",
     "text": [
      "<class 'pandas.core.frame.DataFrame'>\n",
      "RangeIndex: 3983 entries, 0 to 3982\n",
      "Data columns (total 19 columns):\n",
      " #   Column          Non-Null Count  Dtype  \n",
      "---  ------          --------------  -----  \n",
      " 0   Unnamed: 0      3983 non-null   int64  \n",
      " 1   name            3983 non-null   object \n",
      " 2   address         3983 non-null   object \n",
      " 3   race            3967 non-null   object \n",
      " 4   marital-status  3710 non-null   object \n",
      " 5   occupation      3965 non-null   object \n",
      " 6   pregnant        3967 non-null   object \n",
      " 7   education-num   3965 non-null   float64\n",
      " 8   relationship    3964 non-null   object \n",
      " 9   capital-gain    3963 non-null   float64\n",
      " 10  education       3967 non-null   object \n",
      " 11  fnlwgt          3969 non-null   float64\n",
      " 12  class           3968 non-null   float64\n",
      " 13  income          3966 non-null   object \n",
      " 14  medical_info    3968 non-null   object \n",
      " 15  native-country  3967 non-null   object \n",
      " 16  hours-per-week  3965 non-null   float64\n",
      " 17  capital-loss    3960 non-null   float64\n",
      " 18  workclass       3967 non-null   object \n",
      "dtypes: float64(6), int64(1), object(12)\n",
      "memory usage: 591.4+ KB\n"
     ]
    }
   ],
   "source": [
    "other.info()"
   ]
  },
  {
   "cell_type": "markdown",
   "metadata": {},
   "source": [
    "V datasete sa nachadzaju kategorické, reťazcové a číslené atribúty, pričom atribút medical_info obsahje v sebe json formát."
   ]
  },
  {
   "cell_type": "code",
   "execution_count": 26,
   "metadata": {},
   "outputs": [
    {
     "data": {
      "text/plain": [
       "(3983, 19)"
      ]
     },
     "execution_count": 26,
     "metadata": {},
     "output_type": "execute_result"
    }
   ],
   "source": [
    "other.shape"
   ]
  },
  {
   "cell_type": "markdown",
   "metadata": {},
   "source": [
    "V datasete môžeme nájsť 3983 riadkov a 19 atribútov s tým, že atribút medical_info je tvorený viacerými atribútmi a prvý atribút predstavuje index záznamu."
   ]
  },
  {
   "cell_type": "code",
   "execution_count": 27,
   "metadata": {},
   "outputs": [],
   "source": [
    "other = other.drop(columns=['Unnamed: 0'])"
   ]
  },
  {
   "cell_type": "markdown",
   "metadata": {},
   "source": [
    "Vymazanie nežiadúceho atribútu - číslovanie"
   ]
  },
  {
   "cell_type": "code",
   "execution_count": 28,
   "metadata": {},
   "outputs": [
    {
     "data": {
      "text/plain": [
       "334"
      ]
     },
     "execution_count": 28,
     "metadata": {},
     "output_type": "execute_result"
    }
   ],
   "source": [
    "other.shape[0] - other.dropna().shape[0]"
   ]
  },
  {
   "cell_type": "markdown",
   "metadata": {},
   "source": [
    "Počet záznamov s nulovými hodnotami je 334."
   ]
  },
  {
   "cell_type": "code",
   "execution_count": 29,
   "metadata": {},
   "outputs": [
    {
     "data": {
      "text/plain": [
       "name                0\n",
       "address             0\n",
       "race               16\n",
       "marital-status    273\n",
       "occupation         18\n",
       "pregnant           16\n",
       "education-num      18\n",
       "relationship       19\n",
       "capital-gain       20\n",
       "education          16\n",
       "fnlwgt             14\n",
       "class              15\n",
       "income             17\n",
       "medical_info       15\n",
       "native-country     16\n",
       "hours-per-week     18\n",
       "capital-loss       23\n",
       "workclass          16\n",
       "dtype: int64"
      ]
     },
     "execution_count": 29,
     "metadata": {},
     "output_type": "execute_result"
    }
   ],
   "source": [
    "other.isnull().sum()"
   ]
  },
  {
   "cell_type": "markdown",
   "metadata": {},
   "source": [
    "Výpis počtu prázdnych hodnôt pre jednotlivé atribúty."
   ]
  },
  {
   "cell_type": "code",
   "execution_count": 30,
   "metadata": {},
   "outputs": [
    {
     "data": {
      "text/plain": [
       "530"
      ]
     },
     "execution_count": 30,
     "metadata": {},
     "output_type": "execute_result"
    }
   ],
   "source": [
    "other.isnull().sum().sum()"
   ]
  },
  {
   "cell_type": "markdown",
   "metadata": {},
   "source": [
    "Celkovo je v datasete 530 chýbajúcich hodnôt, avšak, je to bez rozdelenia atribútu medical_info."
   ]
  },
  {
   "cell_type": "code",
   "execution_count": 32,
   "metadata": {},
   "outputs": [
    {
     "data": {
      "text/plain": [
       "8"
      ]
     },
     "execution_count": 32,
     "metadata": {},
     "output_type": "execute_result"
    }
   ],
   "source": [
    "columns = eval(other.medical_info[0])\n",
    "len(columns)"
   ]
  },
  {
   "cell_type": "markdown",
   "metadata": {},
   "source": [
    "Atribút medical_info v sebe obsahuje ďalších 8 atribútov."
   ]
  },
  {
   "cell_type": "code",
   "execution_count": 33,
   "metadata": {},
   "outputs": [],
   "source": [
    "for i in range(len(other)):\n",
    "    data = other.medical_info[i]\n",
    "    if str(data) == 'nan':\n",
    "        j ={'mean_glucose': np.nan,\n",
    "             'std_glucose': np.nan,\n",
    "             'kurtosis_glucose': np.nan,\n",
    "             'skewness_glucose': np.nan,\n",
    "             'mean_oxygen': np.nan,\n",
    "             'std_oxygen': np.nan,\n",
    "             'kurtosis_oxygen': np.nan,\n",
    "             'skewness_oxygen': np.nan}\n",
    "    else:\n",
    "        j = eval(str(data))\n",
    "    other.at[i,'mean_glucose'] = float(j['mean_glucose'])\n",
    "    other.at[i,'std_glucose'] = float(j['std_glucose'])\n",
    "    other.at[i,'kurtosis_glucose'] = float(j['kurtosis_glucose'])\n",
    "    other.at[i,'skewness_glucose'] = float(j['skewness_glucose'])\n",
    "    other.at[i,'mean_oxygen'] = float(j['mean_oxygen'])\n",
    "    other.at[i,'std_oxygen'] = float(j['std_oxygen'])\n",
    "    other.at[i,'kurtosis_oxygen'] = float(j['kurtosis_oxygen'])\n",
    "    other.at[i,'skewness_oxygen'] = float(j['skewness_oxygen'])"
   ]
  },
  {
   "cell_type": "code",
   "execution_count": 34,
   "metadata": {},
   "outputs": [],
   "source": [
    "other = other.drop(columns=['medical_info'])"
   ]
  },
  {
   "cell_type": "markdown",
   "metadata": {},
   "source": [
    "Aby sme vedeli pracovať so všetkými atribútmi je potrebné rozdelenie atribútu \"medical_info\" na jednotlivé atribúty a zmazanie pôvodného atribútu \"medical_info\"."
   ]
  },
  {
   "cell_type": "code",
   "execution_count": 35,
   "metadata": {},
   "outputs": [
    {
     "data": {
      "text/html": [
       "<div>\n",
       "<style scoped>\n",
       "    .dataframe tbody tr th:only-of-type {\n",
       "        vertical-align: middle;\n",
       "    }\n",
       "\n",
       "    .dataframe tbody tr th {\n",
       "        vertical-align: top;\n",
       "    }\n",
       "\n",
       "    .dataframe thead th {\n",
       "        text-align: right;\n",
       "    }\n",
       "</style>\n",
       "<table border=\"1\" class=\"dataframe\">\n",
       "  <thead>\n",
       "    <tr style=\"text-align: right;\">\n",
       "      <th></th>\n",
       "      <th>name</th>\n",
       "      <th>address</th>\n",
       "      <th>race</th>\n",
       "      <th>marital-status</th>\n",
       "      <th>occupation</th>\n",
       "      <th>pregnant</th>\n",
       "      <th>education-num</th>\n",
       "      <th>relationship</th>\n",
       "      <th>capital-gain</th>\n",
       "      <th>education</th>\n",
       "      <th>...</th>\n",
       "      <th>capital-loss</th>\n",
       "      <th>workclass</th>\n",
       "      <th>mean_glucose</th>\n",
       "      <th>std_glucose</th>\n",
       "      <th>kurtosis_glucose</th>\n",
       "      <th>skewness_glucose</th>\n",
       "      <th>mean_oxygen</th>\n",
       "      <th>std_oxygen</th>\n",
       "      <th>kurtosis_oxygen</th>\n",
       "      <th>skewness_oxygen</th>\n",
       "    </tr>\n",
       "  </thead>\n",
       "  <tbody>\n",
       "    <tr>\n",
       "      <th>0</th>\n",
       "      <td>Nelson Dupas</td>\n",
       "      <td>USS Wagner\\r\\nFPO AP 75518</td>\n",
       "      <td>White</td>\n",
       "      <td>Married-civ-spouse</td>\n",
       "      <td>Exec-managerial</td>\n",
       "      <td>f</td>\n",
       "      <td>10.0</td>\n",
       "      <td>Husband</td>\n",
       "      <td>0.0</td>\n",
       "      <td>Some-college</td>\n",
       "      <td>...</td>\n",
       "      <td>0.0</td>\n",
       "      <td>Private</td>\n",
       "      <td>129.617188</td>\n",
       "      <td>47.774392</td>\n",
       "      <td>0.114308</td>\n",
       "      <td>0.066342</td>\n",
       "      <td>2.135452</td>\n",
       "      <td>14.168363</td>\n",
       "      <td>10.458148</td>\n",
       "      <td>139.089149</td>\n",
       "    </tr>\n",
       "    <tr>\n",
       "      <th>1</th>\n",
       "      <td>Jeremy Helfrich</td>\n",
       "      <td>0611 Jones Cliffs\\r\\nPort Kevin, AR 87203</td>\n",
       "      <td>White</td>\n",
       "      <td>Married-civ-spouse</td>\n",
       "      <td>Prof-specialty</td>\n",
       "      <td>f</td>\n",
       "      <td>15.0</td>\n",
       "      <td>Husband</td>\n",
       "      <td>15024.0</td>\n",
       "      <td>Prof-school</td>\n",
       "      <td>...</td>\n",
       "      <td>0.0</td>\n",
       "      <td>Private</td>\n",
       "      <td>100.546875</td>\n",
       "      <td>39.419193</td>\n",
       "      <td>0.519220</td>\n",
       "      <td>0.793882</td>\n",
       "      <td>3.300167</td>\n",
       "      <td>20.301145</td>\n",
       "      <td>7.566061</td>\n",
       "      <td>63.827315</td>\n",
       "    </tr>\n",
       "    <tr>\n",
       "      <th>2</th>\n",
       "      <td>Luis Burdick</td>\n",
       "      <td>116 Wallace Meadow Suite 259\\r\\nPort Jenniferb...</td>\n",
       "      <td>White</td>\n",
       "      <td>Married-civ-spouse</td>\n",
       "      <td>Exec-managerial</td>\n",
       "      <td>f</td>\n",
       "      <td>9.0</td>\n",
       "      <td>Husband</td>\n",
       "      <td>0.0</td>\n",
       "      <td>HS-grad</td>\n",
       "      <td>...</td>\n",
       "      <td>0.0</td>\n",
       "      <td>Self-emp-inc</td>\n",
       "      <td>26.093750</td>\n",
       "      <td>NaN</td>\n",
       "      <td>5.067584</td>\n",
       "      <td>28.013690</td>\n",
       "      <td>26.015050</td>\n",
       "      <td>52.619602</td>\n",
       "      <td>2.345710</td>\n",
       "      <td>5.245282</td>\n",
       "    </tr>\n",
       "    <tr>\n",
       "      <th>3</th>\n",
       "      <td>Marion Bursey</td>\n",
       "      <td>85508 Martin Villages\\r\\nJonathanshire, AL 29047</td>\n",
       "      <td>White</td>\n",
       "      <td>Married-civ-spouse</td>\n",
       "      <td>Sales</td>\n",
       "      <td>f</td>\n",
       "      <td>10.0</td>\n",
       "      <td>Husband</td>\n",
       "      <td>0.0</td>\n",
       "      <td>Some-college</td>\n",
       "      <td>...</td>\n",
       "      <td>0.0</td>\n",
       "      <td>Private</td>\n",
       "      <td>113.062500</td>\n",
       "      <td>42.812226</td>\n",
       "      <td>0.231768</td>\n",
       "      <td>0.540982</td>\n",
       "      <td>1.731605</td>\n",
       "      <td>11.762521</td>\n",
       "      <td>11.964837</td>\n",
       "      <td>203.090244</td>\n",
       "    </tr>\n",
       "    <tr>\n",
       "      <th>4</th>\n",
       "      <td>Allen Brickley</td>\n",
       "      <td>58775 Thomas Mills Apt. 873\\r\\nLake Richardhav...</td>\n",
       "      <td>White</td>\n",
       "      <td>Married-civ-spouse</td>\n",
       "      <td>Craft-repair</td>\n",
       "      <td>f</td>\n",
       "      <td>13.0</td>\n",
       "      <td>Husband</td>\n",
       "      <td>0.0</td>\n",
       "      <td>Bachelors</td>\n",
       "      <td>...</td>\n",
       "      <td>0.0</td>\n",
       "      <td>Self-emp-not-inc</td>\n",
       "      <td>131.132812</td>\n",
       "      <td>46.648682</td>\n",
       "      <td>0.334587</td>\n",
       "      <td>0.566602</td>\n",
       "      <td>2.887124</td>\n",
       "      <td>21.377515</td>\n",
       "      <td>8.207284</td>\n",
       "      <td>71.573546</td>\n",
       "    </tr>\n",
       "  </tbody>\n",
       "</table>\n",
       "<p>5 rows × 25 columns</p>\n",
       "</div>"
      ],
      "text/plain": [
       "              name                                            address    race  \\\n",
       "0     Nelson Dupas                         USS Wagner\\r\\nFPO AP 75518   White   \n",
       "1  Jeremy Helfrich          0611 Jones Cliffs\\r\\nPort Kevin, AR 87203   White   \n",
       "2     Luis Burdick  116 Wallace Meadow Suite 259\\r\\nPort Jenniferb...   White   \n",
       "3    Marion Bursey   85508 Martin Villages\\r\\nJonathanshire, AL 29047   White   \n",
       "4   Allen Brickley  58775 Thomas Mills Apt. 873\\r\\nLake Richardhav...   White   \n",
       "\n",
       "        marital-status        occupation pregnant  education-num relationship  \\\n",
       "0   Married-civ-spouse   Exec-managerial        f           10.0      Husband   \n",
       "1   Married-civ-spouse    Prof-specialty        f           15.0      Husband   \n",
       "2   Married-civ-spouse   Exec-managerial        f            9.0      Husband   \n",
       "3   Married-civ-spouse             Sales        f           10.0      Husband   \n",
       "4   Married-civ-spouse      Craft-repair        f           13.0      Husband   \n",
       "\n",
       "   capital-gain      education  ...  capital-loss          workclass  \\\n",
       "0           0.0   Some-college  ...           0.0            Private   \n",
       "1       15024.0    Prof-school  ...           0.0            Private   \n",
       "2           0.0        HS-grad  ...           0.0       Self-emp-inc   \n",
       "3           0.0   Some-college  ...           0.0            Private   \n",
       "4           0.0      Bachelors  ...           0.0   Self-emp-not-inc   \n",
       "\n",
       "  mean_glucose std_glucose  kurtosis_glucose  skewness_glucose mean_oxygen  \\\n",
       "0   129.617188   47.774392          0.114308          0.066342    2.135452   \n",
       "1   100.546875   39.419193          0.519220          0.793882    3.300167   \n",
       "2    26.093750         NaN          5.067584         28.013690   26.015050   \n",
       "3   113.062500   42.812226          0.231768          0.540982    1.731605   \n",
       "4   131.132812   46.648682          0.334587          0.566602    2.887124   \n",
       "\n",
       "   std_oxygen  kurtosis_oxygen  skewness_oxygen  \n",
       "0   14.168363        10.458148       139.089149  \n",
       "1   20.301145         7.566061        63.827315  \n",
       "2   52.619602         2.345710         5.245282  \n",
       "3   11.762521        11.964837       203.090244  \n",
       "4   21.377515         8.207284        71.573546  \n",
       "\n",
       "[5 rows x 25 columns]"
      ]
     },
     "execution_count": 35,
     "metadata": {},
     "output_type": "execute_result"
    }
   ],
   "source": [
    "other.head()"
   ]
  },
  {
   "cell_type": "markdown",
   "metadata": {},
   "source": [
    "Výpis prvých piatich záznamov už upraveného datasetu."
   ]
  },
  {
   "cell_type": "code",
   "execution_count": 36,
   "metadata": {},
   "outputs": [
    {
     "data": {
      "text/plain": [
       "name                  0\n",
       "address               0\n",
       "race                 16\n",
       "marital-status      273\n",
       "occupation           18\n",
       "pregnant             16\n",
       "education-num        18\n",
       "relationship         19\n",
       "capital-gain         20\n",
       "education            16\n",
       "fnlwgt               14\n",
       "class                15\n",
       "income               17\n",
       "native-country       16\n",
       "hours-per-week       18\n",
       "capital-loss         23\n",
       "workclass            16\n",
       "mean_glucose         15\n",
       "std_glucose         414\n",
       "kurtosis_glucose     15\n",
       "skewness_glucose     15\n",
       "mean_oxygen          15\n",
       "std_oxygen           15\n",
       "kurtosis_oxygen      15\n",
       "skewness_oxygen      15\n",
       "dtype: int64"
      ]
     },
     "execution_count": 36,
     "metadata": {},
     "output_type": "execute_result"
    }
   ],
   "source": [
    "other.isnull().sum()"
   ]
  },
  {
   "cell_type": "code",
   "execution_count": 25,
   "metadata": {},
   "outputs": [
    {
     "data": {
      "text/plain": [
       "1034"
      ]
     },
     "execution_count": 25,
     "metadata": {},
     "output_type": "execute_result"
    }
   ],
   "source": [
    "other.isnull().sum().sum()"
   ]
  },
  {
   "cell_type": "markdown",
   "metadata": {},
   "source": [
    "Výpis počtu prázdnych hodnot v jednotlivych atribútoch a celkovy súčet je 1034."
   ]
  },
  {
   "cell_type": "code",
   "execution_count": 37,
   "metadata": {},
   "outputs": [
    {
     "name": "stdout",
     "output_type": "stream",
     "text": [
      "<class 'pandas.core.frame.DataFrame'>\n",
      "RangeIndex: 3983 entries, 0 to 3982\n",
      "Data columns (total 25 columns):\n",
      " #   Column            Non-Null Count  Dtype  \n",
      "---  ------            --------------  -----  \n",
      " 0   name              3983 non-null   object \n",
      " 1   address           3983 non-null   object \n",
      " 2   race              3967 non-null   object \n",
      " 3   marital-status    3710 non-null   object \n",
      " 4   occupation        3965 non-null   object \n",
      " 5   pregnant          3967 non-null   object \n",
      " 6   education-num     3965 non-null   float64\n",
      " 7   relationship      3964 non-null   object \n",
      " 8   capital-gain      3963 non-null   float64\n",
      " 9   education         3967 non-null   object \n",
      " 10  fnlwgt            3969 non-null   float64\n",
      " 11  class             3968 non-null   float64\n",
      " 12  income            3966 non-null   object \n",
      " 13  native-country    3967 non-null   object \n",
      " 14  hours-per-week    3965 non-null   float64\n",
      " 15  capital-loss      3960 non-null   float64\n",
      " 16  workclass         3967 non-null   object \n",
      " 17  mean_glucose      3968 non-null   float64\n",
      " 18  std_glucose       3569 non-null   float64\n",
      " 19  kurtosis_glucose  3968 non-null   float64\n",
      " 20  skewness_glucose  3968 non-null   float64\n",
      " 21  mean_oxygen       3968 non-null   float64\n",
      " 22  std_oxygen        3968 non-null   float64\n",
      " 23  kurtosis_oxygen   3968 non-null   float64\n",
      " 24  skewness_oxygen   3968 non-null   float64\n",
      "dtypes: float64(14), object(11)\n",
      "memory usage: 778.1+ KB\n"
     ]
    }
   ],
   "source": [
    "other.info()"
   ]
  },
  {
   "cell_type": "markdown",
   "metadata": {},
   "source": [
    "Dataset má 2 typy premennych - float, object, pričom sú to kategorické, číselné a reťažcové atribúty."
   ]
  },
  {
   "cell_type": "code",
   "execution_count": 38,
   "metadata": {},
   "outputs": [
    {
     "data": {
      "text/plain": [
       "(3983, 25)"
      ]
     },
     "execution_count": 38,
     "metadata": {},
     "output_type": "execute_result"
    }
   ],
   "source": [
    "other.shape"
   ]
  },
  {
   "cell_type": "markdown",
   "metadata": {},
   "source": [
    "Novo-vytvorený dataset má 3983 riadkov a 25 atribútov."
   ]
  },
  {
   "cell_type": "code",
   "execution_count": 39,
   "metadata": {},
   "outputs": [
    {
     "data": {
      "text/html": [
       "<div>\n",
       "<style scoped>\n",
       "    .dataframe tbody tr th:only-of-type {\n",
       "        vertical-align: middle;\n",
       "    }\n",
       "\n",
       "    .dataframe tbody tr th {\n",
       "        vertical-align: top;\n",
       "    }\n",
       "\n",
       "    .dataframe thead th {\n",
       "        text-align: right;\n",
       "    }\n",
       "</style>\n",
       "<table border=\"1\" class=\"dataframe\">\n",
       "  <thead>\n",
       "    <tr style=\"text-align: right;\">\n",
       "      <th></th>\n",
       "      <th>education-num</th>\n",
       "      <th>capital-gain</th>\n",
       "      <th>fnlwgt</th>\n",
       "      <th>class</th>\n",
       "      <th>hours-per-week</th>\n",
       "      <th>capital-loss</th>\n",
       "      <th>mean_glucose</th>\n",
       "      <th>std_glucose</th>\n",
       "      <th>kurtosis_glucose</th>\n",
       "      <th>skewness_glucose</th>\n",
       "      <th>mean_oxygen</th>\n",
       "      <th>std_oxygen</th>\n",
       "      <th>kurtosis_oxygen</th>\n",
       "      <th>skewness_oxygen</th>\n",
       "    </tr>\n",
       "  </thead>\n",
       "  <tbody>\n",
       "    <tr>\n",
       "      <th>count</th>\n",
       "      <td>3965.000000</td>\n",
       "      <td>3963.000000</td>\n",
       "      <td>3969.000000</td>\n",
       "      <td>3968.000000</td>\n",
       "      <td>3965.000000</td>\n",
       "      <td>3960.000000</td>\n",
       "      <td>3968.000000</td>\n",
       "      <td>3569.000000</td>\n",
       "      <td>3968.000000</td>\n",
       "      <td>3968.000000</td>\n",
       "      <td>3968.000000</td>\n",
       "      <td>3968.000000</td>\n",
       "      <td>3968.000000</td>\n",
       "      <td>3968.000000</td>\n",
       "    </tr>\n",
       "    <tr>\n",
       "      <th>mean</th>\n",
       "      <td>10.115763</td>\n",
       "      <td>1069.521827</td>\n",
       "      <td>189374.662383</td>\n",
       "      <td>0.256552</td>\n",
       "      <td>40.406305</td>\n",
       "      <td>76.721212</td>\n",
       "      <td>101.216507</td>\n",
       "      <td>45.149233</td>\n",
       "      <td>0.954596</td>\n",
       "      <td>4.241261</td>\n",
       "      <td>18.467885</td>\n",
       "      <td>31.172996</td>\n",
       "      <td>7.410578</td>\n",
       "      <td>91.257886</td>\n",
       "    </tr>\n",
       "    <tr>\n",
       "      <th>std</th>\n",
       "      <td>2.568333</td>\n",
       "      <td>7353.525505</td>\n",
       "      <td>105318.658007</td>\n",
       "      <td>0.436785</td>\n",
       "      <td>12.375377</td>\n",
       "      <td>387.449247</td>\n",
       "      <td>33.590085</td>\n",
       "      <td>7.595777</td>\n",
       "      <td>1.613398</td>\n",
       "      <td>9.696736</td>\n",
       "      <td>34.747837</td>\n",
       "      <td>22.294108</td>\n",
       "      <td>4.809258</td>\n",
       "      <td>108.411705</td>\n",
       "    </tr>\n",
       "    <tr>\n",
       "      <th>min</th>\n",
       "      <td>1.000000</td>\n",
       "      <td>0.000000</td>\n",
       "      <td>19410.000000</td>\n",
       "      <td>0.000000</td>\n",
       "      <td>2.000000</td>\n",
       "      <td>0.000000</td>\n",
       "      <td>6.187500</td>\n",
       "      <td>25.695250</td>\n",
       "      <td>-1.641515</td>\n",
       "      <td>-1.755332</td>\n",
       "      <td>0.213211</td>\n",
       "      <td>7.370432</td>\n",
       "      <td>-2.597872</td>\n",
       "      <td>-1.976976</td>\n",
       "    </tr>\n",
       "    <tr>\n",
       "      <th>25%</th>\n",
       "      <td>9.000000</td>\n",
       "      <td>0.000000</td>\n",
       "      <td>120067.000000</td>\n",
       "      <td>0.000000</td>\n",
       "      <td>40.000000</td>\n",
       "      <td>0.000000</td>\n",
       "      <td>87.544922</td>\n",
       "      <td>40.165726</td>\n",
       "      <td>0.072000</td>\n",
       "      <td>-0.120593</td>\n",
       "      <td>2.063127</td>\n",
       "      <td>15.029585</td>\n",
       "      <td>3.631263</td>\n",
       "      <td>12.830509</td>\n",
       "    </tr>\n",
       "    <tr>\n",
       "      <th>50%</th>\n",
       "      <td>10.000000</td>\n",
       "      <td>0.000000</td>\n",
       "      <td>179973.000000</td>\n",
       "      <td>0.000000</td>\n",
       "      <td>40.000000</td>\n",
       "      <td>0.000000</td>\n",
       "      <td>110.644531</td>\n",
       "      <td>45.835260</td>\n",
       "      <td>0.311577</td>\n",
       "      <td>0.379008</td>\n",
       "      <td>3.229933</td>\n",
       "      <td>20.551260</td>\n",
       "      <td>7.783017</td>\n",
       "      <td>68.505049</td>\n",
       "    </tr>\n",
       "    <tr>\n",
       "      <th>75%</th>\n",
       "      <td>12.000000</td>\n",
       "      <td>0.000000</td>\n",
       "      <td>232855.000000</td>\n",
       "      <td>1.000000</td>\n",
       "      <td>45.000000</td>\n",
       "      <td>0.000000</td>\n",
       "      <td>124.160156</td>\n",
       "      <td>50.264680</td>\n",
       "      <td>0.788435</td>\n",
       "      <td>2.107509</td>\n",
       "      <td>12.652383</td>\n",
       "      <td>43.255617</td>\n",
       "      <td>10.269058</td>\n",
       "      <td>127.017151</td>\n",
       "    </tr>\n",
       "    <tr>\n",
       "      <th>max</th>\n",
       "      <td>16.000000</td>\n",
       "      <td>99999.000000</td>\n",
       "      <td>889965.000000</td>\n",
       "      <td>1.000000</td>\n",
       "      <td>99.000000</td>\n",
       "      <td>4356.000000</td>\n",
       "      <td>189.734375</td>\n",
       "      <td>91.206475</td>\n",
       "      <td>8.069522</td>\n",
       "      <td>68.101622</td>\n",
       "      <td>217.371238</td>\n",
       "      <td>110.642211</td>\n",
       "      <td>34.539844</td>\n",
       "      <td>1191.000837</td>\n",
       "    </tr>\n",
       "  </tbody>\n",
       "</table>\n",
       "</div>"
      ],
      "text/plain": [
       "       education-num  capital-gain         fnlwgt        class  \\\n",
       "count    3965.000000   3963.000000    3969.000000  3968.000000   \n",
       "mean       10.115763   1069.521827  189374.662383     0.256552   \n",
       "std         2.568333   7353.525505  105318.658007     0.436785   \n",
       "min         1.000000      0.000000   19410.000000     0.000000   \n",
       "25%         9.000000      0.000000  120067.000000     0.000000   \n",
       "50%        10.000000      0.000000  179973.000000     0.000000   \n",
       "75%        12.000000      0.000000  232855.000000     1.000000   \n",
       "max        16.000000  99999.000000  889965.000000     1.000000   \n",
       "\n",
       "       hours-per-week  capital-loss  mean_glucose  std_glucose  \\\n",
       "count     3965.000000   3960.000000   3968.000000  3569.000000   \n",
       "mean        40.406305     76.721212    101.216507    45.149233   \n",
       "std         12.375377    387.449247     33.590085     7.595777   \n",
       "min          2.000000      0.000000      6.187500    25.695250   \n",
       "25%         40.000000      0.000000     87.544922    40.165726   \n",
       "50%         40.000000      0.000000    110.644531    45.835260   \n",
       "75%         45.000000      0.000000    124.160156    50.264680   \n",
       "max         99.000000   4356.000000    189.734375    91.206475   \n",
       "\n",
       "       kurtosis_glucose  skewness_glucose  mean_oxygen   std_oxygen  \\\n",
       "count       3968.000000       3968.000000  3968.000000  3968.000000   \n",
       "mean           0.954596          4.241261    18.467885    31.172996   \n",
       "std            1.613398          9.696736    34.747837    22.294108   \n",
       "min           -1.641515         -1.755332     0.213211     7.370432   \n",
       "25%            0.072000         -0.120593     2.063127    15.029585   \n",
       "50%            0.311577          0.379008     3.229933    20.551260   \n",
       "75%            0.788435          2.107509    12.652383    43.255617   \n",
       "max            8.069522         68.101622   217.371238   110.642211   \n",
       "\n",
       "       kurtosis_oxygen  skewness_oxygen  \n",
       "count      3968.000000      3968.000000  \n",
       "mean          7.410578        91.257886  \n",
       "std           4.809258       108.411705  \n",
       "min          -2.597872        -1.976976  \n",
       "25%           3.631263        12.830509  \n",
       "50%           7.783017        68.505049  \n",
       "75%          10.269058       127.017151  \n",
       "max          34.539844      1191.000837  "
      ]
     },
     "execution_count": 39,
     "metadata": {},
     "output_type": "execute_result"
    }
   ],
   "source": [
    "other.describe()"
   ]
  },
  {
   "cell_type": "markdown",
   "metadata": {},
   "source": [
    "Výpis deskriptivnych štatistík číselných atribútov.\n",
    "\n",
    "Na základe tejto štatistiky vieme určiť priemerné hodnoty, štandardné odchýlky, kvartily, minimálne a maximálne hodnoty pre číselné atribúty."
   ]
  },
  {
   "cell_type": "code",
   "execution_count": 40,
   "metadata": {},
   "outputs": [
    {
     "data": {
      "text/html": [
       "<div>\n",
       "<style scoped>\n",
       "    .dataframe tbody tr th:only-of-type {\n",
       "        vertical-align: middle;\n",
       "    }\n",
       "\n",
       "    .dataframe tbody tr th {\n",
       "        vertical-align: top;\n",
       "    }\n",
       "\n",
       "    .dataframe thead th {\n",
       "        text-align: right;\n",
       "    }\n",
       "</style>\n",
       "<table border=\"1\" class=\"dataframe\">\n",
       "  <thead>\n",
       "    <tr style=\"text-align: right;\">\n",
       "      <th></th>\n",
       "      <th>name</th>\n",
       "      <th>address</th>\n",
       "      <th>race</th>\n",
       "      <th>marital-status</th>\n",
       "      <th>occupation</th>\n",
       "      <th>pregnant</th>\n",
       "      <th>relationship</th>\n",
       "      <th>education</th>\n",
       "      <th>income</th>\n",
       "      <th>native-country</th>\n",
       "      <th>workclass</th>\n",
       "    </tr>\n",
       "  </thead>\n",
       "  <tbody>\n",
       "    <tr>\n",
       "      <th>count</th>\n",
       "      <td>3983</td>\n",
       "      <td>3983</td>\n",
       "      <td>3967</td>\n",
       "      <td>3710</td>\n",
       "      <td>3965</td>\n",
       "      <td>3967</td>\n",
       "      <td>3964</td>\n",
       "      <td>3967</td>\n",
       "      <td>3966</td>\n",
       "      <td>3967</td>\n",
       "      <td>3967</td>\n",
       "    </tr>\n",
       "    <tr>\n",
       "      <th>unique</th>\n",
       "      <td>3933</td>\n",
       "      <td>3933</td>\n",
       "      <td>5</td>\n",
       "      <td>8</td>\n",
       "      <td>15</td>\n",
       "      <td>6</td>\n",
       "      <td>9</td>\n",
       "      <td>16</td>\n",
       "      <td>2</td>\n",
       "      <td>39</td>\n",
       "      <td>15</td>\n",
       "    </tr>\n",
       "    <tr>\n",
       "      <th>top</th>\n",
       "      <td>Nick Fried</td>\n",
       "      <td>Unit 9169 Box 4422\\r\\nDPO AP 27992</td>\n",
       "      <td>White</td>\n",
       "      <td>Married-civ-spouse</td>\n",
       "      <td>Prof-specialty</td>\n",
       "      <td>f</td>\n",
       "      <td>Husband</td>\n",
       "      <td>HS-grad</td>\n",
       "      <td>&lt;=50K</td>\n",
       "      <td>United-States</td>\n",
       "      <td>Private</td>\n",
       "    </tr>\n",
       "    <tr>\n",
       "      <th>freq</th>\n",
       "      <td>3</td>\n",
       "      <td>3</td>\n",
       "      <td>3394</td>\n",
       "      <td>1620</td>\n",
       "      <td>528</td>\n",
       "      <td>3500</td>\n",
       "      <td>1590</td>\n",
       "      <td>1279</td>\n",
       "      <td>3002</td>\n",
       "      <td>3559</td>\n",
       "      <td>2496</td>\n",
       "    </tr>\n",
       "  </tbody>\n",
       "</table>\n",
       "</div>"
      ],
      "text/plain": [
       "              name                             address    race  \\\n",
       "count         3983                                3983    3967   \n",
       "unique        3933                                3933       5   \n",
       "top     Nick Fried  Unit 9169 Box 4422\\r\\nDPO AP 27992   White   \n",
       "freq             3                                   3    3394   \n",
       "\n",
       "             marital-status       occupation pregnant relationship education  \\\n",
       "count                  3710             3965     3967         3964      3967   \n",
       "unique                    8               15        6            9        16   \n",
       "top      Married-civ-spouse   Prof-specialty        f      Husband   HS-grad   \n",
       "freq                   1620              528     3500         1590      1279   \n",
       "\n",
       "        income  native-country workclass  \n",
       "count     3966            3967      3967  \n",
       "unique       2              39        15  \n",
       "top      <=50K   United-States   Private  \n",
       "freq      3002            3559      2496  "
      ]
     },
     "execution_count": 40,
     "metadata": {},
     "output_type": "execute_result"
    }
   ],
   "source": [
    "other.describe(include=[object])"
   ]
  },
  {
   "cell_type": "markdown",
   "metadata": {},
   "source": [
    "Výpis deskriptívnych štatistík atribútov, ktoré nie sú číselné.\n",
    "\n",
    "Na základe tejto štatistiky vieme určiť počet unikátnych hodnôt, najčastejšiu hodnotu a jej frekvenciu. Na základe tejto tabuľky vidíme, že podľa mena máme v datasete 50 duplikátov, najčastejšou rasou je White. Ďalej vidíme, že pregnant obsahuje 6 unikátnych hodnôt, avšak podľa správnosti by mala obsahovať len 2."
   ]
  },
  {
   "cell_type": "code",
   "execution_count": 41,
   "metadata": {},
   "outputs": [
    {
     "data": {
      "text/plain": [
       "50"
      ]
     },
     "execution_count": 41,
     "metadata": {},
     "output_type": "execute_result"
    }
   ],
   "source": [
    "len(other[other.name.duplicated()])"
   ]
  },
  {
   "cell_type": "markdown",
   "metadata": {},
   "source": [
    "Počet duplikátov podľa mena je 50, tak ako sme zistili predtým.\n",
    "\n",
    "**Pozrieť sa na duplicity, či ide len o meno.**\n",
    "\n",
    "### Významné atribúty\n",
    "\n",
    "#### Atribút race"
   ]
  },
  {
   "cell_type": "code",
   "execution_count": 30,
   "metadata": {},
   "outputs": [
    {
     "data": {
      "text/plain": [
       "<AxesSubplot:>"
      ]
     },
     "execution_count": 30,
     "metadata": {},
     "output_type": "execute_result"
    },
    {
     "data": {
      "image/png": "[encoded data removed]",
      "text/plain": [
       "<Figure size 432x288 with 1 Axes>"
      ]
     },
     "metadata": {
      "needs_background": "light"
     },
     "output_type": "display_data"
    }
   ],
   "source": [
    "other.race.value_counts().plot.bar()"
   ]
  },
  {
   "cell_type": "code",
   "execution_count": 31,
   "metadata": {},
   "outputs": [
    {
     "data": {
      "text/plain": [
       "16"
      ]
     },
     "execution_count": 31,
     "metadata": {},
     "output_type": "execute_result"
    }
   ],
   "source": [
    "other.race.isnull().sum()"
   ]
  },
  {
   "cell_type": "markdown",
   "metadata": {},
   "source": [
    "Analyzovanie rás v danom datasete, prevláda biela rasa a máme 16 prázdnych hodnôt\n",
    "\n",
    "#### Atribút pregnant"
   ]
  },
  {
   "cell_type": "code",
   "execution_count": 37,
   "metadata": {},
   "outputs": [
    {
     "data": {
      "text/plain": [
       "array(['f', 'F', 'FALSE', 't', nan, 'TRUE', 'T'], dtype=object)"
      ]
     },
     "execution_count": 37,
     "metadata": {},
     "output_type": "execute_result"
    }
   ],
   "source": [
    "other.pregnant.unique()"
   ]
  },
  {
   "cell_type": "code",
   "execution_count": 38,
   "metadata": {},
   "outputs": [],
   "source": [
    "def unify(p):\n",
    "    if p in ['f','F','FALSE']:\n",
    "        return False\n",
    "    if p in ['t','T','TRUE']:\n",
    "        return True\n",
    "    else:\n",
    "        return np.nan\n",
    "\n",
    "other.pregnant = other.pregnant.apply(unify)"
   ]
  },
  {
   "cell_type": "code",
   "execution_count": 39,
   "metadata": {},
   "outputs": [
    {
     "data": {
      "text/plain": [
       "<AxesSubplot:>"
      ]
     },
     "execution_count": 39,
     "metadata": {},
     "output_type": "execute_result"
    },
    {
     "data": {
      "image/png": "[encoded data removed]",
      "text/plain": [
       "<Figure size 432x288 with 1 Axes>"
      ]
     },
     "metadata": {
      "needs_background": "light"
     },
     "output_type": "display_data"
    }
   ],
   "source": [
    "other.pregnant.value_counts().plot.bar()"
   ]
  },
  {
   "cell_type": "code",
   "execution_count": 40,
   "metadata": {},
   "outputs": [
    {
     "data": {
      "text/plain": [
       "16"
      ]
     },
     "execution_count": 40,
     "metadata": {},
     "output_type": "execute_result"
    }
   ],
   "source": [
    "other.pregnant.isnull().sum()"
   ]
  },
  {
   "cell_type": "markdown",
   "metadata": {},
   "source": [
    "Keďže v atribúte pregnant sa vyskytovali viaceré hodnoty, ktorých výpovedna hodnota bola rovnaká, no bola inak napísaná, zmenili sme ich na jednotné, vyskytoval sa už iba True, False alebo NaN a zistili sme, že je menej tehotných exemplárov a 16 hodnôt je chýbajúcich.\n",
    "\n",
    "#### Atribút fnlwgt"
   ]
  },
  {
   "cell_type": "code",
   "execution_count": 43,
   "metadata": {},
   "outputs": [
    {
     "name": "stderr",
     "output_type": "stream",
     "text": [
      "d:\\users\\ivan\\fiit\\5.semester\\iau\\python\\xvykopal\\lib\\site-packages\\seaborn\\distributions.py:2551: FutureWarning: `distplot` is a deprecated function and will be removed in a future version. Please adapt your code to use either `displot` (a figure-level function with similar flexibility) or `histplot` (an axes-level function for histograms).\n",
      "  warnings.warn(msg, FutureWarning)\n"
     ]
    },
    {
     "data": {
      "text/plain": [
       "<AxesSubplot:xlabel='fnlwgt', ylabel='Density'>"
      ]
     },
     "execution_count": 43,
     "metadata": {},
     "output_type": "execute_result"
    },
    {
     "data": {
      "image/png": "[encoded data removed]",
      "text/plain": [
       "<Figure size 432x288 with 1 Axes>"
      ]
     },
     "metadata": {
      "needs_background": "light"
     },
     "output_type": "display_data"
    }
   ],
   "source": [
    "sns.distplot(other['fnlwgt'])"
   ]
  },
  {
   "cell_type": "code",
   "execution_count": 44,
   "metadata": {},
   "outputs": [
    {
     "name": "stderr",
     "output_type": "stream",
     "text": [
      "d:\\users\\ivan\\fiit\\5.semester\\iau\\python\\xvykopal\\lib\\site-packages\\seaborn\\_decorators.py:36: FutureWarning: Pass the following variable as a keyword arg: x. From version 0.12, the only valid positional argument will be `data`, and passing other arguments without an explicit keyword will result in an error or misinterpretation.\n",
      "  warnings.warn(\n"
     ]
    },
    {
     "data": {
      "text/plain": [
       "<AxesSubplot:xlabel='fnlwgt'>"
      ]
     },
     "execution_count": 44,
     "metadata": {},
     "output_type": "execute_result"
    },
    {
     "data": {
      "image/png": "[encoded data removed]",
      "text/plain": [
       "<Figure size 432x288 with 1 Axes>"
      ]
     },
     "metadata": {
      "needs_background": "light"
     },
     "output_type": "display_data"
    }
   ],
   "source": [
    "sns.boxplot(other['fnlwgt'])"
   ]
  },
  {
   "cell_type": "code",
   "execution_count": 45,
   "metadata": {},
   "outputs": [
    {
     "data": {
      "text/plain": [
       "14"
      ]
     },
     "execution_count": 45,
     "metadata": {},
     "output_type": "execute_result"
    }
   ],
   "source": [
    "other.fnlwgt.isnull().sum()"
   ]
  },
  {
   "cell_type": "markdown",
   "metadata": {},
   "source": [
    "Vykreslenie grafu z atribútu fnlwgt a vypísanie počtu prázdnych hodnôt: 14.\n",
    "Zároveň z boxplotu vidíme, že má veľa vychýlených hodnôt, ktoré sa nachádzajú nad hodnotou 400000.\n",
    "\n",
    "#### Atribút class\n",
    "\n",
    "Ide o kategorický atribút, ktorý určuje či je pacient chorý (1) alebo zdravý (0)."
   ]
  },
  {
   "cell_type": "code",
   "execution_count": 46,
   "metadata": {},
   "outputs": [
    {
     "data": {
      "text/plain": [
       "<AxesSubplot:>"
      ]
     },
     "execution_count": 46,
     "metadata": {},
     "output_type": "execute_result"
    },
    {
     "data": {
      "image/png": "[encoded data removed]",
      "text/plain": [
       "<Figure size 432x288 with 1 Axes>"
      ]
     },
     "metadata": {
      "needs_background": "light"
     },
     "output_type": "display_data"
    }
   ],
   "source": [
    "other['class'].value_counts().plot.bar()"
   ]
  },
  {
   "cell_type": "code",
   "execution_count": 47,
   "metadata": {},
   "outputs": [
    {
     "data": {
      "text/plain": [
       "15"
      ]
     },
     "execution_count": 47,
     "metadata": {},
     "output_type": "execute_result"
    }
   ],
   "source": [
    "other['class'].isnull().sum()"
   ]
  },
  {
   "cell_type": "markdown",
   "metadata": {},
   "source": [
    "Z grafu vieme vyčítať, že viacej ľudí je zdravých ako chorých, no aj tento atribút má 15 prázdnych hodnôt.\n",
    "\n",
    "#### Atribút hours-per-week"
   ]
  },
  {
   "cell_type": "code",
   "execution_count": 48,
   "metadata": {},
   "outputs": [
    {
     "name": "stderr",
     "output_type": "stream",
     "text": [
      "d:\\users\\ivan\\fiit\\5.semester\\iau\\python\\xvykopal\\lib\\site-packages\\seaborn\\distributions.py:2551: FutureWarning: `distplot` is a deprecated function and will be removed in a future version. Please adapt your code to use either `displot` (a figure-level function with similar flexibility) or `histplot` (an axes-level function for histograms).\n",
      "  warnings.warn(msg, FutureWarning)\n"
     ]
    },
    {
     "data": {
      "text/plain": [
       "<AxesSubplot:xlabel='hours-per-week', ylabel='Density'>"
      ]
     },
     "execution_count": 48,
     "metadata": {},
     "output_type": "execute_result"
    },
    {
     "data": {
      "image/png": "[encoded data removed]",
      "text/plain": [
       "<Figure size 432x288 with 1 Axes>"
      ]
     },
     "metadata": {
      "needs_background": "light"
     },
     "output_type": "display_data"
    }
   ],
   "source": [
    "sns.distplot(other['hours-per-week'])"
   ]
  },
  {
   "cell_type": "code",
   "execution_count": 49,
   "metadata": {},
   "outputs": [
    {
     "name": "stderr",
     "output_type": "stream",
     "text": [
      "d:\\users\\ivan\\fiit\\5.semester\\iau\\python\\xvykopal\\lib\\site-packages\\seaborn\\_decorators.py:36: FutureWarning: Pass the following variable as a keyword arg: x. From version 0.12, the only valid positional argument will be `data`, and passing other arguments without an explicit keyword will result in an error or misinterpretation.\n",
      "  warnings.warn(\n"
     ]
    },
    {
     "data": {
      "text/plain": [
       "<AxesSubplot:xlabel='hours-per-week'>"
      ]
     },
     "execution_count": 49,
     "metadata": {},
     "output_type": "execute_result"
    },
    {
     "data": {
      "image/png": "[encoded data removed]",
      "text/plain": [
       "<Figure size 432x288 with 1 Axes>"
      ]
     },
     "metadata": {
      "needs_background": "light"
     },
     "output_type": "display_data"
    }
   ],
   "source": [
    "sns.boxplot(other['hours-per-week'])"
   ]
  },
  {
   "cell_type": "code",
   "execution_count": 50,
   "metadata": {},
   "outputs": [
    {
     "data": {
      "text/plain": [
       "18"
      ]
     },
     "execution_count": 50,
     "metadata": {},
     "output_type": "execute_result"
    }
   ],
   "source": [
    "other['hours-per-week'].isnull().sum()"
   ]
  },
  {
   "cell_type": "markdown",
   "metadata": {},
   "source": [
    "Z grafov sme zistili, že ľudia najčastejšie pracujú v priemere okolo 40 hodín týždenne, pričom na základe deskriptívnej štatistiky prismerná pracovná doba pacientov je 40,41 hodiny za víkend. Daný atribú obsahuje aj 18 chýbajúcich hodnôt a veľa vychýlených hodnôt na základe boxplotu.\n",
    "\n",
    "#### Atribút mean_glucose"
   ]
  },
  {
   "cell_type": "code",
   "execution_count": 47,
   "metadata": {},
   "outputs": [
    {
     "name": "stderr",
     "output_type": "stream",
     "text": [
      "d:\\python_examples\\.virtualenvs\\xvillant\\lib\\site-packages\\seaborn\\distributions.py:2551: FutureWarning: `distplot` is a deprecated function and will be removed in a future version. Please adapt your code to use either `displot` (a figure-level function with similar flexibility) or `histplot` (an axes-level function for histograms).\n",
      "  warnings.warn(msg, FutureWarning)\n"
     ]
    },
    {
     "data": {
      "text/plain": [
       "<AxesSubplot:xlabel='mean_glucose', ylabel='Density'>"
      ]
     },
     "execution_count": 47,
     "metadata": {},
     "output_type": "execute_result"
    },
    {
     "data": {
      "image/png": "[encoded data removed]",
      "text/plain": [
       "<Figure size 432x288 with 1 Axes>"
      ]
     },
     "metadata": {
      "needs_background": "light"
     },
     "output_type": "display_data"
    }
   ],
   "source": [
    "sns.distplot(other['mean_glucose'])"
   ]
  },
  {
   "cell_type": "code",
   "execution_count": 51,
   "metadata": {},
   "outputs": [
    {
     "name": "stderr",
     "output_type": "stream",
     "text": [
      "d:\\users\\ivan\\fiit\\5.semester\\iau\\python\\xvykopal\\lib\\site-packages\\seaborn\\_decorators.py:36: FutureWarning: Pass the following variable as a keyword arg: x. From version 0.12, the only valid positional argument will be `data`, and passing other arguments without an explicit keyword will result in an error or misinterpretation.\n",
      "  warnings.warn(\n"
     ]
    },
    {
     "data": {
      "text/plain": [
       "<AxesSubplot:xlabel='mean_glucose'>"
      ]
     },
     "execution_count": 51,
     "metadata": {},
     "output_type": "execute_result"
    },
    {
     "data": {
      "image/png": "[encoded data removed]",
      "text/plain": [
       "<Figure size 432x288 with 1 Axes>"
      ]
     },
     "metadata": {
      "needs_background": "light"
     },
     "output_type": "display_data"
    }
   ],
   "source": [
    "sns.boxplot(other['mean_glucose'])"
   ]
  },
  {
   "cell_type": "code",
   "execution_count": 52,
   "metadata": {},
   "outputs": [
    {
     "data": {
      "text/plain": [
       "15"
      ]
     },
     "execution_count": 52,
     "metadata": {},
     "output_type": "execute_result"
    }
   ],
   "source": [
    "other['mean_glucose'].isnull().sum()"
   ]
  },
  {
   "cell_type": "markdown",
   "metadata": {},
   "source": [
    "Na základe deskriptívnej štatistiky sme zistili, že priemerný mean_glucose je okolo 101. Zároveň atribút obsahuje 15 chýbajúcich hodnôt a aj vychýlené hodnoty.\n",
    "\n",
    "#### Atribút std_glucose"
   ]
  },
  {
   "cell_type": "code",
   "execution_count": 53,
   "metadata": {},
   "outputs": [
    {
     "name": "stderr",
     "output_type": "stream",
     "text": [
      "d:\\users\\ivan\\fiit\\5.semester\\iau\\python\\xvykopal\\lib\\site-packages\\seaborn\\distributions.py:2551: FutureWarning: `distplot` is a deprecated function and will be removed in a future version. Please adapt your code to use either `displot` (a figure-level function with similar flexibility) or `histplot` (an axes-level function for histograms).\n",
      "  warnings.warn(msg, FutureWarning)\n"
     ]
    },
    {
     "data": {
      "text/plain": [
       "<AxesSubplot:xlabel='std_glucose', ylabel='Density'>"
      ]
     },
     "execution_count": 53,
     "metadata": {},
     "output_type": "execute_result"
    },
    {
     "data": {
      "image/png": "[encoded data removed]",
      "text/plain": [
       "<Figure size 432x288 with 1 Axes>"
      ]
     },
     "metadata": {
      "needs_background": "light"
     },
     "output_type": "display_data"
    }
   ],
   "source": [
    "sns.distplot(other['std_glucose'])"
   ]
  },
  {
   "cell_type": "code",
   "execution_count": 54,
   "metadata": {},
   "outputs": [
    {
     "name": "stderr",
     "output_type": "stream",
     "text": [
      "d:\\users\\ivan\\fiit\\5.semester\\iau\\python\\xvykopal\\lib\\site-packages\\seaborn\\_decorators.py:36: FutureWarning: Pass the following variable as a keyword arg: x. From version 0.12, the only valid positional argument will be `data`, and passing other arguments without an explicit keyword will result in an error or misinterpretation.\n",
      "  warnings.warn(\n"
     ]
    },
    {
     "data": {
      "text/plain": [
       "<AxesSubplot:xlabel='std_glucose'>"
      ]
     },
     "execution_count": 54,
     "metadata": {},
     "output_type": "execute_result"
    },
    {
     "data": {
      "image/png": "[encoded data removed]",
      "text/plain": [
       "<Figure size 432x288 with 1 Axes>"
      ]
     },
     "metadata": {
      "needs_background": "light"
     },
     "output_type": "display_data"
    }
   ],
   "source": [
    "sns.boxplot(other['std_glucose'])"
   ]
  },
  {
   "cell_type": "code",
   "execution_count": 55,
   "metadata": {},
   "outputs": [
    {
     "data": {
      "text/plain": [
       "414"
      ]
     },
     "execution_count": 55,
     "metadata": {},
     "output_type": "execute_result"
    }
   ],
   "source": [
    "other['std_glucose'].isnull().sum()"
   ]
  },
  {
   "cell_type": "markdown",
   "metadata": {},
   "source": [
    "Na základe deskriptívnej štatistiky sme zistili, že priemerný std_glucose je okolo 45. Zároveň atribút obsahuje 414 chýbajúcich hodnôt a aj vychýlené hodnoty, ktoré sa nachádzahjú nad hodnotou cez 60.\n",
    "\n",
    "#### Atribút kurotis_glucose"
   ]
  },
  {
   "cell_type": "code",
   "execution_count": 56,
   "metadata": {},
   "outputs": [
    {
     "name": "stderr",
     "output_type": "stream",
     "text": [
      "d:\\users\\ivan\\fiit\\5.semester\\iau\\python\\xvykopal\\lib\\site-packages\\seaborn\\distributions.py:2551: FutureWarning: `distplot` is a deprecated function and will be removed in a future version. Please adapt your code to use either `displot` (a figure-level function with similar flexibility) or `histplot` (an axes-level function for histograms).\n",
      "  warnings.warn(msg, FutureWarning)\n"
     ]
    },
    {
     "data": {
      "text/plain": [
       "<AxesSubplot:xlabel='kurtosis_glucose', ylabel='Density'>"
      ]
     },
     "execution_count": 56,
     "metadata": {},
     "output_type": "execute_result"
    },
    {
     "data": {
      "image/png": "[encoded data removed]",
      "text/plain": [
       "<Figure size 432x288 with 1 Axes>"
      ]
     },
     "metadata": {
      "needs_background": "light"
     },
     "output_type": "display_data"
    }
   ],
   "source": [
    "sns.distplot(other['kurtosis_glucose'])"
   ]
  },
  {
   "cell_type": "code",
   "execution_count": 57,
   "metadata": {},
   "outputs": [
    {
     "name": "stderr",
     "output_type": "stream",
     "text": [
      "d:\\users\\ivan\\fiit\\5.semester\\iau\\python\\xvykopal\\lib\\site-packages\\seaborn\\_decorators.py:36: FutureWarning: Pass the following variable as a keyword arg: x. From version 0.12, the only valid positional argument will be `data`, and passing other arguments without an explicit keyword will result in an error or misinterpretation.\n",
      "  warnings.warn(\n"
     ]
    },
    {
     "data": {
      "text/plain": [
       "<AxesSubplot:xlabel='kurtosis_glucose'>"
      ]
     },
     "execution_count": 57,
     "metadata": {},
     "output_type": "execute_result"
    },
    {
     "data": {
      "image/png": "[encoded data removed]",
      "text/plain": [
       "<Figure size 432x288 with 1 Axes>"
      ]
     },
     "metadata": {
      "needs_background": "light"
     },
     "output_type": "display_data"
    }
   ],
   "source": [
    "sns.boxplot(other['kurtosis_glucose'])"
   ]
  },
  {
   "cell_type": "code",
   "execution_count": 58,
   "metadata": {},
   "outputs": [
    {
     "data": {
      "text/plain": [
       "15"
      ]
     },
     "execution_count": 58,
     "metadata": {},
     "output_type": "execute_result"
    }
   ],
   "source": [
    "other['kurtosis_glucose'].isnull().sum()"
   ]
  },
  {
   "cell_type": "markdown",
   "metadata": {},
   "source": [
    "Na základe deskriptívnej štatistiky sme zistili, že priemerný kurtosis_glucose je 0.95. Zároveň atribút obsahuje 15 chýbajúcich hodnôt a aj množstvo vychýlených hodnôt.\n",
    "\n",
    "#### Atribút skewness_glucose"
   ]
  },
  {
   "cell_type": "code",
   "execution_count": 59,
   "metadata": {},
   "outputs": [
    {
     "name": "stderr",
     "output_type": "stream",
     "text": [
      "d:\\users\\ivan\\fiit\\5.semester\\iau\\python\\xvykopal\\lib\\site-packages\\seaborn\\distributions.py:2551: FutureWarning: `distplot` is a deprecated function and will be removed in a future version. Please adapt your code to use either `displot` (a figure-level function with similar flexibility) or `histplot` (an axes-level function for histograms).\n",
      "  warnings.warn(msg, FutureWarning)\n"
     ]
    },
    {
     "data": {
      "text/plain": [
       "<AxesSubplot:xlabel='skewness_glucose', ylabel='Density'>"
      ]
     },
     "execution_count": 59,
     "metadata": {},
     "output_type": "execute_result"
    },
    {
     "data": {
      "image/png": "[encoded data removed]",
      "text/plain": [
       "<Figure size 432x288 with 1 Axes>"
      ]
     },
     "metadata": {
      "needs_background": "light"
     },
     "output_type": "display_data"
    }
   ],
   "source": [
    "sns.distplot(other['skewness_glucose'])"
   ]
  },
  {
   "cell_type": "code",
   "execution_count": 60,
   "metadata": {},
   "outputs": [
    {
     "name": "stderr",
     "output_type": "stream",
     "text": [
      "d:\\users\\ivan\\fiit\\5.semester\\iau\\python\\xvykopal\\lib\\site-packages\\seaborn\\_decorators.py:36: FutureWarning: Pass the following variable as a keyword arg: x. From version 0.12, the only valid positional argument will be `data`, and passing other arguments without an explicit keyword will result in an error or misinterpretation.\n",
      "  warnings.warn(\n"
     ]
    },
    {
     "data": {
      "text/plain": [
       "<AxesSubplot:xlabel='skewness_glucose'>"
      ]
     },
     "execution_count": 60,
     "metadata": {},
     "output_type": "execute_result"
    },
    {
     "data": {
      "image/png": "[encoded data removed]",
      "text/plain": [
       "<Figure size 432x288 with 1 Axes>"
      ]
     },
     "metadata": {
      "needs_background": "light"
     },
     "output_type": "display_data"
    }
   ],
   "source": [
    "sns.boxplot(other['skewness_glucose'])"
   ]
  },
  {
   "cell_type": "code",
   "execution_count": 61,
   "metadata": {},
   "outputs": [
    {
     "data": {
      "text/plain": [
       "15"
      ]
     },
     "execution_count": 61,
     "metadata": {},
     "output_type": "execute_result"
    }
   ],
   "source": [
    "other['skewness_glucose'].isnull().sum()"
   ]
  },
  {
   "cell_type": "markdown",
   "metadata": {},
   "source": [
    "Na základe deskriptívnej štatistiky sme zistili, že priemerný skewness_glucose je 4.24. Väčšina hodnôt sa pohybuje od 0 po 5 Zároveň atribút obsahuje 15 chýbajúcich hodnôt a aj veľké množstvo vychýlených hodnôt.\n",
    "\n",
    "#### Atribút mean_oyxgen"
   ]
  },
  {
   "cell_type": "code",
   "execution_count": 62,
   "metadata": {},
   "outputs": [
    {
     "name": "stderr",
     "output_type": "stream",
     "text": [
      "d:\\users\\ivan\\fiit\\5.semester\\iau\\python\\xvykopal\\lib\\site-packages\\seaborn\\distributions.py:2551: FutureWarning: `distplot` is a deprecated function and will be removed in a future version. Please adapt your code to use either `displot` (a figure-level function with similar flexibility) or `histplot` (an axes-level function for histograms).\n",
      "  warnings.warn(msg, FutureWarning)\n"
     ]
    },
    {
     "data": {
      "text/plain": [
       "<AxesSubplot:xlabel='mean_oxygen', ylabel='Density'>"
      ]
     },
     "execution_count": 62,
     "metadata": {},
     "output_type": "execute_result"
    },
    {
     "data": {
      "image/png": "[encoded data removed]",
      "text/plain": [
       "<Figure size 432x288 with 1 Axes>"
      ]
     },
     "metadata": {
      "needs_background": "light"
     },
     "output_type": "display_data"
    }
   ],
   "source": [
    "sns.distplot(other['mean_oxygen'])"
   ]
  },
  {
   "cell_type": "code",
   "execution_count": 63,
   "metadata": {},
   "outputs": [
    {
     "name": "stderr",
     "output_type": "stream",
     "text": [
      "d:\\users\\ivan\\fiit\\5.semester\\iau\\python\\xvykopal\\lib\\site-packages\\seaborn\\_decorators.py:36: FutureWarning: Pass the following variable as a keyword arg: x. From version 0.12, the only valid positional argument will be `data`, and passing other arguments without an explicit keyword will result in an error or misinterpretation.\n",
      "  warnings.warn(\n"
     ]
    },
    {
     "data": {
      "text/plain": [
       "<AxesSubplot:xlabel='mean_oxygen'>"
      ]
     },
     "execution_count": 63,
     "metadata": {},
     "output_type": "execute_result"
    },
    {
     "data": {
      "image/png": "[encoded data removed]",
      "text/plain": [
       "<Figure size 432x288 with 1 Axes>"
      ]
     },
     "metadata": {
      "needs_background": "light"
     },
     "output_type": "display_data"
    }
   ],
   "source": [
    "sns.boxplot(other['mean_oxygen'])"
   ]
  },
  {
   "cell_type": "code",
   "execution_count": 65,
   "metadata": {},
   "outputs": [
    {
     "data": {
      "text/plain": [
       "15"
      ]
     },
     "execution_count": 65,
     "metadata": {},
     "output_type": "execute_result"
    }
   ],
   "source": [
    "other['mean_oxygen'].isnull().sum()"
   ]
  },
  {
   "cell_type": "markdown",
   "metadata": {},
   "source": [
    "Podľa deskriptívnej štatistiky je priemerná hodnota mean_oxygen 18.47. V atribúte sa nachádza množstvo outlierov (vychýlených hodnôt) a obsahuje aj 15 chýbajúcich hodnôt. Väčšina hodnôt sa pohybuje v rozmedzí 0 až 12 (čo predtavuje horný kvartil).\n",
    "\n",
    "#### Atribút std_oxygen"
   ]
  },
  {
   "cell_type": "code",
   "execution_count": 66,
   "metadata": {},
   "outputs": [
    {
     "name": "stderr",
     "output_type": "stream",
     "text": [
      "d:\\users\\ivan\\fiit\\5.semester\\iau\\python\\xvykopal\\lib\\site-packages\\seaborn\\distributions.py:2551: FutureWarning: `distplot` is a deprecated function and will be removed in a future version. Please adapt your code to use either `displot` (a figure-level function with similar flexibility) or `histplot` (an axes-level function for histograms).\n",
      "  warnings.warn(msg, FutureWarning)\n"
     ]
    },
    {
     "data": {
      "text/plain": [
       "<AxesSubplot:xlabel='std_oxygen', ylabel='Density'>"
      ]
     },
     "execution_count": 66,
     "metadata": {},
     "output_type": "execute_result"
    },
    {
     "data": {
      "image/png": "[encoded data removed]",
      "text/plain": [
       "<Figure size 432x288 with 1 Axes>"
      ]
     },
     "metadata": {
      "needs_background": "light"
     },
     "output_type": "display_data"
    }
   ],
   "source": [
    "sns.distplot(other['std_oxygen'])"
   ]
  },
  {
   "cell_type": "code",
   "execution_count": 67,
   "metadata": {},
   "outputs": [
    {
     "name": "stderr",
     "output_type": "stream",
     "text": [
      "d:\\users\\ivan\\fiit\\5.semester\\iau\\python\\xvykopal\\lib\\site-packages\\seaborn\\_decorators.py:36: FutureWarning: Pass the following variable as a keyword arg: x. From version 0.12, the only valid positional argument will be `data`, and passing other arguments without an explicit keyword will result in an error or misinterpretation.\n",
      "  warnings.warn(\n"
     ]
    },
    {
     "data": {
      "text/plain": [
       "<AxesSubplot:xlabel='std_oxygen'>"
      ]
     },
     "execution_count": 67,
     "metadata": {},
     "output_type": "execute_result"
    },
    {
     "data": {
      "image/png": "[encoded data removed]",
      "text/plain": [
       "<Figure size 432x288 with 1 Axes>"
      ]
     },
     "metadata": {
      "needs_background": "light"
     },
     "output_type": "display_data"
    }
   ],
   "source": [
    "sns.boxplot(other['std_oxygen'])"
   ]
  },
  {
   "cell_type": "code",
   "execution_count": 68,
   "metadata": {},
   "outputs": [
    {
     "data": {
      "text/plain": [
       "15"
      ]
     },
     "execution_count": 68,
     "metadata": {},
     "output_type": "execute_result"
    }
   ],
   "source": [
    "other['std_oxygen'].isnull().sum()"
   ]
  },
  {
   "cell_type": "markdown",
   "metadata": {},
   "source": [
    "Priemerná hdonota je 31.17. Obsahuje aj vychýlené hodnoty a počet chýbajúcich hodnôt je 15.\n",
    "\n",
    "#### Atribút kurtosis_oxygen"
   ]
  },
  {
   "cell_type": "code",
   "execution_count": 69,
   "metadata": {},
   "outputs": [
    {
     "name": "stderr",
     "output_type": "stream",
     "text": [
      "d:\\users\\ivan\\fiit\\5.semester\\iau\\python\\xvykopal\\lib\\site-packages\\seaborn\\distributions.py:2551: FutureWarning: `distplot` is a deprecated function and will be removed in a future version. Please adapt your code to use either `displot` (a figure-level function with similar flexibility) or `histplot` (an axes-level function for histograms).\n",
      "  warnings.warn(msg, FutureWarning)\n"
     ]
    },
    {
     "data": {
      "text/plain": [
       "<AxesSubplot:xlabel='kurtosis_oxygen', ylabel='Density'>"
      ]
     },
     "execution_count": 69,
     "metadata": {},
     "output_type": "execute_result"
    },
    {
     "data": {
      "image/png": "[encoded data removed]",
      "text/plain": [
       "<Figure size 432x288 with 1 Axes>"
      ]
     },
     "metadata": {
      "needs_background": "light"
     },
     "output_type": "display_data"
    }
   ],
   "source": [
    "sns.distplot(other['kurtosis_oxygen'])"
   ]
  },
  {
   "cell_type": "code",
   "execution_count": 70,
   "metadata": {},
   "outputs": [
    {
     "name": "stderr",
     "output_type": "stream",
     "text": [
      "d:\\users\\ivan\\fiit\\5.semester\\iau\\python\\xvykopal\\lib\\site-packages\\seaborn\\_decorators.py:36: FutureWarning: Pass the following variable as a keyword arg: x. From version 0.12, the only valid positional argument will be `data`, and passing other arguments without an explicit keyword will result in an error or misinterpretation.\n",
      "  warnings.warn(\n"
     ]
    },
    {
     "data": {
      "text/plain": [
       "<AxesSubplot:xlabel='kurtosis_oxygen'>"
      ]
     },
     "execution_count": 70,
     "metadata": {},
     "output_type": "execute_result"
    },
    {
     "data": {
      "image/png": "[encoded data removed]",
      "text/plain": [
       "<Figure size 432x288 with 1 Axes>"
      ]
     },
     "metadata": {
      "needs_background": "light"
     },
     "output_type": "display_data"
    }
   ],
   "source": [
    "sns.boxplot(other['kurtosis_oxygen'])"
   ]
  },
  {
   "cell_type": "code",
   "execution_count": 71,
   "metadata": {},
   "outputs": [
    {
     "data": {
      "text/plain": [
       "15"
      ]
     },
     "execution_count": 71,
     "metadata": {},
     "output_type": "execute_result"
    }
   ],
   "source": [
    "other['kurtosis_oxygen'].isnull().sum()"
   ]
  },
  {
   "cell_type": "markdown",
   "metadata": {},
   "source": [
    "Obsahuje vychýlené hodnoty, počet chýbajúcich hodnôt je 15. Priemerná hodnota kurtosis_oxygen je 7.41. Pričom z grafu je vidieť, že najväčšia čast z distibúcie je medzi 4 až 10.\n",
    "\n",
    "#### Atribút skewness_oxygen"
   ]
  },
  {
   "cell_type": "code",
   "execution_count": 72,
   "metadata": {},
   "outputs": [
    {
     "name": "stderr",
     "output_type": "stream",
     "text": [
      "d:\\users\\ivan\\fiit\\5.semester\\iau\\python\\xvykopal\\lib\\site-packages\\seaborn\\distributions.py:2551: FutureWarning: `distplot` is a deprecated function and will be removed in a future version. Please adapt your code to use either `displot` (a figure-level function with similar flexibility) or `histplot` (an axes-level function for histograms).\n",
      "  warnings.warn(msg, FutureWarning)\n"
     ]
    },
    {
     "data": {
      "text/plain": [
       "<AxesSubplot:xlabel='skewness_oxygen', ylabel='Density'>"
      ]
     },
     "execution_count": 72,
     "metadata": {},
     "output_type": "execute_result"
    },
    {
     "data": {
      "image/png": "[encoded data removed]",
      "text/plain": [
       "<Figure size 432x288 with 1 Axes>"
      ]
     },
     "metadata": {
      "needs_background": "light"
     },
     "output_type": "display_data"
    }
   ],
   "source": [
    "sns.distplot(other['skewness_oxygen'])"
   ]
  },
  {
   "cell_type": "code",
   "execution_count": 73,
   "metadata": {},
   "outputs": [
    {
     "name": "stderr",
     "output_type": "stream",
     "text": [
      "d:\\users\\ivan\\fiit\\5.semester\\iau\\python\\xvykopal\\lib\\site-packages\\seaborn\\_decorators.py:36: FutureWarning: Pass the following variable as a keyword arg: x. From version 0.12, the only valid positional argument will be `data`, and passing other arguments without an explicit keyword will result in an error or misinterpretation.\n",
      "  warnings.warn(\n"
     ]
    },
    {
     "data": {
      "text/plain": [
       "<AxesSubplot:xlabel='skewness_oxygen'>"
      ]
     },
     "execution_count": 73,
     "metadata": {},
     "output_type": "execute_result"
    },
    {
     "data": {
      "image/png": "[encoded data removed]",
      "text/plain": [
       "<Figure size 432x288 with 1 Axes>"
      ]
     },
     "metadata": {
      "needs_background": "light"
     },
     "output_type": "display_data"
    }
   ],
   "source": [
    "sns.boxplot(other['skewness_oxygen'])"
   ]
  },
  {
   "cell_type": "code",
   "execution_count": 74,
   "metadata": {},
   "outputs": [
    {
     "data": {
      "text/plain": [
       "15"
      ]
     },
     "execution_count": 74,
     "metadata": {},
     "output_type": "execute_result"
    }
   ],
   "source": [
    "other['skewness_oxygen'].isnull().sum()"
   ]
  },
  {
   "cell_type": "markdown",
   "metadata": {},
   "source": [
    "Priemerná hodnota pre atribút skewness_oxygen je 91.26. Počet chýbajúcich hodnôt je 15 a obsahuje množstvo vychýlených hodnôt.\n",
    "\n",
    "### Identifikácia chýb:\n",
    "- v atribúte medical_info je viac hodnot zahrnutých dokopy\n",
    "- vo viacerých atribútoch je viacero hodnôt, ktoré vyznačujú tú istú skutočnosť napríklad \"TRUE\",\"T\",\"t\",\"F\",\"False\" v atribúte pregnant\n",
    "- v atribúte name su duplictné zaznamy\n",
    "- v atribútoch sa nachádzajú chýbajúce hodnoty\n",
    "- v atribútoch sa nachádza aj množstvo vychýlených hodnôt\n",
    "\n",
    "### Riešenie identifikovaných chýb\n",
    "- atribút medical_info bude potrebné rozdeliť na viaceré atribúty (tak ako to bolo spravené v tomto dokumente)\n",
    "- pri atribúte pregnant je potrebné zjednotiť hodnoty, tak aby nadobúdali len 2 unikátne hodnoty (tak ako to bolu spravené v tomto dokumente\n",
    "- duplicitné hodnoty bude asi najpravdepodobnejšie odstrániť\n",
    "- pri chýbajúcich hodnotách bude najlepšie ich nahradiť priemerom\n",
    "- pri atribúte class nevieme jednoznačne určiť priemer, tak je možné, že tých 15 záznamov môžeme vymazať"
   ]
  },
  {
   "cell_type": "code",
   "execution_count": null,
   "metadata": {},
   "outputs": [],
   "source": []
  }
 ],
 "metadata": {
  "kernelspec": {
   "display_name": "Python 3",
   "language": "python",
   "name": "python3"
  },
  "language_info": {
   "codemirror_mode": {
    "name": "ipython",
    "version": 3
   },
   "file_extension": ".py",
   "mimetype": "text/x-python",
   "name": "python",
   "nbconvert_exporter": "python",
   "pygments_lexer": "ipython3",
   "version": "3.8.2"
  }
 },
 "nbformat": 4,
 "nbformat_minor": 4
}
