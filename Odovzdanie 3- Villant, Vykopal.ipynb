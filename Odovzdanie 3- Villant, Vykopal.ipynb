{
 "cells": [
  {
   "cell_type": "markdown",
   "metadata": {},
   "source": [
    "# Projekt - odovzdanie 3\n",
    "\n",
    "**Autori:** Patrik Villant, Ivan Vykopal\n",
    " \n",
    "**Cvičenie:** Utorok o 14:00\n",
    " \n",
    "**Cvičiaci:** Ing. Peter Bakonyi\n",
    " \n",
    "**Dátová sada:** 55\n",
    " \n",
    "**Podiel práce:** 50/50"
   ]
  },
  {
   "cell_type": "code",
   "execution_count": 109,
   "metadata": {},
   "outputs": [],
   "source": [
    "import matplotlib.pyplot as plt\n",
    "import pandas as pd\n",
    "import numpy as np\n",
    "import seaborn as sns\n",
    "import re\n",
    "import datetime\n",
    "import math\n",
    "from sklearn.impute import SimpleImputer\n",
    "from sklearn.impute import KNNImputer\n",
    "from sklearn.preprocessing import LabelEncoder\n",
    "from sklearn.preprocessing import PowerTransformer\n",
    "from sklearn.pipeline import Pipeline\n",
    "from sklearn.base import TransformerMixin\n",
    "from sklearn.metrics import ConfusionMatrixDisplay\n",
    "from sklearn.metrics import confusion_matrix\n",
    "from sklearn.metrics import classification_report\n",
    "from sklearn.metrics import accuracy_score\n",
    "from sklearn import tree\n",
    "from sklearn.tree import export_graphviz\n",
    "from graphviz import Source\n",
    "from IPython.display import SVG\n",
    "from sklearn.ensemble import RandomForestClassifier\n",
    "from sklearn.model_selection import GridSearchCV\n",
    "#import os\n",
    "#os.environ[\"PATH\"] += os.pathsep + 'C:/Program Files/Graphviz2.44.1/bin/'"
   ]
  },
  {
   "cell_type": "code",
   "execution_count": 110,
   "metadata": {},
   "outputs": [],
   "source": [
    "class MergeTransformer(TransformerMixin):\n",
    "    def __init__(self, personal, other, columns=['name', 'address']):\n",
    "        self.personal = personal\n",
    "        self.other = other\n",
    "        self.columns = columns\n",
    "        \n",
    "    def fit(self, data, y=None):\n",
    "        return self\n",
    "    \n",
    "    def transform(self, data, y=None):\n",
    "        data = pd.merge(self.personal, self.other, on=self.columns, how = 'inner')\n",
    "        return data"
   ]
  },
  {
   "cell_type": "code",
   "execution_count": 111,
   "metadata": {},
   "outputs": [],
   "source": [
    "class SplittingMedicalTransformer(TransformerMixin):\n",
    "        \n",
    "    def fit(self, data, y=None):\n",
    "        return self\n",
    "    \n",
    "    def transform(self, data, y=None):\n",
    "        for i in range(len(data)):\n",
    "            row = data.medical_info[i]\n",
    "            if str(row) == 'nan':\n",
    "                j ={'mean_glucose': np.nan,\n",
    "                     'std_glucose': np.nan,\n",
    "                     'kurtosis_glucose': np.nan,\n",
    "                     'skewness_glucose': np.nan,\n",
    "                     'mean_oxygen': np.nan,\n",
    "                     'std_oxygen': np.nan,\n",
    "                     'kurtosis_oxygen': np.nan,\n",
    "                     'skewness_oxygen': np.nan}\n",
    "            else:\n",
    "                j = eval(str(row))\n",
    "            data.at[i,'mean_glucose'] = float(j['mean_glucose'])\n",
    "            data.at[i,'std_glucose'] = float(j['std_glucose'])\n",
    "            data.at[i,'kurtosis_glucose'] = float(j['kurtosis_glucose'])\n",
    "            data.at[i,'skewness_glucose'] = float(j['skewness_glucose'])\n",
    "            data.at[i,'mean_oxygen'] = float(j['mean_oxygen'])\n",
    "            data.at[i,'std_oxygen'] = float(j['std_oxygen'])\n",
    "            data.at[i,'kurtosis_oxygen'] = float(j['kurtosis_oxygen'])\n",
    "            data.at[i,'skewness_oxygen'] = float(j['skewness_oxygen'])\n",
    "        data = data.drop(columns=['medical_info'])\n",
    "        return data"
   ]
  },
  {
   "cell_type": "code",
   "execution_count": 112,
   "metadata": {},
   "outputs": [],
   "source": [
    "class DeduplicationTransformer(TransformerMixin):\n",
    "    def __init__(self, columns=['name', 'address']):\n",
    "        self.columns = columns\n",
    "        \n",
    "    def fit(self, data, y=None):\n",
    "        return self\n",
    "    \n",
    "    def transform(self, data, y=None):\n",
    "        duplicates = data[data.duplicated(self.columns)]\n",
    "        unique_names = duplicates.name.unique()\n",
    "        for i in unique_names: \n",
    "            helper = data[data.name == i]\n",
    "            helper = helper.fillna(method='ffill')\n",
    "            helper = helper.drop_duplicates(self.columns, keep = 'last')\n",
    "            data = data.append(helper)\n",
    "    \n",
    "        data.drop_duplicates(self.columns, inplace = True, keep = 'last')\n",
    "        data = data.reset_index(drop = True)\n",
    "        return data"
   ]
  },
  {
   "cell_type": "code",
   "execution_count": 113,
   "metadata": {},
   "outputs": [],
   "source": [
    "class StripTransformer(TransformerMixin):\n",
    "    def __init__(self, columns):\n",
    "        self.columns = columns\n",
    "        \n",
    "    def fit(self, data, y=None):\n",
    "        return self\n",
    "    \n",
    "    def transform(self, data, y=None):\n",
    "        data[self.columns] = data[self.columns].apply(lambda x: x.str.strip())\n",
    "        return data"
   ]
  },
  {
   "cell_type": "code",
   "execution_count": 114,
   "metadata": {},
   "outputs": [],
   "source": [
    "class UnificationToNanTransformer(TransformerMixin):\n",
    "    \n",
    "    def fit(self, data, y=None):\n",
    "        return self\n",
    "    \n",
    "    def transform(self, data, y=None):\n",
    "        data.replace(to_replace=r'\\?+', value=np.nan, regex=True, inplace=True)\n",
    "        return data"
   ]
  },
  {
   "cell_type": "code",
   "execution_count": 115,
   "metadata": {},
   "outputs": [],
   "source": [
    "class DateUnificationTransformer(TransformerMixin):\n",
    "    \n",
    "    def _unifyFormats(self, data):\n",
    "        data = data[:10]\n",
    "        date = re.sub('[0-9]','0', data)\n",
    "        if date == '0000/00/00':\n",
    "            data = data.replace('/', '-')\n",
    "        if date == '00/00/0000':\n",
    "            data = data[6:] + '-' + data[3:5] +'-' + data[:2]\n",
    "        if date == '00-00-00':\n",
    "            if data[0] == 0 or data[0] == 1:\n",
    "                data = '20' + data[:2] + '-' + data[3:5] + '-' + data[6:]\n",
    "            else:\n",
    "                data = '19' + data[:2] + '-' + data[3:5] + '-' + data[6:]\n",
    "        \n",
    "        return data\n",
    "    \n",
    "    def fit(self, data, y=None):\n",
    "        return self\n",
    "    \n",
    "    def transform(self, data, y=None):\n",
    "        data['date_of_birth'] = data['date_of_birth'].apply(self._unifyFormats)\n",
    "        return data"
   ]
  },
  {
   "cell_type": "code",
   "execution_count": 116,
   "metadata": {},
   "outputs": [],
   "source": [
    "class AddressUnificationTransformer(TransformerMixin):\n",
    "    \n",
    "    def _splittAddress(self, data):\n",
    "        data['street'] = 'street'\n",
    "        data['town'] = 'town'\n",
    "        data['psc'] = 'psc'\n",
    "        for i in range(len(data.address)):\n",
    "            helper = re.split('\\n|, ', data.address[i])\n",
    "            data.loc[i, 'street'] = str(helper[0]).strip()\n",
    "            data.loc[i, 'town'] = str(helper[1])\n",
    "            if len(helper) == 2:\n",
    "                data.loc[i, 'town'] = str(helper[1][:-8])\n",
    "                data.loc[i, 'psc'] = str(helper[1][-8:])\n",
    "            if len(helper) == 3:\n",
    "                data.loc[i, 'psc'] = str(helper[2])\n",
    "        data = data.drop(columns=['address'])\n",
    "        return data\n",
    "        \n",
    "    def fit(self, data, y=None):\n",
    "        return self\n",
    "    \n",
    "    def transform(self, data, y=None):\n",
    "        data = self._splittAddress(data)\n",
    "        return data"
   ]
  },
  {
   "cell_type": "code",
   "execution_count": 117,
   "metadata": {},
   "outputs": [],
   "source": [
    "class AgeUnificationTransformer(TransformerMixin):\n",
    "    \n",
    "    def _unifyAge(self, data):\n",
    "        date = datetime.date(2019, 12, 31)\n",
    "        birth = datetime.date(int(data[:4]), int(data[5:7]), int(data[8:]))\n",
    "        age = date - birth\n",
    "        age = age.days // 365\n",
    "        return age\n",
    "        \n",
    "    def fit(self, data, y=None):\n",
    "        return self\n",
    "    \n",
    "    def transform(self, data, y=None):\n",
    "        data['age'] = data['date_of_birth'].apply(self._unifyAge)\n",
    "        return data"
   ]
  },
  {
   "cell_type": "code",
   "execution_count": 118,
   "metadata": {},
   "outputs": [],
   "source": [
    "class PregnantUnificationTransformer(TransformerMixin):\n",
    "          \n",
    "    def fit(self, data, y=None):\n",
    "        return self\n",
    "    \n",
    "    def transform(self, data, y=None):\n",
    "        for i in range(len(data)):\n",
    "            if data.loc[i, 'pregnant'] in ['f','F','FALSE']:\n",
    "                data.loc[i, 'pregnant'] = int(0)\n",
    "            elif data.loc[i, 'pregnant'] in ['t','T','TRUE']:\n",
    "                data.loc[i, 'pregnant'] = int(1)\n",
    "            elif data.loc[i, 'sex'] == 'Male':\n",
    "                data.loc[i, 'pregnant'] = int(0)\n",
    "            else: \n",
    "                data.loc[i, 'pregnant'] = np.nan\n",
    "        data.pregnant = data.pregnant.astype('int64')\n",
    "        return data"
   ]
  },
  {
   "cell_type": "code",
   "execution_count": 119,
   "metadata": {},
   "outputs": [],
   "source": [
    "class WorkclassUnificationTransformer(TransformerMixin):\n",
    "    def _unifyWorkclass(self, data):\n",
    "        string = str(data).lower()\n",
    "        if string == 'nan':\n",
    "            return np.nan\n",
    "        else:\n",
    "            return string\n",
    "        \n",
    "    def fit(self, data, y=None):\n",
    "        return self\n",
    "    \n",
    "    def transform(self, data, y=None):\n",
    "        data.workclass = data.workclass.apply(self._unifyWorkclass)\n",
    "        return data"
   ]
  },
  {
   "cell_type": "code",
   "execution_count": 120,
   "metadata": {},
   "outputs": [],
   "source": [
    "class RelationshipUnificationTransformer(TransformerMixin):\n",
    "    def _unifyRelationship(self, data):\n",
    "        string = str(data)\n",
    "        if string == 'nan':\n",
    "            return np.nan\n",
    "        else:\n",
    "            return string.replace('_', '-')\n",
    "        \n",
    "    def fit(self, data, y=None):\n",
    "        return self\n",
    "    \n",
    "    def transform(self, data, y=None):\n",
    "        data['relationship'] = data['relationship'].apply(self._unifyRelationship)\n",
    "        return data"
   ]
  },
  {
   "cell_type": "code",
   "execution_count": 121,
   "metadata": {},
   "outputs": [],
   "source": [
    "class MedianTransformer(TransformerMixin):\n",
    "    def __init__(self, columns):\n",
    "        self.columns = columns\n",
    "        self.medians = {}\n",
    "        \n",
    "    def fit(self, data, y=None):\n",
    "        for column in self.columns:\n",
    "            self.medians[column] = data[column].median()\n",
    "        return self\n",
    "    \n",
    "    def transform(self, data, y=None):\n",
    "        for column in self.columns:\n",
    "            data[column].fillna(self.medians[column], inplace=True)\n",
    "            \n",
    "        return data"
   ]
  },
  {
   "cell_type": "code",
   "execution_count": 122,
   "metadata": {},
   "outputs": [],
   "source": [
    "class MeanTransformer(TransformerMixin):\n",
    "    def __init__(self, columns):\n",
    "        self.columns = columns\n",
    "        self.means = {}\n",
    "        \n",
    "    def fit(self, data, y=None):      \n",
    "        for column in self.columns:\n",
    "            self.means[column] = data[column].mean()\n",
    "        return self\n",
    "    \n",
    "    def transform(self, data, y=None):\n",
    "        for column in self.columns:\n",
    "            data[column].fillna(self.means[column], inplace=True)\n",
    "            \n",
    "        return data"
   ]
  },
  {
   "cell_type": "code",
   "execution_count": 123,
   "metadata": {},
   "outputs": [],
   "source": [
    "class MostFrequentTransformer(TransformerMixin):\n",
    "    def __init__(self, columns):\n",
    "        self.columns = columns\n",
    "        self.modes = {}\n",
    "        \n",
    "    def fit(self, data, y=None):\n",
    "        for column in self.columns:\n",
    "            self.modes[column] = data[column].mode()[0]\n",
    "        return self\n",
    "    \n",
    "    def transform(self, data, y=None):\n",
    "        for column in self.columns:\n",
    "            data[column].fillna(self.modes[column], inplace=True)\n",
    "            \n",
    "        return data"
   ]
  },
  {
   "cell_type": "code",
   "execution_count": 124,
   "metadata": {},
   "outputs": [],
   "source": [
    "class KNNTransformer(TransformerMixin):\n",
    "    def __init__(self, columns):\n",
    "        self.columns = columns\n",
    "        \n",
    "    def _kNN(self, data, column):\n",
    "        imp_kNN = KNNImputer(missing_values=np.nan)\n",
    "        data[column] = imp_kNN.fit_transform(data[[column]])\n",
    "        return data\n",
    "        \n",
    "    def fit(self, data, y=None):\n",
    "        return self\n",
    "    \n",
    "    def transform(self, data, y=None):\n",
    "        for column in self.columns:\n",
    "            data = self._kNN(data, column)\n",
    "            \n",
    "        return data"
   ]
  },
  {
   "cell_type": "code",
   "execution_count": 125,
   "metadata": {},
   "outputs": [],
   "source": [
    "class AgeToNanTransformer(TransformerMixin):\n",
    "        \n",
    "    def _ageToNan(self, data):\n",
    "        if data < 0:\n",
    "            return np.nan\n",
    "        else:\n",
    "            return data\n",
    "        \n",
    "    def fit(self, data, y=None):\n",
    "        return self\n",
    "    \n",
    "    def transform(self, data, y=None): \n",
    "        data['age'] = data['age'].apply(self._ageToNan)   \n",
    "        return data"
   ]
  },
  {
   "cell_type": "markdown",
   "metadata": {},
   "source": [
    "Zmena..."
   ]
  },
  {
   "cell_type": "code",
   "execution_count": 126,
   "metadata": {},
   "outputs": [],
   "source": [
    "class ClassRemovalTransformer(TransformerMixin):\n",
    "        \n",
    "    def fit(self, data, y=None):\n",
    "        return self\n",
    "    \n",
    "    def transform(self, data, y=None): \n",
    "        data = data[data['class'].notna()]\n",
    "        data = data.reset_index(drop = True)\n",
    "        return data\n"
   ]
  },
  {
   "cell_type": "code",
   "execution_count": 127,
   "metadata": {},
   "outputs": [],
   "source": [
    "class OutliersTransformer(TransformerMixin):\n",
    "    def __init__(self, columns):\n",
    "        self.columns = columns\n",
    "        \n",
    "    def _standarddeviation(self, data):\n",
    "        data_mean, data_std = np.mean(data), np.std(data)\n",
    "\n",
    "        cut_off = data_std * 3\n",
    "        lower, upper = data_mean - cut_off, data_mean + cut_off \n",
    "\n",
    "        outliers = [x for x in data if x < lower or x > upper] \n",
    "        print('Počet záznamov=', len(data), ', počet outlierov: %d' % len(outliers))\n",
    "        print('\\n')\n",
    "                \n",
    "    def _setOutliers(self, data, column):\n",
    "        percentile_95 = data[column].quantile(0.95)\n",
    "        percentile_05 = data[column].quantile(0.05)\n",
    "        data.loc[data[column] < percentile_05, column] = percentile_05\n",
    "        data.loc[data[column] > percentile_95, column] = percentile_95\n",
    "        \n",
    "    def fit(self, data, y=None):\n",
    "        return self\n",
    "    \n",
    "    def transform(self, data, y=None):\n",
    "        for column in self.columns:\n",
    "            print('Atribút ', column, '\\n')\n",
    "            print('Pred úpravou:')\n",
    "            self._standarddeviation(data[column])\n",
    "            self._setOutliers(data, column)\n",
    "            print('Po úprave:')\n",
    "            self._standarddeviation(data[column])\n",
    "            print('-------------------------------------------------------------------------------------------------------------')\n",
    "\n",
    "            \n",
    "        return data"
   ]
  },
  {
   "cell_type": "code",
   "execution_count": 128,
   "metadata": {},
   "outputs": [],
   "source": [
    "class PowerTransformTransformer(TransformerMixin):\n",
    "    def __init__(self, columns):\n",
    "        self.columns = columns\n",
    "        \n",
    "    def _powerTransform(self, data, column):\n",
    "        power = PowerTransformer(method='yeo-johnson', standardize=True) \n",
    "        data[column] = power.fit_transform(data[[column]])\n",
    "        \n",
    "    def fit(self, data, y=None):\n",
    "        return self\n",
    "    \n",
    "    def transform(self, data, y=None):\n",
    "        for column in self.columns:\n",
    "            self._powerTransform(data, column)\n",
    "            \n",
    "        return data"
   ]
  },
  {
   "cell_type": "code",
   "execution_count": 129,
   "metadata": {},
   "outputs": [],
   "source": [
    "class HoursUnificationTransformer(TransformerMixin):\n",
    "        \n",
    "    def _hoursToNan(self, data):\n",
    "        if data < 0 or data > 168:\n",
    "            return np.nan\n",
    "        else:\n",
    "            return data\n",
    "        \n",
    "    def fit(self, data, y=None):\n",
    "        return self\n",
    "    \n",
    "    def transform(self, data, y=None): \n",
    "        data['hours-per-week'] = data['hours-per-week'].apply(self._hoursToNan)   \n",
    "        return data"
   ]
  },
  {
   "cell_type": "markdown",
   "metadata": {},
   "source": [
    "Popísať vykonané zmeny"
   ]
  },
  {
   "cell_type": "code",
   "execution_count": 130,
   "metadata": {},
   "outputs": [],
   "source": [
    "class LabelEncoderTransformer(TransformerMixin):\n",
    "    \n",
    "    def __init__(self, columns):\n",
    "        self.columns = columns\n",
    "        self.encoders = {}\n",
    "        for column in self.columns:\n",
    "            self.encoders[column] = LabelEncoder()\n",
    "        \n",
    "    def fit(self, data, y=None):\n",
    "        for column in self.columns:\n",
    "            self.encoders[column].fit(list(data[column]) + ['Unknown'])\n",
    "        return self\n",
    "    \n",
    "    def transform(self, data, y=None): \n",
    "        for column in self.columns:\n",
    "            data_list = list(data[column])\n",
    "            for unique_item in np.unique(data[column]):\n",
    "                if unique_item not in self.encoders[column].classes_:\n",
    "                    data_list = ['Unknown' if x==unique_item else x for x in data_list]\n",
    "\n",
    "            data[column] = self.encoders[column].transform(data_list)\n",
    "        return data"
   ]
  },
  {
   "cell_type": "code",
   "execution_count": 131,
   "metadata": {},
   "outputs": [],
   "source": [
    "personal_train = pd.read_csv('personal_train.csv', index_col='Unnamed: 0')"
   ]
  },
  {
   "cell_type": "code",
   "execution_count": 132,
   "metadata": {},
   "outputs": [],
   "source": [
    "other_train = pd.read_csv('other_train.csv', index_col='Unnamed: 0')"
   ]
  },
  {
   "cell_type": "code",
   "execution_count": 133,
   "metadata": {},
   "outputs": [],
   "source": [
    "personal_valid = pd.read_csv('personal_valid.csv', index_col='Unnamed: 0')"
   ]
  },
  {
   "cell_type": "code",
   "execution_count": 134,
   "metadata": {},
   "outputs": [],
   "source": [
    "other_valid = pd.read_csv('other_valid.csv', index_col='Unnamed: 0')"
   ]
  },
  {
   "cell_type": "code",
   "execution_count": 135,
   "metadata": {},
   "outputs": [],
   "source": [
    "merge = Pipeline([('merge', MergeTransformer(personal_train, other_train, ['name', 'address']))])\n",
    "\n",
    "data_train = pd.DataFrame()\n",
    "data_train = merge.transform(data_train)"
   ]
  },
  {
   "cell_type": "code",
   "execution_count": 136,
   "metadata": {},
   "outputs": [
    {
     "name": "stdout",
     "output_type": "stream",
     "text": [
      "Atribút  fnlwgt \n",
      "\n",
      "Pred úpravou:\n",
      "Počet záznamov= 3932 , počet outlierov: 22\n",
      "\n",
      "\n",
      "Po úprave:\n",
      "Počet záznamov= 3932 , počet outlierov: 0\n",
      "\n",
      "\n",
      "-------------------------------------------------------------------------------------------------------------\n",
      "Atribút  mean_glucose \n",
      "\n",
      "Pred úpravou:\n",
      "Počet záznamov= 3932 , počet outlierov: 3\n",
      "\n",
      "\n",
      "Po úprave:\n",
      "Počet záznamov= 3932 , počet outlierov: 0\n",
      "\n",
      "\n",
      "-------------------------------------------------------------------------------------------------------------\n",
      "Atribút  std_glucose \n",
      "\n",
      "Pred úpravou:\n",
      "Počet záznamov= 3932 , počet outlierov: 17\n",
      "\n",
      "\n",
      "Po úprave:\n",
      "Počet záznamov= 3932 , počet outlierov: 0\n",
      "\n",
      "\n",
      "-------------------------------------------------------------------------------------------------------------\n",
      "Atribút  kurtosis_glucose \n",
      "\n",
      "Pred úpravou:\n",
      "Počet záznamov= 3932 , počet outlierov: 18\n",
      "\n",
      "\n",
      "Po úprave:\n",
      "Počet záznamov= 3932 , počet outlierov: 0\n",
      "\n",
      "\n",
      "-------------------------------------------------------------------------------------------------------------\n",
      "Atribút  skewness_glucose \n",
      "\n",
      "Pred úpravou:\n",
      "Počet záznamov= 3932 , počet outlierov: 14\n",
      "\n",
      "\n",
      "Po úprave:\n",
      "Počet záznamov= 3932 , počet outlierov: 0\n",
      "\n",
      "\n",
      "-------------------------------------------------------------------------------------------------------------\n",
      "Atribút  mean_oxygen \n",
      "\n",
      "Pred úpravou:\n",
      "Počet záznamov= 3932 , počet outlierov: 0\n",
      "\n",
      "\n",
      "Po úprave:\n",
      "Počet záznamov= 3932 , počet outlierov: 0\n",
      "\n",
      "\n",
      "-------------------------------------------------------------------------------------------------------------\n",
      "Atribút  std_oxygen \n",
      "\n",
      "Pred úpravou:\n",
      "Počet záznamov= 3932 , počet outlierov: 0\n",
      "\n",
      "\n",
      "Po úprave:\n",
      "Počet záznamov= 3932 , počet outlierov: 0\n",
      "\n",
      "\n",
      "-------------------------------------------------------------------------------------------------------------\n",
      "Atribút  kurtosis_oxygen \n",
      "\n",
      "Pred úpravou:\n",
      "Počet záznamov= 3932 , počet outlierov: 17\n",
      "\n",
      "\n",
      "Po úprave:\n",
      "Počet záznamov= 3932 , počet outlierov: 0\n",
      "\n",
      "\n",
      "-------------------------------------------------------------------------------------------------------------\n",
      "Atribút  skewness_oxygen \n",
      "\n",
      "Pred úpravou:\n",
      "Počet záznamov= 3932 , počet outlierov: 9\n",
      "\n",
      "\n",
      "Po úprave:\n",
      "Počet záznamov= 3932 , počet outlierov: 0\n",
      "\n",
      "\n",
      "-------------------------------------------------------------------------------------------------------------\n",
      "Atribút  fnlwgt \n",
      "\n",
      "Pred úpravou:\n",
      "Počet záznamov= 3932 , počet outlierov: 22\n",
      "\n",
      "\n",
      "Po úprave:\n",
      "Počet záznamov= 3932 , počet outlierov: 0\n",
      "\n",
      "\n",
      "-------------------------------------------------------------------------------------------------------------\n",
      "Atribút  mean_glucose \n",
      "\n",
      "Pred úpravou:\n",
      "Počet záznamov= 3932 , počet outlierov: 3\n",
      "\n",
      "\n",
      "Po úprave:\n",
      "Počet záznamov= 3932 , počet outlierov: 0\n",
      "\n",
      "\n",
      "-------------------------------------------------------------------------------------------------------------\n",
      "Atribút  std_glucose \n",
      "\n",
      "Pred úpravou:\n",
      "Počet záznamov= 3932 , počet outlierov: 17\n",
      "\n",
      "\n",
      "Po úprave:\n",
      "Počet záznamov= 3932 , počet outlierov: 0\n",
      "\n",
      "\n",
      "-------------------------------------------------------------------------------------------------------------\n",
      "Atribút  kurtosis_glucose \n",
      "\n",
      "Pred úpravou:\n",
      "Počet záznamov= 3932 , počet outlierov: 18\n",
      "\n",
      "\n",
      "Po úprave:\n",
      "Počet záznamov= 3932 , počet outlierov: 0\n",
      "\n",
      "\n",
      "-------------------------------------------------------------------------------------------------------------\n",
      "Atribút  skewness_glucose \n",
      "\n",
      "Pred úpravou:\n",
      "Počet záznamov= 3932 , počet outlierov: 14\n",
      "\n",
      "\n",
      "Po úprave:\n",
      "Počet záznamov= 3932 , počet outlierov: 0\n",
      "\n",
      "\n",
      "-------------------------------------------------------------------------------------------------------------\n",
      "Atribút  mean_oxygen \n",
      "\n",
      "Pred úpravou:\n",
      "Počet záznamov= 3932 , počet outlierov: 0\n",
      "\n",
      "\n",
      "Po úprave:\n",
      "Počet záznamov= 3932 , počet outlierov: 0\n",
      "\n",
      "\n",
      "-------------------------------------------------------------------------------------------------------------\n",
      "Atribút  std_oxygen \n",
      "\n",
      "Pred úpravou:\n",
      "Počet záznamov= 3932 , počet outlierov: 0\n",
      "\n",
      "\n",
      "Po úprave:\n",
      "Počet záznamov= 3932 , počet outlierov: 0\n",
      "\n",
      "\n",
      "-------------------------------------------------------------------------------------------------------------\n",
      "Atribút  kurtosis_oxygen \n",
      "\n",
      "Pred úpravou:\n",
      "Počet záznamov= 3932 , počet outlierov: 17\n",
      "\n",
      "\n",
      "Po úprave:\n",
      "Počet záznamov= 3932 , počet outlierov: 0\n",
      "\n",
      "\n",
      "-------------------------------------------------------------------------------------------------------------\n",
      "Atribút  skewness_oxygen \n",
      "\n",
      "Pred úpravou:\n",
      "Počet záznamov= 3932 , počet outlierov: 9\n",
      "\n",
      "\n",
      "Po úprave:\n",
      "Počet záznamov= 3932 , počet outlierov: 0\n",
      "\n",
      "\n",
      "-------------------------------------------------------------------------------------------------------------\n"
     ]
    }
   ],
   "source": [
    "most_frequent_missing = ['education-num','race', 'marital-status', 'occupation', 'relationship', 'native-country', 'workclass', 'capital-gain', 'capital-loss']\n",
    "\n",
    "glucose = ['mean_glucose', 'std_glucose', 'kurtosis_glucose', 'skewness_glucose']\n",
    "\n",
    "oxygen_age = ['mean_oxygen', 'std_oxygen', 'kurtosis_oxygen', 'skewness_oxygen', 'age']\n",
    "\n",
    "encode = ['sex', 'race', 'marital-status', 'occupation', 'relationship', 'income', 'native-country', 'workclass', 'town', 'psc', 'street']\n",
    "\n",
    "outliers = ['fnlwgt', 'mean_glucose', 'std_glucose', 'kurtosis_glucose', 'skewness_glucose', 'mean_oxygen', 'std_oxygen', 'kurtosis_oxygen', 'skewness_oxygen']\n",
    "\n",
    "pip = Pipeline([('split_medical', SplittingMedicalTransformer()),\n",
    "               ('deduplication', DeduplicationTransformer(['name','address'])),\n",
    "               ('strip', StripTransformer(['sex', 'race', 'marital-status', 'occupation', 'relationship', 'education', 'income', 'native-country', 'workclass'])),\n",
    "               ('nan_unification', UnificationToNanTransformer()),\n",
    "               ('date_unification', DateUnificationTransformer()),\n",
    "               ('address_unification', AddressUnificationTransformer()),\n",
    "               ('age_unification', AgeUnificationTransformer()),\n",
    "               ('pregnant_unification', PregnantUnificationTransformer()),\n",
    "               ('workclass_unification', WorkclassUnificationTransformer()),\n",
    "               ('relationship_unification', RelationshipUnificationTransformer()),\n",
    "               ('age_to_nan', AgeToNanTransformer()),\n",
    "               ('most_frequent_missing', MostFrequentTransformer(most_frequent_missing)),\n",
    "               ('class_remove', ClassRemovalTransformer()),\n",
    "               ('hours-per-week', MeanTransformer(['hours-per-week'])),\n",
    "               ('glucose', KNNTransformer(glucose)),\n",
    "               ('oxygen_age', MedianTransformer(oxygen_age)),\n",
    "               ('power_transform',PowerTransformTransformer(outliers)),\n",
    "               ('outliers', OutliersTransformer(outliers)),\n",
    "               ('encode', LabelEncoderTransformer(encode))])\n",
    "\n",
    "pip.fit(data_train)\n",
    "data_train = pip.transform(data_train)"
   ]
  },
  {
   "cell_type": "code",
   "execution_count": 137,
   "metadata": {},
   "outputs": [],
   "source": [
    "merge = Pipeline([('merge', MergeTransformer(personal_valid, other_valid, ['name', 'address']))])\n",
    "\n",
    "data_valid = pd.DataFrame()\n",
    "data_valid = merge.transform(data_valid)"
   ]
  },
  {
   "cell_type": "code",
   "execution_count": 138,
   "metadata": {},
   "outputs": [
    {
     "name": "stdout",
     "output_type": "stream",
     "text": [
      "Atribút  fnlwgt \n",
      "\n",
      "Pred úpravou:\n",
      "Počet záznamov= 1311 , počet outlierov: 2\n",
      "\n",
      "\n",
      "Po úprave:\n",
      "Počet záznamov= 1311 , počet outlierov: 0\n",
      "\n",
      "\n",
      "-------------------------------------------------------------------------------------------------------------\n",
      "Atribút  mean_glucose \n",
      "\n",
      "Pred úpravou:\n",
      "Počet záznamov= 1311 , počet outlierov: 0\n",
      "\n",
      "\n",
      "Po úprave:\n",
      "Počet záznamov= 1311 , počet outlierov: 0\n",
      "\n",
      "\n",
      "-------------------------------------------------------------------------------------------------------------\n",
      "Atribút  std_glucose \n",
      "\n",
      "Pred úpravou:\n",
      "Počet záznamov= 1311 , počet outlierov: 5\n",
      "\n",
      "\n",
      "Po úprave:\n",
      "Počet záznamov= 1311 , počet outlierov: 0\n",
      "\n",
      "\n",
      "-------------------------------------------------------------------------------------------------------------\n",
      "Atribút  kurtosis_glucose \n",
      "\n",
      "Pred úpravou:\n",
      "Počet záznamov= 1311 , počet outlierov: 5\n",
      "\n",
      "\n",
      "Po úprave:\n",
      "Počet záznamov= 1311 , počet outlierov: 0\n",
      "\n",
      "\n",
      "-------------------------------------------------------------------------------------------------------------\n",
      "Atribút  skewness_glucose \n",
      "\n",
      "Pred úpravou:\n",
      "Počet záznamov= 1311 , počet outlierov: 3\n",
      "\n",
      "\n",
      "Po úprave:\n",
      "Počet záznamov= 1311 , počet outlierov: 0\n",
      "\n",
      "\n",
      "-------------------------------------------------------------------------------------------------------------\n",
      "Atribút  mean_oxygen \n",
      "\n",
      "Pred úpravou:\n",
      "Počet záznamov= 1311 , počet outlierov: 0\n",
      "\n",
      "\n",
      "Po úprave:\n",
      "Počet záznamov= 1311 , počet outlierov: 0\n",
      "\n",
      "\n",
      "-------------------------------------------------------------------------------------------------------------\n",
      "Atribút  std_oxygen \n",
      "\n",
      "Pred úpravou:\n",
      "Počet záznamov= 1311 , počet outlierov: 0\n",
      "\n",
      "\n",
      "Po úprave:\n",
      "Počet záznamov= 1311 , počet outlierov: 0\n",
      "\n",
      "\n",
      "-------------------------------------------------------------------------------------------------------------\n",
      "Atribút  kurtosis_oxygen \n",
      "\n",
      "Pred úpravou:\n",
      "Počet záznamov= 1311 , počet outlierov: 3\n",
      "\n",
      "\n",
      "Po úprave:\n",
      "Počet záznamov= 1311 , počet outlierov: 0\n",
      "\n",
      "\n",
      "-------------------------------------------------------------------------------------------------------------\n",
      "Atribút  skewness_oxygen \n",
      "\n",
      "Pred úpravou:\n",
      "Počet záznamov= 1311 , počet outlierov: 3\n",
      "\n",
      "\n",
      "Po úprave:\n",
      "Počet záznamov= 1311 , počet outlierov: 0\n",
      "\n",
      "\n",
      "-------------------------------------------------------------------------------------------------------------\n"
     ]
    }
   ],
   "source": [
    "data_valid = pip.transform(data_valid)"
   ]
  },
  {
   "cell_type": "code",
   "execution_count": 139,
   "metadata": {},
   "outputs": [
    {
     "data": {
      "text/html": [
       "<div>\n",
       "<style scoped>\n",
       "    .dataframe tbody tr th:only-of-type {\n",
       "        vertical-align: middle;\n",
       "    }\n",
       "\n",
       "    .dataframe tbody tr th {\n",
       "        vertical-align: top;\n",
       "    }\n",
       "\n",
       "    .dataframe thead th {\n",
       "        text-align: right;\n",
       "    }\n",
       "</style>\n",
       "<table border=\"1\" class=\"dataframe\">\n",
       "  <thead>\n",
       "    <tr style=\"text-align: right;\">\n",
       "      <th></th>\n",
       "      <th>name</th>\n",
       "      <th>age</th>\n",
       "      <th>sex</th>\n",
       "      <th>date_of_birth</th>\n",
       "      <th>race</th>\n",
       "      <th>marital-status</th>\n",
       "      <th>occupation</th>\n",
       "      <th>pregnant</th>\n",
       "      <th>education-num</th>\n",
       "      <th>relationship</th>\n",
       "      <th>...</th>\n",
       "      <th>std_glucose</th>\n",
       "      <th>kurtosis_glucose</th>\n",
       "      <th>skewness_glucose</th>\n",
       "      <th>mean_oxygen</th>\n",
       "      <th>std_oxygen</th>\n",
       "      <th>kurtosis_oxygen</th>\n",
       "      <th>skewness_oxygen</th>\n",
       "      <th>street</th>\n",
       "      <th>town</th>\n",
       "      <th>psc</th>\n",
       "    </tr>\n",
       "  </thead>\n",
       "  <tbody>\n",
       "    <tr>\n",
       "      <th>0</th>\n",
       "      <td>Philip Miller</td>\n",
       "      <td>52</td>\n",
       "      <td>1</td>\n",
       "      <td>1967-09-03</td>\n",
       "      <td>5</td>\n",
       "      <td>4</td>\n",
       "      <td>4</td>\n",
       "      <td>0</td>\n",
       "      <td>9.0</td>\n",
       "      <td>1</td>\n",
       "      <td>...</td>\n",
       "      <td>-0.010168</td>\n",
       "      <td>-1.083175</td>\n",
       "      <td>-0.255202</td>\n",
       "      <td>-0.416802</td>\n",
       "      <td>-0.491678</td>\n",
       "      <td>0.332974</td>\n",
       "      <td>0.387414</td>\n",
       "      <td>3922</td>\n",
       "      <td>2226</td>\n",
       "      <td>3520</td>\n",
       "    </tr>\n",
       "    <tr>\n",
       "      <th>1</th>\n",
       "      <td>Mitch Wilson</td>\n",
       "      <td>50</td>\n",
       "      <td>0</td>\n",
       "      <td>1969-07-19</td>\n",
       "      <td>5</td>\n",
       "      <td>4</td>\n",
       "      <td>0</td>\n",
       "      <td>0</td>\n",
       "      <td>10.0</td>\n",
       "      <td>3</td>\n",
       "      <td>...</td>\n",
       "      <td>1.065302</td>\n",
       "      <td>-0.959011</td>\n",
       "      <td>-1.406078</td>\n",
       "      <td>0.422036</td>\n",
       "      <td>0.471178</td>\n",
       "      <td>-0.495901</td>\n",
       "      <td>-0.527878</td>\n",
       "      <td>3922</td>\n",
       "      <td>2933</td>\n",
       "      <td>3520</td>\n",
       "    </tr>\n",
       "    <tr>\n",
       "      <th>2</th>\n",
       "      <td>James Olsen</td>\n",
       "      <td>36</td>\n",
       "      <td>1</td>\n",
       "      <td>1983-01-20</td>\n",
       "      <td>5</td>\n",
       "      <td>2</td>\n",
       "      <td>13</td>\n",
       "      <td>0</td>\n",
       "      <td>9.0</td>\n",
       "      <td>0</td>\n",
       "      <td>...</td>\n",
       "      <td>-0.281893</td>\n",
       "      <td>-0.503283</td>\n",
       "      <td>-0.059564</td>\n",
       "      <td>-1.386288</td>\n",
       "      <td>-1.454295</td>\n",
       "      <td>1.468397</td>\n",
       "      <td>1.458314</td>\n",
       "      <td>3922</td>\n",
       "      <td>2933</td>\n",
       "      <td>3520</td>\n",
       "    </tr>\n",
       "    <tr>\n",
       "      <th>3</th>\n",
       "      <td>Maurice Riley</td>\n",
       "      <td>56</td>\n",
       "      <td>1</td>\n",
       "      <td>1963-04-18</td>\n",
       "      <td>5</td>\n",
       "      <td>2</td>\n",
       "      <td>11</td>\n",
       "      <td>0</td>\n",
       "      <td>4.0</td>\n",
       "      <td>0</td>\n",
       "      <td>...</td>\n",
       "      <td>-0.010168</td>\n",
       "      <td>-0.971483</td>\n",
       "      <td>-0.600971</td>\n",
       "      <td>-0.241584</td>\n",
       "      <td>-0.059667</td>\n",
       "      <td>0.314069</td>\n",
       "      <td>0.286062</td>\n",
       "      <td>3922</td>\n",
       "      <td>810</td>\n",
       "      <td>3520</td>\n",
       "    </tr>\n",
       "    <tr>\n",
       "      <th>4</th>\n",
       "      <td>Larry Stanley</td>\n",
       "      <td>72</td>\n",
       "      <td>1</td>\n",
       "      <td>1947-09-04</td>\n",
       "      <td>5</td>\n",
       "      <td>4</td>\n",
       "      <td>9</td>\n",
       "      <td>0</td>\n",
       "      <td>10.0</td>\n",
       "      <td>3</td>\n",
       "      <td>...</td>\n",
       "      <td>-1.670691</td>\n",
       "      <td>1.733144</td>\n",
       "      <td>1.706862</td>\n",
       "      <td>1.609443</td>\n",
       "      <td>1.272269</td>\n",
       "      <td>-1.452033</td>\n",
       "      <td>-1.462614</td>\n",
       "      <td>3922</td>\n",
       "      <td>2933</td>\n",
       "      <td>3520</td>\n",
       "    </tr>\n",
       "  </tbody>\n",
       "</table>\n",
       "<p>5 rows × 30 columns</p>\n",
       "</div>"
      ],
      "text/plain": [
       "            name  age  sex date_of_birth  race  marital-status  occupation  \\\n",
       "0  Philip Miller   52    1    1967-09-03     5               4           4   \n",
       "1   Mitch Wilson   50    0    1969-07-19     5               4           0   \n",
       "2    James Olsen   36    1    1983-01-20     5               2          13   \n",
       "3  Maurice Riley   56    1    1963-04-18     5               2          11   \n",
       "4  Larry Stanley   72    1    1947-09-04     5               4           9   \n",
       "\n",
       "   pregnant  education-num  relationship  ...  std_glucose kurtosis_glucose  \\\n",
       "0         0            9.0             1  ...    -0.010168        -1.083175   \n",
       "1         0           10.0             3  ...     1.065302        -0.959011   \n",
       "2         0            9.0             0  ...    -0.281893        -0.503283   \n",
       "3         0            4.0             0  ...    -0.010168        -0.971483   \n",
       "4         0           10.0             3  ...    -1.670691         1.733144   \n",
       "\n",
       "   skewness_glucose  mean_oxygen  std_oxygen  kurtosis_oxygen  \\\n",
       "0         -0.255202    -0.416802   -0.491678         0.332974   \n",
       "1         -1.406078     0.422036    0.471178        -0.495901   \n",
       "2         -0.059564    -1.386288   -1.454295         1.468397   \n",
       "3         -0.600971    -0.241584   -0.059667         0.314069   \n",
       "4          1.706862     1.609443    1.272269        -1.452033   \n",
       "\n",
       "   skewness_oxygen  street  town   psc  \n",
       "0         0.387414    3922  2226  3520  \n",
       "1        -0.527878    3922  2933  3520  \n",
       "2         1.458314    3922  2933  3520  \n",
       "3         0.286062    3922   810  3520  \n",
       "4        -1.462614    3922  2933  3520  \n",
       "\n",
       "[5 rows x 30 columns]"
      ]
     },
     "execution_count": 139,
     "metadata": {},
     "output_type": "execute_result"
    }
   ],
   "source": [
    "data_valid.head()"
   ]
  },
  {
   "cell_type": "markdown",
   "metadata": {},
   "source": [
    "## Manuálne vytvorenie rozhodovaích pravidiel\n",
    "\n",
    "### Pre jeden atribút\n",
    "\n",
    "Zvolený atribút **kurtosis_glucose**"
   ]
  },
  {
   "cell_type": "code",
   "execution_count": 140,
   "metadata": {},
   "outputs": [
    {
     "data": {
      "image/png": "[encoded data removed]",
      "text/plain": [
       "<Figure size 432x288 with 1 Axes>"
      ]
     },
     "metadata": {
      "needs_background": "light"
     },
     "output_type": "display_data"
    }
   ],
   "source": [
    "ill_kg = data_train[data_train['class'] == 0.0].kurtosis_glucose\n",
    "healthy_kg = data_train[data_train['class'] == 1.0].kurtosis_glucose\n",
    "df = pd.DataFrame({\n",
    "    'ill': ill_kg,\n",
    "    'healthy': healthy_kg})\n",
    "ax = df.plot.hist(bins=25, alpha=0.5)"
   ]
  },
  {
   "cell_type": "markdown",
   "metadata": {},
   "source": [
    "Na základe hostogamu sme si zvolili hodnotu 0.5. Tí čo budú pod touto hodnotou budú považovaný za chorých, ostatní budú považovaní za zdravých."
   ]
  },
  {
   "cell_type": "code",
   "execution_count": 141,
   "metadata": {},
   "outputs": [],
   "source": [
    "class KurtosisGlucosePredictor():\n",
    "    \n",
    "    def predict(self, data):\n",
    "        if data <= 0.5:\n",
    "            return 0.0\n",
    "        else:\n",
    "            return 1.0\n",
    "    \n",
    "    def transform(self, data):\n",
    "        predicted = data['kurtosis_glucose'].apply(self.predict)\n",
    "        return predicted"
   ]
  },
  {
   "cell_type": "code",
   "execution_count": 142,
   "metadata": {},
   "outputs": [],
   "source": [
    "predicted_train = KurtosisGlucosePredictor().transform(data_train)"
   ]
  },
  {
   "cell_type": "code",
   "execution_count": 143,
   "metadata": {},
   "outputs": [
    {
     "data": {
      "image/png": "[encoded data removed]",
      "text/plain": [
       "<Figure size 432x288 with 2 Axes>"
      ]
     },
     "metadata": {
      "needs_background": "light"
     },
     "output_type": "display_data"
    }
   ],
   "source": [
    "cm = confusion_matrix(data_train['class'], predicted_train)\n",
    "\n",
    "disp = ConfusionMatrixDisplay(confusion_matrix=cm)\n",
    "disp = disp.plot()"
   ]
  },
  {
   "cell_type": "code",
   "execution_count": 144,
   "metadata": {},
   "outputs": [
    {
     "name": "stdout",
     "output_type": "stream",
     "text": [
      "              precision    recall  f1-score   support\n",
      "\n",
      "         0.0       0.95      0.99      0.97      2928\n",
      "         1.0       0.96      0.86      0.91      1004\n",
      "\n",
      "    accuracy                           0.95      3932\n",
      "   macro avg       0.96      0.92      0.94      3932\n",
      "weighted avg       0.96      0.95      0.95      3932\n",
      "\n"
     ]
    }
   ],
   "source": [
    "print(classification_report(data_train['class'], predicted_train))"
   ]
  },
  {
   "cell_type": "code",
   "execution_count": 145,
   "metadata": {},
   "outputs": [
    {
     "name": "stdout",
     "output_type": "stream",
     "text": [
      "0.9549847405900305\n"
     ]
    }
   ],
   "source": [
    "print(accuracy_score(data_train['class'], predicted_train))"
   ]
  },
  {
   "cell_type": "code",
   "execution_count": 146,
   "metadata": {},
   "outputs": [],
   "source": [
    "predicted_valid = KurtosisGlucosePredictor().transform(data_valid)"
   ]
  },
  {
   "cell_type": "code",
   "execution_count": 147,
   "metadata": {},
   "outputs": [
    {
     "data": {
      "image/png": "[encoded data removed]",
      "text/plain": [
       "<Figure size 432x288 with 2 Axes>"
      ]
     },
     "metadata": {
      "needs_background": "light"
     },
     "output_type": "display_data"
    }
   ],
   "source": [
    "cm = confusion_matrix(data_valid['class'], predicted_valid)\n",
    "\n",
    "disp = ConfusionMatrixDisplay(confusion_matrix=cm)\n",
    "disp = disp.plot()"
   ]
  },
  {
   "cell_type": "code",
   "execution_count": 148,
   "metadata": {},
   "outputs": [
    {
     "name": "stdout",
     "output_type": "stream",
     "text": [
      "              precision    recall  f1-score   support\n",
      "\n",
      "         0.0       0.97      0.97      0.97       965\n",
      "         1.0       0.91      0.91      0.91       346\n",
      "\n",
      "    accuracy                           0.95      1311\n",
      "   macro avg       0.94      0.94      0.94      1311\n",
      "weighted avg       0.95      0.95      0.95      1311\n",
      "\n"
     ]
    }
   ],
   "source": [
    "print(classification_report(data_valid['class'], predicted_valid))"
   ]
  },
  {
   "cell_type": "code",
   "execution_count": 149,
   "metadata": {},
   "outputs": [
    {
     "name": "stdout",
     "output_type": "stream",
     "text": [
      "0.9511823035850496\n"
     ]
    }
   ],
   "source": [
    "print(accuracy_score(data_valid['class'], predicted_valid))"
   ]
  },
  {
   "cell_type": "markdown",
   "metadata": {},
   "source": [
    "### Pre tri atribúty\n",
    "\n",
    "Zvolený atribút **kurtosis_glucose**, **mean_glucose**, **mean_oxygen**."
   ]
  },
  {
   "cell_type": "code",
   "execution_count": 150,
   "metadata": {},
   "outputs": [
    {
     "data": {
      "image/png": "[encoded data removed]",
      "text/plain": [
       "<Figure size 432x288 with 1 Axes>"
      ]
     },
     "metadata": {
      "needs_background": "light"
     },
     "output_type": "display_data"
    }
   ],
   "source": [
    "ill_mg = data_train[data_train['class'] == 0.0].mean_glucose\n",
    "healthy_mg = data_train[data_train['class'] == 1.0].mean_glucose\n",
    "df = pd.DataFrame({\n",
    "    'ill': ill_mg,\n",
    "    'healthy': healthy_mg})\n",
    "ax = df.plot.hist(bins=25, alpha=0.5)"
   ]
  },
  {
   "cell_type": "markdown",
   "metadata": {},
   "source": [
    "Vybrali sme hodnotu: -0.7"
   ]
  },
  {
   "cell_type": "code",
   "execution_count": 151,
   "metadata": {},
   "outputs": [
    {
     "data": {
      "image/png": "[encoded data removed]",
      "text/plain": [
       "<Figure size 432x288 with 1 Axes>"
      ]
     },
     "metadata": {
      "needs_background": "light"
     },
     "output_type": "display_data"
    }
   ],
   "source": [
    "ill_mo = data_train[data_train['class'] == 0.0].mean_oxygen\n",
    "healthy_mo = data_train[data_train['class'] == 1.0].mean_oxygen\n",
    "df = pd.DataFrame({\n",
    "    'ill': ill_mo,\n",
    "    'healthy': healthy_mo})\n",
    "ax = df.plot.hist(bins=25, alpha=0.5)"
   ]
  },
  {
   "cell_type": "markdown",
   "metadata": {},
   "source": [
    "Vybrali sme hodnotu: 0.7"
   ]
  },
  {
   "cell_type": "code",
   "execution_count": 152,
   "metadata": {},
   "outputs": [],
   "source": [
    "class ComplexPredictor():\n",
    "    \n",
    "    def predict(self, row):\n",
    "        if row.kurtosis_glucose <= 0.5:\n",
    "            #chorý\n",
    "            if row.mean_glucose >= -0.7:\n",
    "                #chorý\n",
    "                if row.mean_oxygen <= 0.7:\n",
    "                    return 0.0\n",
    "                else:\n",
    "                    return 0.0 \n",
    "            else:\n",
    "                if row.mean_oxygen <= 0.7:\n",
    "                    return 0.0\n",
    "                else:\n",
    "                    return 1.0 \n",
    "        else:\n",
    "            #zdravý\n",
    "            if row.mean_glucose >= -0.7:\n",
    "                #chorý\n",
    "                if row.mean_oxygen <= 0.7:\n",
    "                    return 0.0\n",
    "                else:\n",
    "                    return 1.0 \n",
    "            else:\n",
    "                if row.mean_oxygen <= 0.7:\n",
    "                    return 1.0\n",
    "                else:\n",
    "                    return 1.0 \n",
    "        \n",
    "    \n",
    "    def transform(self, data):\n",
    "        predicted = []\n",
    "        for i in range(len(data)):\n",
    "            predicted.append(self.predict(data.loc[i]))\n",
    "            \n",
    "        return pd.Series(predicted)"
   ]
  },
  {
   "cell_type": "code",
   "execution_count": 153,
   "metadata": {},
   "outputs": [],
   "source": [
    "predicted_train = ComplexPredictor().transform(data_train)"
   ]
  },
  {
   "cell_type": "code",
   "execution_count": 154,
   "metadata": {},
   "outputs": [
    {
     "data": {
      "image/png": "[encoded data removed]",
      "text/plain": [
       "<Figure size 432x288 with 2 Axes>"
      ]
     },
     "metadata": {
      "needs_background": "light"
     },
     "output_type": "display_data"
    }
   ],
   "source": [
    "cm = confusion_matrix(data_train['class'], predicted_train)\n",
    "\n",
    "disp = ConfusionMatrixDisplay(confusion_matrix=cm)\n",
    "disp = disp.plot()"
   ]
  },
  {
   "cell_type": "code",
   "execution_count": 155,
   "metadata": {},
   "outputs": [
    {
     "name": "stdout",
     "output_type": "stream",
     "text": [
      "              precision    recall  f1-score   support\n",
      "\n",
      "         0.0       0.95      0.99      0.97      2928\n",
      "         1.0       0.96      0.84      0.90      1004\n",
      "\n",
      "    accuracy                           0.95      3932\n",
      "   macro avg       0.95      0.91      0.93      3932\n",
      "weighted avg       0.95      0.95      0.95      3932\n",
      "\n"
     ]
    }
   ],
   "source": [
    "print(classification_report(data_train['class'], predicted_train))"
   ]
  },
  {
   "cell_type": "code",
   "execution_count": 156,
   "metadata": {},
   "outputs": [
    {
     "name": "stdout",
     "output_type": "stream",
     "text": [
      "0.9501525940996948\n"
     ]
    }
   ],
   "source": [
    "print(accuracy_score(data_train['class'], predicted_train))"
   ]
  },
  {
   "cell_type": "code",
   "execution_count": 157,
   "metadata": {},
   "outputs": [],
   "source": [
    "predicted_valid = ComplexPredictor().transform(data_valid)"
   ]
  },
  {
   "cell_type": "code",
   "execution_count": 158,
   "metadata": {},
   "outputs": [
    {
     "data": {
      "image/png": "[encoded data removed]",
      "text/plain": [
       "<Figure size 432x288 with 2 Axes>"
      ]
     },
     "metadata": {
      "needs_background": "light"
     },
     "output_type": "display_data"
    }
   ],
   "source": [
    "cm = confusion_matrix(data_valid['class'], predicted_valid)\n",
    "\n",
    "disp = ConfusionMatrixDisplay(confusion_matrix=cm)\n",
    "disp = disp.plot()"
   ]
  },
  {
   "cell_type": "code",
   "execution_count": 159,
   "metadata": {},
   "outputs": [
    {
     "name": "stdout",
     "output_type": "stream",
     "text": [
      "              precision    recall  f1-score   support\n",
      "\n",
      "         0.0       0.95      0.98      0.97       965\n",
      "         1.0       0.93      0.87      0.90       346\n",
      "\n",
      "    accuracy                           0.95      1311\n",
      "   macro avg       0.94      0.92      0.93      1311\n",
      "weighted avg       0.95      0.95      0.95      1311\n",
      "\n"
     ]
    }
   ],
   "source": [
    "print(classification_report(data_valid['class'], predicted_valid))"
   ]
  },
  {
   "cell_type": "code",
   "execution_count": 160,
   "metadata": {},
   "outputs": [
    {
     "name": "stdout",
     "output_type": "stream",
     "text": [
      "0.9481311975591151\n"
     ]
    }
   ],
   "source": [
    "print(accuracy_score(data_valid['class'], predicted_valid))"
   ]
  },
  {
   "cell_type": "markdown",
   "metadata": {},
   "source": [
    "class DecisionTreeClasifier:\n",
    "    def __init__(self, max_depth):\n",
    "        self.max_depth = max_depth\n",
    "        \n",
    "    def _gini(self, n, m, num_parent):\n",
    "        return 1.0 - sum((n / m) ** 2 for n in num_parent)\n",
    "        \n",
    "    def splitpoint(self, x, y):\n",
    "        m = y.size\n",
    "        if m <= 1:\n",
    "            return None, None\n",
    "\n",
    "        # Count of each class in the current node.\n",
    "        num_parent = [np.sum(y == c) for c in range(self.n_classes_)]\n",
    "        print(num_parent)\n",
    "\n",
    "        # Gini of current node.\n",
    "        best_gini = self._gini(n, m, num_parent)\n",
    "        best_idx, best_thr = None, None\n",
    "\n",
    "        # Loop through all features.\n",
    "        for idx in range(self.n_features_):\n",
    "            # Sort data along selected feature.\n",
    "            thresholds, classes = zip(*sorted(zip(x[:, idx], y)))\n",
    "\n",
    "            # We could actually split the node according to each feature/threshold pair\n",
    "            # and count the resulting population for each class in the children, but\n",
    "            # instead we compute them in an iterative fashion, making this for loop\n",
    "            # linear rather than quadratic.\n",
    "            num_left = [0] * self.n_classes_\n",
    "            num_right = num_parent.copy()\n",
    "            for i in range(1, m):  # possible split positions\n",
    "                c = classes[i - 1]\n",
    "                num_left[c] += 1\n",
    "                num_right[c] -= 1\n",
    "                gini_left = 1.0 - sum(\n",
    "                    (num_left[x] / i) ** 2 for x in range(self.n_classes_)\n",
    "                )\n",
    "                gini_right = 1.0 - sum(\n",
    "                    (num_right[x] / (m - i)) ** 2 for x in range(self.n_classes_)\n",
    "                )\n",
    "\n",
    "                # The Gini impurity of a split is the weighted average of the Gini\n",
    "                # impurity of the children.\n",
    "                gini = (i * gini_left + (m - i) * gini_right) / m\n",
    "\n",
    "                # The following condition is to make sure we don't try to split two\n",
    "                # points with identical values for that feature, as it is impossible\n",
    "                # (both have to end up on the same side of a split).\n",
    "                if thresholds[i] == thresholds[i - 1]:\n",
    "                    continue\n",
    "\n",
    "                if gini < best_gini:\n",
    "                    best_gini = gini\n",
    "                    best_idx = idx\n",
    "                    best_thr = (thresholds[i] + thresholds[i - 1]) / 2  # midpoint\n",
    "\n",
    "        return best_idx, best_thr       "
   ]
  },
  {
   "cell_type": "markdown",
   "metadata": {},
   "source": [
    "## Využitie DecisionTree z scikit-learn"
   ]
  },
  {
   "cell_type": "code",
   "execution_count": 161,
   "metadata": {},
   "outputs": [
    {
     "data": {
      "text/plain": [
       "[Text(163.56375, 201.90857142857143, 'X[17] <= 0.5\\ngini = 0.38\\nsamples = 3932\\nvalue = [2928, 1004]'),\n",
       " Text(101.1375, 170.84571428571428, 'X[0] <= 78.5\\ngini = 0.086\\nsamples = 3026\\nvalue = [2889, 137]'),\n",
       " Text(73.935, 139.78285714285715, 'X[17] <= -0.119\\ngini = 0.08\\nsamples = 3012\\nvalue = [2886, 126]'),\n",
       " Text(36.27, 108.72, 'X[17] <= -0.449\\ngini = 0.021\\nsamples = 2102\\nvalue = [2080, 22]'),\n",
       " Text(22.32, 77.65714285714284, 'X[18] <= -1.159\\ngini = 0.006\\nsamples = 1275\\nvalue = [1271, 4]'),\n",
       " Text(11.16, 46.59428571428572, 'X[18] <= -1.159\\ngini = 0.022\\nsamples = 264\\nvalue = [261, 3]'),\n",
       " Text(5.58, 15.531428571428563, 'gini = 0.015\\nsamples = 263\\nvalue = [261, 2]'),\n",
       " Text(16.740000000000002, 15.531428571428563, 'gini = 0.0\\nsamples = 1\\nvalue = [0, 1]'),\n",
       " Text(33.480000000000004, 46.59428571428572, 'X[14] <= 1.5\\ngini = 0.002\\nsamples = 1011\\nvalue = [1010, 1]'),\n",
       " Text(27.9, 15.531428571428563, 'gini = 0.044\\nsamples = 44\\nvalue = [43, 1]'),\n",
       " Text(39.06, 15.531428571428563, 'gini = 0.0\\nsamples = 967\\nvalue = [967, 0]'),\n",
       " Text(50.22, 77.65714285714284, 'X[17] <= -0.449\\ngini = 0.043\\nsamples = 827\\nvalue = [809, 18]'),\n",
       " Text(44.64, 46.59428571428572, 'gini = 0.0\\nsamples = 1\\nvalue = [0, 1]'),\n",
       " Text(55.8, 46.59428571428572, 'X[6] <= 3.5\\ngini = 0.04\\nsamples = 826\\nvalue = [809, 17]'),\n",
       " Text(50.22, 15.531428571428563, 'gini = 0.346\\nsamples = 9\\nvalue = [7, 2]'),\n",
       " Text(61.38, 15.531428571428563, 'gini = 0.036\\nsamples = 817\\nvalue = [802, 15]'),\n",
       " Text(111.6, 108.72, 'X[21] <= -0.161\\ngini = 0.202\\nsamples = 910\\nvalue = [806, 104]'),\n",
       " Text(89.28, 77.65714285714284, 'X[17] <= 0.379\\ngini = 0.45\\nsamples = 170\\nvalue = [112, 58]'),\n",
       " Text(78.12, 46.59428571428572, 'X[24] <= 2684.0\\ngini = 0.403\\nsamples = 150\\nvalue = [108, 42]'),\n",
       " Text(72.54, 15.531428571428563, 'gini = 0.341\\nsamples = 124\\nvalue = [97, 27]'),\n",
       " Text(83.7, 15.531428571428563, 'gini = 0.488\\nsamples = 26\\nvalue = [11, 15]'),\n",
       " Text(100.44, 46.59428571428572, 'X[25] <= 1068.0\\ngini = 0.32\\nsamples = 20\\nvalue = [4, 16]'),\n",
       " Text(94.86, 15.531428571428563, 'gini = 0.375\\nsamples = 4\\nvalue = [3, 1]'),\n",
       " Text(106.02, 15.531428571428563, 'gini = 0.117\\nsamples = 16\\nvalue = [1, 15]'),\n",
       " Text(133.92000000000002, 77.65714285714284, 'X[0] <= 71.5\\ngini = 0.117\\nsamples = 740\\nvalue = [694, 46]'),\n",
       " Text(122.76, 46.59428571428572, 'X[0] <= 47.5\\ngini = 0.105\\nsamples = 734\\nvalue = [693, 41]'),\n",
       " Text(117.18, 15.531428571428563, 'gini = 0.014\\nsamples = 290\\nvalue = [288, 2]'),\n",
       " Text(128.34, 15.531428571428563, 'gini = 0.16\\nsamples = 444\\nvalue = [405, 39]'),\n",
       " Text(145.08, 46.59428571428572, 'X[16] <= -1.283\\ngini = 0.278\\nsamples = 6\\nvalue = [1, 5]'),\n",
       " Text(139.5, 15.531428571428563, 'gini = 0.0\\nsamples = 1\\nvalue = [1, 0]'),\n",
       " Text(150.66, 15.531428571428563, 'gini = 0.0\\nsamples = 5\\nvalue = [0, 5]'),\n",
       " Text(128.34, 139.78285714285715, 'X[25] <= 817.5\\ngini = 0.337\\nsamples = 14\\nvalue = [3, 11]'),\n",
       " Text(122.76, 108.72, 'gini = 0.0\\nsamples = 3\\nvalue = [3, 0]'),\n",
       " Text(133.92000000000002, 108.72, 'gini = 0.0\\nsamples = 11\\nvalue = [0, 11]'),\n",
       " Text(225.99, 170.84571428571428, 'X[17] <= 0.62\\ngini = 0.082\\nsamples = 906\\nvalue = [39, 867]'),\n",
       " Text(181.35, 139.78285714285715, 'X[18] <= 0.559\\ngini = 0.493\\nsamples = 50\\nvalue = [22, 28]'),\n",
       " Text(167.4, 108.72, 'X[0] <= 56.5\\ngini = 0.245\\nsamples = 28\\nvalue = [4, 24]'),\n",
       " Text(161.82, 77.65714285714284, 'X[9] <= -0.374\\ngini = 0.48\\nsamples = 10\\nvalue = [4, 6]'),\n",
       " Text(156.24, 46.59428571428572, 'gini = 0.0\\nsamples = 3\\nvalue = [3, 0]'),\n",
       " Text(167.4, 46.59428571428572, 'X[17] <= 0.607\\ngini = 0.245\\nsamples = 7\\nvalue = [1, 6]'),\n",
       " Text(161.82, 15.531428571428563, 'gini = 0.0\\nsamples = 6\\nvalue = [0, 6]'),\n",
       " Text(172.98, 15.531428571428563, 'gini = 0.0\\nsamples = 1\\nvalue = [1, 0]'),\n",
       " Text(172.98, 77.65714285714284, 'gini = 0.0\\nsamples = 18\\nvalue = [0, 18]'),\n",
       " Text(195.3, 108.72, 'X[20] <= 0.473\\ngini = 0.298\\nsamples = 22\\nvalue = [18, 4]'),\n",
       " Text(184.14000000000001, 77.65714285714284, 'X[15] <= -0.38\\ngini = 0.105\\nsamples = 18\\nvalue = [17, 1]'),\n",
       " Text(178.56, 46.59428571428572, 'gini = 0.0\\nsamples = 17\\nvalue = [17, 0]'),\n",
       " Text(189.72, 46.59428571428572, 'gini = 0.0\\nsamples = 1\\nvalue = [0, 1]'),\n",
       " Text(206.46, 77.65714285714284, 'X[12] <= 45.0\\ngini = 0.375\\nsamples = 4\\nvalue = [1, 3]'),\n",
       " Text(200.88, 46.59428571428572, 'gini = 0.0\\nsamples = 3\\nvalue = [0, 3]'),\n",
       " Text(212.04, 46.59428571428572, 'gini = 0.0\\nsamples = 1\\nvalue = [1, 0]'),\n",
       " Text(270.63, 139.78285714285715, 'X[16] <= 0.78\\ngini = 0.039\\nsamples = 856\\nvalue = [17, 839]'),\n",
       " Text(242.73, 108.72, 'X[19] <= -0.423\\ngini = 0.022\\nsamples = 820\\nvalue = [9, 811]'),\n",
       " Text(228.78, 77.65714285714284, 'X[21] <= 0.474\\ngini = 0.266\\nsamples = 19\\nvalue = [3, 16]'),\n",
       " Text(223.2, 46.59428571428572, 'gini = 0.0\\nsamples = 3\\nvalue = [3, 0]'),\n",
       " Text(234.36, 46.59428571428572, 'gini = 0.0\\nsamples = 16\\nvalue = [0, 16]'),\n",
       " Text(256.68, 77.65714285714284, 'X[25] <= 3793.0\\ngini = 0.015\\nsamples = 801\\nvalue = [6, 795]'),\n",
       " Text(245.52, 46.59428571428572, 'X[16] <= 0.209\\ngini = 0.01\\nsamples = 765\\nvalue = [4, 761]'),\n",
       " Text(239.94, 15.531428571428563, 'gini = 0.005\\nsamples = 726\\nvalue = [2, 724]'),\n",
       " Text(251.1, 15.531428571428563, 'gini = 0.097\\nsamples = 39\\nvalue = [2, 37]'),\n",
       " Text(267.84000000000003, 46.59428571428572, 'X[25] <= 3796.5\\ngini = 0.105\\nsamples = 36\\nvalue = [2, 34]'),\n",
       " Text(262.26, 15.531428571428563, 'gini = 0.0\\nsamples = 1\\nvalue = [1, 0]'),\n",
       " Text(273.42, 15.531428571428563, 'gini = 0.056\\nsamples = 35\\nvalue = [1, 34]'),\n",
       " Text(298.53000000000003, 108.72, 'X[20] <= 0.637\\ngini = 0.346\\nsamples = 36\\nvalue = [8, 28]'),\n",
       " Text(284.58, 77.65714285714284, 'X[18] <= 0.842\\ngini = 0.32\\nsamples = 5\\nvalue = [4, 1]'),\n",
       " Text(279.0, 46.59428571428572, 'gini = 0.0\\nsamples = 4\\nvalue = [4, 0]'),\n",
       " Text(290.16, 46.59428571428572, 'gini = 0.0\\nsamples = 1\\nvalue = [0, 1]'),\n",
       " Text(312.48, 77.65714285714284, 'X[0] <= 49.5\\ngini = 0.225\\nsamples = 31\\nvalue = [4, 27]'),\n",
       " Text(301.32, 46.59428571428572, 'X[21] <= -1.524\\ngini = 0.49\\nsamples = 7\\nvalue = [3, 4]'),\n",
       " Text(295.74, 15.531428571428563, 'gini = 0.375\\nsamples = 4\\nvalue = [3, 1]'),\n",
       " Text(306.9, 15.531428571428563, 'gini = 0.0\\nsamples = 3\\nvalue = [0, 3]'),\n",
       " Text(323.64, 46.59428571428572, 'X[12] <= 27.0\\ngini = 0.08\\nsamples = 24\\nvalue = [1, 23]'),\n",
       " Text(318.06, 15.531428571428563, 'gini = 0.444\\nsamples = 3\\nvalue = [1, 2]'),\n",
       " Text(329.22, 15.531428571428563, 'gini = 0.0\\nsamples = 21\\nvalue = [0, 21]')]"
      ]
     },
     "execution_count": 161,
     "metadata": {},
     "output_type": "execute_result"
    },
    {
     "data": {
      "image/png": "[encoded data removed]",
      "text/plain": [
       "<Figure size 432x288 with 1 Axes>"
      ]
     },
     "metadata": {
      "needs_background": "light"
     },
     "output_type": "display_data"
    }
   ],
   "source": [
    "data_copy = data_train.drop(columns=['class', 'name', 'date_of_birth', 'education'])\n",
    "X = data_copy\n",
    "y = data_train['class']\n",
    "\n",
    "clf = tree.DecisionTreeClassifier(max_depth = 6)\n",
    "clf = clf.fit(X, y)\n",
    "predicted_train = clf.predict(X)\n",
    "\n",
    "tree.plot_tree(clf) "
   ]
  },
  {
   "cell_type": "code",
   "execution_count": 162,
   "metadata": {},
   "outputs": [
    {
     "name": "stderr",
     "output_type": "stream",
     "text": [
      "Format: \"svg\" not recognized. Use one of:\r\n"
     ]
    },
    {
     "ename": "CalledProcessError",
     "evalue": "Command '['dot', '-Tsvg']' returned non-zero exit status 1. [stderr: b'Format: \"svg\" not recognized. Use one of:\\r\\n']",
     "output_type": "error",
     "traceback": [
      "\u001b[1;31m---------------------------------------------------------------------------\u001b[0m",
      "\u001b[1;31mCalledProcessError\u001b[0m                        Traceback (most recent call last)",
      "\u001b[1;32m<ipython-input-162-b93409f5f3f2>\u001b[0m in \u001b[0;36m<module>\u001b[1;34m\u001b[0m\n\u001b[0;32m     11\u001b[0m                                filled = True))\n\u001b[0;32m     12\u001b[0m \u001b[1;33m\u001b[0m\u001b[0m\n\u001b[1;32m---> 13\u001b[1;33m \u001b[0mdisplay\u001b[0m\u001b[1;33m(\u001b[0m\u001b[0mSVG\u001b[0m\u001b[1;33m(\u001b[0m\u001b[0mgraph\u001b[0m\u001b[1;33m.\u001b[0m\u001b[0mpipe\u001b[0m\u001b[1;33m(\u001b[0m\u001b[0mformat\u001b[0m\u001b[1;33m=\u001b[0m\u001b[1;34m'svg'\u001b[0m\u001b[1;33m)\u001b[0m\u001b[1;33m)\u001b[0m\u001b[1;33m)\u001b[0m\u001b[1;33m\u001b[0m\u001b[1;33m\u001b[0m\u001b[0m\n\u001b[0m\u001b[0;32m     14\u001b[0m \u001b[1;33m\u001b[0m\u001b[0m\n\u001b[0;32m     15\u001b[0m \u001b[1;32mfrom\u001b[0m \u001b[0mIPython\u001b[0m\u001b[1;33m.\u001b[0m\u001b[0mdisplay\u001b[0m \u001b[1;32mimport\u001b[0m \u001b[0mHTML\u001b[0m \u001b[1;31m# toto je tu len pre to aby sa mi obrazok zmestil na obrazovku\u001b[0m\u001b[1;33m\u001b[0m\u001b[1;33m\u001b[0m\u001b[0m\n",
      "\u001b[1;32md:\\users\\ivan\\fiit\\5.semester\\iau\\python\\xvykopal\\lib\\site-packages\\graphviz\\files.py\u001b[0m in \u001b[0;36mpipe\u001b[1;34m(self, format, renderer, formatter, quiet)\u001b[0m\n\u001b[0;32m    134\u001b[0m         \u001b[0mdata\u001b[0m \u001b[1;33m=\u001b[0m \u001b[0mtext_type\u001b[0m\u001b[1;33m(\u001b[0m\u001b[0mself\u001b[0m\u001b[1;33m.\u001b[0m\u001b[0msource\u001b[0m\u001b[1;33m)\u001b[0m\u001b[1;33m.\u001b[0m\u001b[0mencode\u001b[0m\u001b[1;33m(\u001b[0m\u001b[0mself\u001b[0m\u001b[1;33m.\u001b[0m\u001b[0m_encoding\u001b[0m\u001b[1;33m)\u001b[0m\u001b[1;33m\u001b[0m\u001b[1;33m\u001b[0m\u001b[0m\n\u001b[0;32m    135\u001b[0m \u001b[1;33m\u001b[0m\u001b[0m\n\u001b[1;32m--> 136\u001b[1;33m         out = backend.pipe(self._engine, format, data,\n\u001b[0m\u001b[0;32m    137\u001b[0m                            \u001b[0mrenderer\u001b[0m\u001b[1;33m=\u001b[0m\u001b[0mrenderer\u001b[0m\u001b[1;33m,\u001b[0m \u001b[0mformatter\u001b[0m\u001b[1;33m=\u001b[0m\u001b[0mformatter\u001b[0m\u001b[1;33m,\u001b[0m\u001b[1;33m\u001b[0m\u001b[1;33m\u001b[0m\u001b[0m\n\u001b[0;32m    138\u001b[0m                            quiet=quiet)\n",
      "\u001b[1;32md:\\users\\ivan\\fiit\\5.semester\\iau\\python\\xvykopal\\lib\\site-packages\\graphviz\\backend.py\u001b[0m in \u001b[0;36mpipe\u001b[1;34m(engine, format, data, renderer, formatter, quiet)\u001b[0m\n\u001b[0;32m    242\u001b[0m     \"\"\"\n\u001b[0;32m    243\u001b[0m     \u001b[0mcmd\u001b[0m\u001b[1;33m,\u001b[0m \u001b[0m_\u001b[0m \u001b[1;33m=\u001b[0m \u001b[0mcommand\u001b[0m\u001b[1;33m(\u001b[0m\u001b[0mengine\u001b[0m\u001b[1;33m,\u001b[0m \u001b[0mformat\u001b[0m\u001b[1;33m,\u001b[0m \u001b[1;32mNone\u001b[0m\u001b[1;33m,\u001b[0m \u001b[0mrenderer\u001b[0m\u001b[1;33m,\u001b[0m \u001b[0mformatter\u001b[0m\u001b[1;33m)\u001b[0m\u001b[1;33m\u001b[0m\u001b[1;33m\u001b[0m\u001b[0m\n\u001b[1;32m--> 244\u001b[1;33m     \u001b[0mout\u001b[0m\u001b[1;33m,\u001b[0m \u001b[0m_\u001b[0m \u001b[1;33m=\u001b[0m \u001b[0mrun\u001b[0m\u001b[1;33m(\u001b[0m\u001b[0mcmd\u001b[0m\u001b[1;33m,\u001b[0m \u001b[0minput\u001b[0m\u001b[1;33m=\u001b[0m\u001b[0mdata\u001b[0m\u001b[1;33m,\u001b[0m \u001b[0mcapture_output\u001b[0m\u001b[1;33m=\u001b[0m\u001b[1;32mTrue\u001b[0m\u001b[1;33m,\u001b[0m \u001b[0mcheck\u001b[0m\u001b[1;33m=\u001b[0m\u001b[1;32mTrue\u001b[0m\u001b[1;33m,\u001b[0m \u001b[0mquiet\u001b[0m\u001b[1;33m=\u001b[0m\u001b[0mquiet\u001b[0m\u001b[1;33m)\u001b[0m\u001b[1;33m\u001b[0m\u001b[1;33m\u001b[0m\u001b[0m\n\u001b[0m\u001b[0;32m    245\u001b[0m     \u001b[1;32mreturn\u001b[0m \u001b[0mout\u001b[0m\u001b[1;33m\u001b[0m\u001b[1;33m\u001b[0m\u001b[0m\n\u001b[0;32m    246\u001b[0m \u001b[1;33m\u001b[0m\u001b[0m\n",
      "\u001b[1;32md:\\users\\ivan\\fiit\\5.semester\\iau\\python\\xvykopal\\lib\\site-packages\\graphviz\\backend.py\u001b[0m in \u001b[0;36mrun\u001b[1;34m(cmd, input, capture_output, check, encoding, quiet, **kwargs)\u001b[0m\n\u001b[0;32m    181\u001b[0m \u001b[1;33m\u001b[0m\u001b[0m\n\u001b[0;32m    182\u001b[0m     \u001b[1;32mif\u001b[0m \u001b[0mcheck\u001b[0m \u001b[1;32mand\u001b[0m \u001b[0mproc\u001b[0m\u001b[1;33m.\u001b[0m\u001b[0mreturncode\u001b[0m\u001b[1;33m:\u001b[0m\u001b[1;33m\u001b[0m\u001b[1;33m\u001b[0m\u001b[0m\n\u001b[1;32m--> 183\u001b[1;33m         raise CalledProcessError(proc.returncode, cmd,\n\u001b[0m\u001b[0;32m    184\u001b[0m                                  output=out, stderr=err)\n\u001b[0;32m    185\u001b[0m \u001b[1;33m\u001b[0m\u001b[0m\n",
      "\u001b[1;31mCalledProcessError\u001b[0m: Command '['dot', '-Tsvg']' returned non-zero exit status 1. [stderr: b'Format: \"svg\" not recognized. Use one of:\\r\\n']"
     ]
    }
   ],
   "source": [
    "glucose = ['mean_glucose', 'std_glucose', 'kurtosis_glucose', 'skewness_glucose']\n",
    "\n",
    "oxygen_age = ['mean_oxygen', 'std_oxygen', 'kurtosis_oxygen', 'skewness_oxygen', 'age']\n",
    "\n",
    "columns = ['sex', 'race', 'marital-status', 'occupation', 'pregnant', 'education-num', 'relationship', 'capital-gain', 'fnlwgt', 'income', 'native-country', 'hours-per-week', 'capital-loss', 'workclass', 'street', 'town', 'psc'] + glucose + oxygen_age\n",
    "\n",
    "graph = Source(export_graphviz(clf, \n",
    "                               out_file=None,\n",
    "                               feature_names=columns,\n",
    "                               class_names=['0.0', '1.0'],\n",
    "                               filled = True))\n",
    "\n",
    "display(SVG(graph.pipe(format='svg')))\n",
    "\n",
    "from IPython.display import HTML # toto je tu len pre to aby sa mi obrazok zmestil na obrazovku\n",
    "style = \"<style>svg{width:70% !important;height:70% !important;}</style>\"\n",
    "HTML(style)"
   ]
  },
  {
   "cell_type": "code",
   "execution_count": null,
   "metadata": {},
   "outputs": [],
   "source": [
    "print(classification_report(data_train['class'], predicted_train))"
   ]
  },
  {
   "cell_type": "code",
   "execution_count": null,
   "metadata": {},
   "outputs": [],
   "source": [
    "print(accuracy_score(data_train['class'], predicted_train))"
   ]
  },
  {
   "cell_type": "code",
   "execution_count": null,
   "metadata": {},
   "outputs": [],
   "source": [
    "cm = confusion_matrix(data_train['class'], predicted_train)\n",
    "\n",
    "disp = ConfusionMatrixDisplay(confusion_matrix=cm)\n",
    "disp = disp.plot()"
   ]
  },
  {
   "cell_type": "code",
   "execution_count": null,
   "metadata": {},
   "outputs": [],
   "source": [
    "data_copy = data_valid.drop(columns=['class', 'name', 'date_of_birth', 'education'])\n",
    "X = data_copy\n",
    "y = data_valid['class']\n",
    "\n",
    "predicted_valid = clf.predict(X)\n",
    "\n",
    "tree.plot_tree(clf) "
   ]
  },
  {
   "cell_type": "code",
   "execution_count": null,
   "metadata": {},
   "outputs": [],
   "source": [
    "print(classification_report(data_valid['class'], predicted_valid))"
   ]
  },
  {
   "cell_type": "code",
   "execution_count": null,
   "metadata": {},
   "outputs": [],
   "source": [
    "print(accuracy_score(data_valid['class'], predicted_valid))"
   ]
  },
  {
   "cell_type": "code",
   "execution_count": null,
   "metadata": {},
   "outputs": [],
   "source": [
    "cm = confusion_matrix(data_valid['class'], predicted_valid)\n",
    "\n",
    "disp = ConfusionMatrixDisplay(confusion_matrix=cm)\n",
    "disp = disp.plot()"
   ]
  },
  {
   "cell_type": "code",
   "execution_count": null,
   "metadata": {},
   "outputs": [],
   "source": [
    "data_copy = data_train.drop(columns=['class', 'name', 'date_of_birth', 'education'])"
   ]
  },
  {
   "cell_type": "code",
   "execution_count": null,
   "metadata": {},
   "outputs": [],
   "source": [
    "data_copy_v = data_valid.drop(columns=['class', 'name', 'date_of_birth', 'education'])"
   ]
  },
  {
   "cell_type": "markdown",
   "metadata": {},
   "source": [
    "### Random forest"
   ]
  },
  {
   "cell_type": "code",
   "execution_count": null,
   "metadata": {},
   "outputs": [],
   "source": [
    "forest = RandomForestClassifier(random_state=1,max_depth=3)\n",
    "model = forest.fit(data_copy, data_train['class'])\n",
    "y_pred_train = model.predict(data_copy)"
   ]
  },
  {
   "cell_type": "code",
   "execution_count": null,
   "metadata": {},
   "outputs": [],
   "source": [
    "print(classification_report(data_train['class'], y_pred_train))"
   ]
  },
  {
   "cell_type": "code",
   "execution_count": null,
   "metadata": {},
   "outputs": [],
   "source": [
    "print(accuracy_score(data_train['class'], y_pred_train))"
   ]
  },
  {
   "cell_type": "code",
   "execution_count": null,
   "metadata": {},
   "outputs": [],
   "source": [
    "cm = confusion_matrix(data_train['class'], y_pred_train)\n",
    "\n",
    "disp = ConfusionMatrixDisplay(confusion_matrix=cm)\n",
    "disp = disp.plot()"
   ]
  },
  {
   "cell_type": "code",
   "execution_count": null,
   "metadata": {},
   "outputs": [],
   "source": [
    "y_pred_valid = model.predict(data_copy_v)"
   ]
  },
  {
   "cell_type": "code",
   "execution_count": null,
   "metadata": {},
   "outputs": [],
   "source": [
    "print(classification_report(data_valid['class'], y_pred_valid))"
   ]
  },
  {
   "cell_type": "code",
   "execution_count": null,
   "metadata": {},
   "outputs": [],
   "source": [
    "print(accuracy_score(data_valid['class'], y_pred_valid))"
   ]
  },
  {
   "cell_type": "code",
   "execution_count": null,
   "metadata": {},
   "outputs": [],
   "source": [
    "cm = confusion_matrix(data_valid['class'], y_pred_valid)\n",
    "\n",
    "disp = ConfusionMatrixDisplay(confusion_matrix=cm)\n",
    "disp = disp.plot()"
   ]
  },
  {
   "cell_type": "markdown",
   "metadata": {},
   "source": [
    "## Hyperparameter tuning"
   ]
  },
  {
   "cell_type": "code",
   "execution_count": 77,
   "metadata": {},
   "outputs": [],
   "source": [
    "tcf = tree.DecisionTreeClassifier()\n",
    "model = tcf.fit(data_copy, data_train['class'])\n",
    "y_pred = model.predict(data_copy_v)\n",
    "\n",
    "# print(accuracy_score(y_test, y_pred))"
   ]
  },
  {
   "cell_type": "markdown",
   "metadata": {},
   "source": [
    "Popis hyperparametrov..."
   ]
  },
  {
   "cell_type": "code",
   "execution_count": 65,
   "metadata": {},
   "outputs": [
    {
     "name": "stdout",
     "output_type": "stream",
     "text": [
      "Fitting 10 folds for each of 31752 candidates, totalling 317520 fits\n"
     ]
    },
    {
     "name": "stderr",
     "output_type": "stream",
     "text": [
      "[Parallel(n_jobs=-1)]: Using backend LokyBackend with 8 concurrent workers.\n",
      "[Parallel(n_jobs=-1)]: Done  52 tasks      | elapsed:    0.5s\n",
      "[Parallel(n_jobs=-1)]: Done 1104 tasks      | elapsed:    4.5s\n",
      "[Parallel(n_jobs=-1)]: Done 3104 tasks      | elapsed:   13.7s\n",
      "[Parallel(n_jobs=-1)]: Done 5904 tasks      | elapsed:   24.6s\n",
      "[Parallel(n_jobs=-1)]: Done 9504 tasks      | elapsed:   39.2s\n",
      "[Parallel(n_jobs=-1)]: Done 13904 tasks      | elapsed:   56.7s\n",
      "[Parallel(n_jobs=-1)]: Done 19104 tasks      | elapsed:  1.3min\n",
      "[Parallel(n_jobs=-1)]: Done 25104 tasks      | elapsed:  1.7min\n",
      "[Parallel(n_jobs=-1)]: Done 31904 tasks      | elapsed:  2.3min\n",
      "[Parallel(n_jobs=-1)]: Done 39504 tasks      | elapsed:  2.8min\n",
      "[Parallel(n_jobs=-1)]: Done 47904 tasks      | elapsed:  3.6min\n",
      "[Parallel(n_jobs=-1)]: Done 57104 tasks      | elapsed:  4.4min\n",
      "[Parallel(n_jobs=-1)]: Done 67104 tasks      | elapsed:  5.3min\n",
      "[Parallel(n_jobs=-1)]: Done 77904 tasks      | elapsed:  6.2min\n",
      "[Parallel(n_jobs=-1)]: Done 89504 tasks      | elapsed:  7.3min\n",
      "[Parallel(n_jobs=-1)]: Done 101360 tasks      | elapsed:  8.6min\n",
      "[Parallel(n_jobs=-1)]: Done 107176 tasks      | elapsed:  9.1min\n",
      "[Parallel(n_jobs=-1)]: Done 114176 tasks      | elapsed:  9.9min\n",
      "[Parallel(n_jobs=-1)]: Done 121576 tasks      | elapsed: 10.7min\n",
      "[Parallel(n_jobs=-1)]: Done 129376 tasks      | elapsed: 11.7min\n",
      "[Parallel(n_jobs=-1)]: Done 137576 tasks      | elapsed: 12.8min\n",
      "[Parallel(n_jobs=-1)]: Done 146176 tasks      | elapsed: 13.9min\n",
      "[Parallel(n_jobs=-1)]: Done 155176 tasks      | elapsed: 14.9min\n",
      "[Parallel(n_jobs=-1)]: Done 164576 tasks      | elapsed: 15.9min\n",
      "[Parallel(n_jobs=-1)]: Done 174376 tasks      | elapsed: 16.7min\n",
      "[Parallel(n_jobs=-1)]: Done 184576 tasks      | elapsed: 17.7min\n",
      "[Parallel(n_jobs=-1)]: Done 195176 tasks      | elapsed: 18.8min\n",
      "[Parallel(n_jobs=-1)]: Done 206176 tasks      | elapsed: 20.1min\n",
      "[Parallel(n_jobs=-1)]: Done 217576 tasks      | elapsed: 21.5min\n",
      "[Parallel(n_jobs=-1)]: Done 229376 tasks      | elapsed: 23.0min\n",
      "[Parallel(n_jobs=-1)]: Done 241576 tasks      | elapsed: 24.6min\n",
      "[Parallel(n_jobs=-1)]: Done 254176 tasks      | elapsed: 26.3min\n",
      "[Parallel(n_jobs=-1)]: Done 267176 tasks      | elapsed: 27.6min\n",
      "[Parallel(n_jobs=-1)]: Done 286776 tasks      | elapsed: 29.6min\n",
      "[Parallel(n_jobs=-1)]: Done 303232 tasks      | elapsed: 31.5min\n",
      "[Parallel(n_jobs=-1)]: Done 317432 tasks      | elapsed: 33.1min\n",
      "[Parallel(n_jobs=-1)]: Done 317520 out of 317520 | elapsed: 33.1min finished\n"
     ]
    }
   ],
   "source": [
    "criterion = ['gini', 'entropy']\n",
    "max_depth = range(1,15)\n",
    "min_samples_split = range(1,15)\n",
    "min_samples_leaf = range(1,10) \n",
    "max_features = range(1,10)\n",
    "\n",
    "hyper = dict(criterion = criterion,\n",
    "             max_depth = max_depth,  \n",
    "             min_samples_split = min_samples_split, \n",
    "             min_samples_leaf = min_samples_leaf,\n",
    "             max_features = max_features\n",
    "            )\n",
    "gs = GridSearchCV(tcf, param_grid=hyper, cv=10, verbose=1, n_jobs=-1)\n",
    "\n",
    "best = gs.fit(data_copy, data_train['class'])"
   ]
  },
  {
   "cell_type": "code",
   "execution_count": 66,
   "metadata": {},
   "outputs": [
    {
     "data": {
      "text/plain": [
       "DecisionTreeClassifier(max_depth=6, max_features=8, min_samples_leaf=6,\n",
       "                       min_samples_split=12)"
      ]
     },
     "execution_count": 66,
     "metadata": {},
     "output_type": "execute_result"
    }
   ],
   "source": [
    "gs.best_estimator_"
   ]
  },
  {
   "cell_type": "code",
   "execution_count": 78,
   "metadata": {},
   "outputs": [
    {
     "data": {
      "text/plain": [
       "[Text(190.4529661016949, 201.90857142857143, 'X[18] <= 0.914\\ngini = 0.38\\nsamples = 3932\\nvalue = [2928, 1004]'),\n",
       " Text(109.94491525423729, 170.84571428571428, 'X[19] <= 0.895\\ngini = 0.145\\nsamples = 3148\\nvalue = [2901, 247]'),\n",
       " Text(45.396610169491524, 139.78285714285715, 'X[18] <= 0.022\\ngini = 0.088\\nsamples = 2802\\nvalue = [2672, 130]'),\n",
       " Text(22.698305084745762, 108.72, 'X[0] <= 77.5\\ngini = 0.044\\nsamples = 2024\\nvalue = [1978, 46]'),\n",
       " Text(17.023728813559323, 77.65714285714284, 'X[20] <= 0.981\\ngini = 0.04\\nsamples = 2015\\nvalue = [1974, 41]'),\n",
       " Text(11.349152542372881, 46.59428571428572, 'X[20] <= -0.122\\ngini = 0.037\\nsamples = 2007\\nvalue = [1969, 38]'),\n",
       " Text(5.6745762711864405, 15.531428571428563, 'gini = 0.02\\nsamples = 1414\\nvalue = [1400, 14]'),\n",
       " Text(17.023728813559323, 15.531428571428563, 'gini = 0.078\\nsamples = 593\\nvalue = [569, 24]'),\n",
       " Text(22.698305084745762, 46.59428571428572, 'gini = 0.469\\nsamples = 8\\nvalue = [5, 3]'),\n",
       " Text(28.3728813559322, 77.65714285714284, 'gini = 0.494\\nsamples = 9\\nvalue = [4, 5]'),\n",
       " Text(68.09491525423729, 108.72, 'X[17] <= 0.51\\ngini = 0.193\\nsamples = 778\\nvalue = [694, 84]'),\n",
       " Text(45.396610169491524, 77.65714285714284, 'X[0] <= 69.5\\ngini = 0.143\\nsamples = 736\\nvalue = [679, 57]'),\n",
       " Text(34.047457627118646, 46.59428571428572, 'X[21] <= -0.161\\ngini = 0.116\\nsamples = 710\\nvalue = [666, 44]'),\n",
       " Text(28.3728813559322, 15.531428571428563, 'gini = 0.295\\nsamples = 78\\nvalue = [64, 14]'),\n",
       " Text(39.722033898305085, 15.531428571428563, 'gini = 0.09\\nsamples = 632\\nvalue = [602, 30]'),\n",
       " Text(56.7457627118644, 46.59428571428572, 'X[6] <= 9.5\\ngini = 0.5\\nsamples = 26\\nvalue = [13, 13]'),\n",
       " Text(51.07118644067796, 15.531428571428563, 'gini = 0.375\\nsamples = 12\\nvalue = [3, 9]'),\n",
       " Text(62.42033898305085, 15.531428571428563, 'gini = 0.408\\nsamples = 14\\nvalue = [10, 4]'),\n",
       " Text(90.79322033898305, 77.65714285714284, 'X[20] <= -0.299\\ngini = 0.459\\nsamples = 42\\nvalue = [15, 27]'),\n",
       " Text(79.44406779661017, 46.59428571428572, 'X[18] <= 0.83\\ngini = 0.415\\nsamples = 17\\nvalue = [12, 5]'),\n",
       " Text(73.76949152542373, 15.531428571428563, 'gini = 0.496\\nsamples = 11\\nvalue = [6, 5]'),\n",
       " Text(85.11864406779661, 15.531428571428563, 'gini = 0.0\\nsamples = 6\\nvalue = [6, 0]'),\n",
       " Text(102.14237288135593, 46.59428571428572, 'X[1] <= 0.5\\ngini = 0.211\\nsamples = 25\\nvalue = [3, 22]'),\n",
       " Text(96.46779661016949, 15.531428571428563, 'gini = 0.49\\nsamples = 7\\nvalue = [3, 4]'),\n",
       " Text(107.81694915254236, 15.531428571428563, 'gini = 0.0\\nsamples = 18\\nvalue = [0, 18]'),\n",
       " Text(174.49322033898304, 139.78285714285715, 'X[0] <= 51.5\\ngini = 0.448\\nsamples = 346\\nvalue = [229, 117]'),\n",
       " Text(150.37627118644068, 108.72, 'X[18] <= 0.463\\ngini = 0.293\\nsamples = 157\\nvalue = [129, 28]'),\n",
       " Text(136.18983050847459, 77.65714285714284, 'X[15] <= -0.244\\ngini = 0.162\\nsamples = 135\\nvalue = [123, 12]'),\n",
       " Text(124.8406779661017, 46.59428571428572, 'X[0] <= 43.5\\ngini = 0.475\\nsamples = 18\\nvalue = [11, 7]'),\n",
       " Text(119.16610169491526, 15.531428571428563, 'gini = 0.18\\nsamples = 10\\nvalue = [9, 1]'),\n",
       " Text(130.51525423728813, 15.531428571428563, 'gini = 0.375\\nsamples = 8\\nvalue = [2, 6]'),\n",
       " Text(147.53898305084746, 46.59428571428572, 'X[15] <= 0.367\\ngini = 0.082\\nsamples = 117\\nvalue = [112, 5]'),\n",
       " Text(141.864406779661, 15.531428571428563, 'gini = 0.245\\nsamples = 28\\nvalue = [24, 4]'),\n",
       " Text(153.2135593220339, 15.531428571428563, 'gini = 0.022\\nsamples = 89\\nvalue = [88, 1]'),\n",
       " Text(164.56271186440677, 77.65714285714284, 'X[16] <= -0.036\\ngini = 0.397\\nsamples = 22\\nvalue = [6, 16]'),\n",
       " Text(158.88813559322034, 46.59428571428572, 'gini = 0.0\\nsamples = 9\\nvalue = [0, 9]'),\n",
       " Text(170.23728813559322, 46.59428571428572, 'X[20] <= 1.544\\ngini = 0.497\\nsamples = 13\\nvalue = [6, 7]'),\n",
       " Text(164.56271186440677, 15.531428571428563, 'gini = 0.0\\nsamples = 6\\nvalue = [0, 6]'),\n",
       " Text(175.91186440677964, 15.531428571428563, 'gini = 0.245\\nsamples = 7\\nvalue = [6, 1]'),\n",
       " Text(198.61016949152543, 108.72, 'X[17] <= 0.105\\ngini = 0.498\\nsamples = 189\\nvalue = [100, 89]'),\n",
       " Text(187.26101694915255, 77.65714285714284, 'X[19] <= 1.013\\ngini = 0.146\\nsamples = 101\\nvalue = [93, 8]'),\n",
       " Text(181.5864406779661, 46.59428571428572, 'gini = 0.5\\nsamples = 6\\nvalue = [3, 3]'),\n",
       " Text(192.93559322033897, 46.59428571428572, 'X[7] <= 4.0\\ngini = 0.1\\nsamples = 95\\nvalue = [90, 5]'),\n",
       " Text(187.26101694915255, 15.531428571428563, 'gini = 0.024\\nsamples = 82\\nvalue = [81, 1]'),\n",
       " Text(198.61016949152543, 15.531428571428563, 'gini = 0.426\\nsamples = 13\\nvalue = [9, 4]'),\n",
       " Text(209.9593220338983, 77.65714285714284, 'X[17] <= 0.376\\ngini = 0.146\\nsamples = 88\\nvalue = [7, 81]'),\n",
       " Text(204.28474576271185, 46.59428571428572, 'gini = 0.463\\nsamples = 11\\nvalue = [4, 7]'),\n",
       " Text(215.63389830508473, 46.59428571428572, 'X[25] <= 2894.5\\ngini = 0.075\\nsamples = 77\\nvalue = [3, 74]'),\n",
       " Text(209.9593220338983, 15.531428571428563, 'gini = 0.031\\nsamples = 64\\nvalue = [1, 63]'),\n",
       " Text(221.30847457627118, 15.531428571428563, 'gini = 0.26\\nsamples = 13\\nvalue = [2, 11]'),\n",
       " Text(270.9610169491525, 170.84571428571428, 'X[19] <= 0.043\\ngini = 0.067\\nsamples = 784\\nvalue = [27, 757]'),\n",
       " Text(238.3322033898305, 139.78285714285715, 'X[18] <= 1.013\\ngini = 0.48\\nsamples = 45\\nvalue = [18, 27]'),\n",
       " Text(226.9830508474576, 108.72, 'X[16] <= -1.311\\ngini = 0.208\\nsamples = 17\\nvalue = [15, 2]'),\n",
       " Text(221.30847457627118, 77.65714285714284, 'gini = 0.0\\nsamples = 10\\nvalue = [10, 0]'),\n",
       " Text(232.65762711864406, 77.65714285714284, 'gini = 0.408\\nsamples = 7\\nvalue = [5, 2]'),\n",
       " Text(249.6813559322034, 108.72, 'X[16] <= -1.522\\ngini = 0.191\\nsamples = 28\\nvalue = [3, 25]'),\n",
       " Text(244.00677966101694, 77.65714285714284, 'gini = 0.444\\nsamples = 6\\nvalue = [2, 4]'),\n",
       " Text(255.3559322033898, 77.65714285714284, 'X[22] <= 0.065\\ngini = 0.087\\nsamples = 22\\nvalue = [1, 21]'),\n",
       " Text(249.6813559322034, 46.59428571428572, 'gini = 0.278\\nsamples = 6\\nvalue = [1, 5]'),\n",
       " Text(261.03050847457627, 46.59428571428572, 'gini = 0.0\\nsamples = 16\\nvalue = [0, 16]'),\n",
       " Text(303.58983050847456, 139.78285714285715, 'X[15] <= -1.024\\ngini = 0.024\\nsamples = 739\\nvalue = [9, 730]'),\n",
       " Text(289.40338983050844, 108.72, 'X[17] <= 1.32\\ngini = 0.009\\nsamples = 655\\nvalue = [3, 652]'),\n",
       " Text(278.0542372881356, 77.65714285714284, 'X[9] <= -0.124\\ngini = 0.043\\nsamples = 90\\nvalue = [2, 88]'),\n",
       " Text(272.37966101694917, 46.59428571428572, 'X[9] <= -0.446\\ngini = 0.108\\nsamples = 35\\nvalue = [2, 33]'),\n",
       " Text(266.7050847457627, 15.531428571428563, 'gini = 0.0\\nsamples = 29\\nvalue = [0, 29]'),\n",
       " Text(278.0542372881356, 15.531428571428563, 'gini = 0.444\\nsamples = 6\\nvalue = [2, 4]'),\n",
       " Text(283.728813559322, 46.59428571428572, 'gini = 0.0\\nsamples = 55\\nvalue = [0, 55]'),\n",
       " Text(300.75254237288135, 77.65714285714284, 'X[16] <= 0.238\\ngini = 0.004\\nsamples = 565\\nvalue = [1, 564]'),\n",
       " Text(295.0779661016949, 46.59428571428572, 'gini = 0.0\\nsamples = 554\\nvalue = [0, 554]'),\n",
       " Text(306.4271186440678, 46.59428571428572, 'gini = 0.165\\nsamples = 11\\nvalue = [1, 10]'),\n",
       " Text(317.7762711864407, 108.72, 'X[17] <= 0.682\\ngini = 0.133\\nsamples = 84\\nvalue = [6, 78]'),\n",
       " Text(312.1016949152542, 77.65714285714284, 'gini = 0.469\\nsamples = 8\\nvalue = [5, 3]'),\n",
       " Text(323.4508474576271, 77.65714285714284, 'X[15] <= -0.991\\ngini = 0.026\\nsamples = 76\\nvalue = [1, 75]'),\n",
       " Text(317.7762711864407, 46.59428571428572, 'gini = 0.278\\nsamples = 6\\nvalue = [1, 5]'),\n",
       " Text(329.12542372881353, 46.59428571428572, 'gini = 0.0\\nsamples = 70\\nvalue = [0, 70]')]"
      ]
     },
     "execution_count": 78,
     "metadata": {},
     "output_type": "execute_result"
    },
    {
     "data": {
      "image/png": "[encoded data removed]",
      "text/plain": [
       "<Figure size 432x288 with 1 Axes>"
      ]
     },
     "metadata": {
      "needs_background": "light"
     },
     "output_type": "display_data"
    }
   ],
   "source": [
    "clf = tree.DecisionTreeClassifier(max_depth=6, max_features=8, min_samples_leaf=6, min_samples_split=12)\n",
    "clf = clf.fit(data_copy, data_train['class'])\n",
    "predicted_train = clf.predict(data_copy)\n",
    "\n",
    "tree.plot_tree(clf) "
   ]
  },
  {
   "cell_type": "code",
   "execution_count": 79,
   "metadata": {},
   "outputs": [
    {
     "name": "stdout",
     "output_type": "stream",
     "text": [
      "              precision    recall  f1-score   support\n",
      "\n",
      "         0.0       0.96      0.99      0.98      2928\n",
      "         1.0       0.97      0.89      0.93      1004\n",
      "\n",
      "    accuracy                           0.96      3932\n",
      "   macro avg       0.97      0.94      0.95      3932\n",
      "weighted avg       0.96      0.96      0.96      3932\n",
      "\n"
     ]
    }
   ],
   "source": [
    "print(classification_report(data_train['class'], predicted_train))"
   ]
  },
  {
   "cell_type": "code",
   "execution_count": 80,
   "metadata": {},
   "outputs": [
    {
     "name": "stdout",
     "output_type": "stream",
     "text": [
      "0.9643947100712106\n"
     ]
    }
   ],
   "source": [
    "print(accuracy_score(data_train['class'], predicted_train))"
   ]
  },
  {
   "cell_type": "code",
   "execution_count": 81,
   "metadata": {},
   "outputs": [
    {
     "data": {
      "image/png": "[encoded data removed]",
      "text/plain": [
       "<Figure size 432x288 with 2 Axes>"
      ]
     },
     "metadata": {
      "needs_background": "light"
     },
     "output_type": "display_data"
    }
   ],
   "source": [
    "cm = confusion_matrix(data_train['class'], predicted_train)\n",
    "\n",
    "disp = ConfusionMatrixDisplay(confusion_matrix=cm)\n",
    "disp = disp.plot()"
   ]
  },
  {
   "cell_type": "code",
   "execution_count": 82,
   "metadata": {},
   "outputs": [
    {
     "data": {
      "text/plain": [
       "[Text(190.4529661016949, 201.90857142857143, 'X[18] <= 0.914\\ngini = 0.38\\nsamples = 3932\\nvalue = [2928, 1004]'),\n",
       " Text(109.94491525423729, 170.84571428571428, 'X[19] <= 0.895\\ngini = 0.145\\nsamples = 3148\\nvalue = [2901, 247]'),\n",
       " Text(45.396610169491524, 139.78285714285715, 'X[18] <= 0.022\\ngini = 0.088\\nsamples = 2802\\nvalue = [2672, 130]'),\n",
       " Text(22.698305084745762, 108.72, 'X[0] <= 77.5\\ngini = 0.044\\nsamples = 2024\\nvalue = [1978, 46]'),\n",
       " Text(17.023728813559323, 77.65714285714284, 'X[20] <= 0.981\\ngini = 0.04\\nsamples = 2015\\nvalue = [1974, 41]'),\n",
       " Text(11.349152542372881, 46.59428571428572, 'X[20] <= -0.122\\ngini = 0.037\\nsamples = 2007\\nvalue = [1969, 38]'),\n",
       " Text(5.6745762711864405, 15.531428571428563, 'gini = 0.02\\nsamples = 1414\\nvalue = [1400, 14]'),\n",
       " Text(17.023728813559323, 15.531428571428563, 'gini = 0.078\\nsamples = 593\\nvalue = [569, 24]'),\n",
       " Text(22.698305084745762, 46.59428571428572, 'gini = 0.469\\nsamples = 8\\nvalue = [5, 3]'),\n",
       " Text(28.3728813559322, 77.65714285714284, 'gini = 0.494\\nsamples = 9\\nvalue = [4, 5]'),\n",
       " Text(68.09491525423729, 108.72, 'X[17] <= 0.51\\ngini = 0.193\\nsamples = 778\\nvalue = [694, 84]'),\n",
       " Text(45.396610169491524, 77.65714285714284, 'X[0] <= 69.5\\ngini = 0.143\\nsamples = 736\\nvalue = [679, 57]'),\n",
       " Text(34.047457627118646, 46.59428571428572, 'X[21] <= -0.161\\ngini = 0.116\\nsamples = 710\\nvalue = [666, 44]'),\n",
       " Text(28.3728813559322, 15.531428571428563, 'gini = 0.295\\nsamples = 78\\nvalue = [64, 14]'),\n",
       " Text(39.722033898305085, 15.531428571428563, 'gini = 0.09\\nsamples = 632\\nvalue = [602, 30]'),\n",
       " Text(56.7457627118644, 46.59428571428572, 'X[6] <= 9.5\\ngini = 0.5\\nsamples = 26\\nvalue = [13, 13]'),\n",
       " Text(51.07118644067796, 15.531428571428563, 'gini = 0.375\\nsamples = 12\\nvalue = [3, 9]'),\n",
       " Text(62.42033898305085, 15.531428571428563, 'gini = 0.408\\nsamples = 14\\nvalue = [10, 4]'),\n",
       " Text(90.79322033898305, 77.65714285714284, 'X[20] <= -0.299\\ngini = 0.459\\nsamples = 42\\nvalue = [15, 27]'),\n",
       " Text(79.44406779661017, 46.59428571428572, 'X[18] <= 0.83\\ngini = 0.415\\nsamples = 17\\nvalue = [12, 5]'),\n",
       " Text(73.76949152542373, 15.531428571428563, 'gini = 0.496\\nsamples = 11\\nvalue = [6, 5]'),\n",
       " Text(85.11864406779661, 15.531428571428563, 'gini = 0.0\\nsamples = 6\\nvalue = [6, 0]'),\n",
       " Text(102.14237288135593, 46.59428571428572, 'X[1] <= 0.5\\ngini = 0.211\\nsamples = 25\\nvalue = [3, 22]'),\n",
       " Text(96.46779661016949, 15.531428571428563, 'gini = 0.49\\nsamples = 7\\nvalue = [3, 4]'),\n",
       " Text(107.81694915254236, 15.531428571428563, 'gini = 0.0\\nsamples = 18\\nvalue = [0, 18]'),\n",
       " Text(174.49322033898304, 139.78285714285715, 'X[0] <= 51.5\\ngini = 0.448\\nsamples = 346\\nvalue = [229, 117]'),\n",
       " Text(150.37627118644068, 108.72, 'X[18] <= 0.463\\ngini = 0.293\\nsamples = 157\\nvalue = [129, 28]'),\n",
       " Text(136.18983050847459, 77.65714285714284, 'X[15] <= -0.244\\ngini = 0.162\\nsamples = 135\\nvalue = [123, 12]'),\n",
       " Text(124.8406779661017, 46.59428571428572, 'X[0] <= 43.5\\ngini = 0.475\\nsamples = 18\\nvalue = [11, 7]'),\n",
       " Text(119.16610169491526, 15.531428571428563, 'gini = 0.18\\nsamples = 10\\nvalue = [9, 1]'),\n",
       " Text(130.51525423728813, 15.531428571428563, 'gini = 0.375\\nsamples = 8\\nvalue = [2, 6]'),\n",
       " Text(147.53898305084746, 46.59428571428572, 'X[15] <= 0.367\\ngini = 0.082\\nsamples = 117\\nvalue = [112, 5]'),\n",
       " Text(141.864406779661, 15.531428571428563, 'gini = 0.245\\nsamples = 28\\nvalue = [24, 4]'),\n",
       " Text(153.2135593220339, 15.531428571428563, 'gini = 0.022\\nsamples = 89\\nvalue = [88, 1]'),\n",
       " Text(164.56271186440677, 77.65714285714284, 'X[16] <= -0.036\\ngini = 0.397\\nsamples = 22\\nvalue = [6, 16]'),\n",
       " Text(158.88813559322034, 46.59428571428572, 'gini = 0.0\\nsamples = 9\\nvalue = [0, 9]'),\n",
       " Text(170.23728813559322, 46.59428571428572, 'X[20] <= 1.544\\ngini = 0.497\\nsamples = 13\\nvalue = [6, 7]'),\n",
       " Text(164.56271186440677, 15.531428571428563, 'gini = 0.0\\nsamples = 6\\nvalue = [0, 6]'),\n",
       " Text(175.91186440677964, 15.531428571428563, 'gini = 0.245\\nsamples = 7\\nvalue = [6, 1]'),\n",
       " Text(198.61016949152543, 108.72, 'X[17] <= 0.105\\ngini = 0.498\\nsamples = 189\\nvalue = [100, 89]'),\n",
       " Text(187.26101694915255, 77.65714285714284, 'X[19] <= 1.013\\ngini = 0.146\\nsamples = 101\\nvalue = [93, 8]'),\n",
       " Text(181.5864406779661, 46.59428571428572, 'gini = 0.5\\nsamples = 6\\nvalue = [3, 3]'),\n",
       " Text(192.93559322033897, 46.59428571428572, 'X[7] <= 4.0\\ngini = 0.1\\nsamples = 95\\nvalue = [90, 5]'),\n",
       " Text(187.26101694915255, 15.531428571428563, 'gini = 0.024\\nsamples = 82\\nvalue = [81, 1]'),\n",
       " Text(198.61016949152543, 15.531428571428563, 'gini = 0.426\\nsamples = 13\\nvalue = [9, 4]'),\n",
       " Text(209.9593220338983, 77.65714285714284, 'X[17] <= 0.376\\ngini = 0.146\\nsamples = 88\\nvalue = [7, 81]'),\n",
       " Text(204.28474576271185, 46.59428571428572, 'gini = 0.463\\nsamples = 11\\nvalue = [4, 7]'),\n",
       " Text(215.63389830508473, 46.59428571428572, 'X[25] <= 2894.5\\ngini = 0.075\\nsamples = 77\\nvalue = [3, 74]'),\n",
       " Text(209.9593220338983, 15.531428571428563, 'gini = 0.031\\nsamples = 64\\nvalue = [1, 63]'),\n",
       " Text(221.30847457627118, 15.531428571428563, 'gini = 0.26\\nsamples = 13\\nvalue = [2, 11]'),\n",
       " Text(270.9610169491525, 170.84571428571428, 'X[19] <= 0.043\\ngini = 0.067\\nsamples = 784\\nvalue = [27, 757]'),\n",
       " Text(238.3322033898305, 139.78285714285715, 'X[18] <= 1.013\\ngini = 0.48\\nsamples = 45\\nvalue = [18, 27]'),\n",
       " Text(226.9830508474576, 108.72, 'X[16] <= -1.311\\ngini = 0.208\\nsamples = 17\\nvalue = [15, 2]'),\n",
       " Text(221.30847457627118, 77.65714285714284, 'gini = 0.0\\nsamples = 10\\nvalue = [10, 0]'),\n",
       " Text(232.65762711864406, 77.65714285714284, 'gini = 0.408\\nsamples = 7\\nvalue = [5, 2]'),\n",
       " Text(249.6813559322034, 108.72, 'X[16] <= -1.522\\ngini = 0.191\\nsamples = 28\\nvalue = [3, 25]'),\n",
       " Text(244.00677966101694, 77.65714285714284, 'gini = 0.444\\nsamples = 6\\nvalue = [2, 4]'),\n",
       " Text(255.3559322033898, 77.65714285714284, 'X[22] <= 0.065\\ngini = 0.087\\nsamples = 22\\nvalue = [1, 21]'),\n",
       " Text(249.6813559322034, 46.59428571428572, 'gini = 0.278\\nsamples = 6\\nvalue = [1, 5]'),\n",
       " Text(261.03050847457627, 46.59428571428572, 'gini = 0.0\\nsamples = 16\\nvalue = [0, 16]'),\n",
       " Text(303.58983050847456, 139.78285714285715, 'X[15] <= -1.024\\ngini = 0.024\\nsamples = 739\\nvalue = [9, 730]'),\n",
       " Text(289.40338983050844, 108.72, 'X[17] <= 1.32\\ngini = 0.009\\nsamples = 655\\nvalue = [3, 652]'),\n",
       " Text(278.0542372881356, 77.65714285714284, 'X[9] <= -0.124\\ngini = 0.043\\nsamples = 90\\nvalue = [2, 88]'),\n",
       " Text(272.37966101694917, 46.59428571428572, 'X[9] <= -0.446\\ngini = 0.108\\nsamples = 35\\nvalue = [2, 33]'),\n",
       " Text(266.7050847457627, 15.531428571428563, 'gini = 0.0\\nsamples = 29\\nvalue = [0, 29]'),\n",
       " Text(278.0542372881356, 15.531428571428563, 'gini = 0.444\\nsamples = 6\\nvalue = [2, 4]'),\n",
       " Text(283.728813559322, 46.59428571428572, 'gini = 0.0\\nsamples = 55\\nvalue = [0, 55]'),\n",
       " Text(300.75254237288135, 77.65714285714284, 'X[16] <= 0.238\\ngini = 0.004\\nsamples = 565\\nvalue = [1, 564]'),\n",
       " Text(295.0779661016949, 46.59428571428572, 'gini = 0.0\\nsamples = 554\\nvalue = [0, 554]'),\n",
       " Text(306.4271186440678, 46.59428571428572, 'gini = 0.165\\nsamples = 11\\nvalue = [1, 10]'),\n",
       " Text(317.7762711864407, 108.72, 'X[17] <= 0.682\\ngini = 0.133\\nsamples = 84\\nvalue = [6, 78]'),\n",
       " Text(312.1016949152542, 77.65714285714284, 'gini = 0.469\\nsamples = 8\\nvalue = [5, 3]'),\n",
       " Text(323.4508474576271, 77.65714285714284, 'X[15] <= -0.991\\ngini = 0.026\\nsamples = 76\\nvalue = [1, 75]'),\n",
       " Text(317.7762711864407, 46.59428571428572, 'gini = 0.278\\nsamples = 6\\nvalue = [1, 5]'),\n",
       " Text(329.12542372881353, 46.59428571428572, 'gini = 0.0\\nsamples = 70\\nvalue = [0, 70]')]"
      ]
     },
     "execution_count": 82,
     "metadata": {},
     "output_type": "execute_result"
    },
    {
     "data": {
      "image/png": "[encoded data removed]",
      "text/plain": [
       "<Figure size 432x288 with 1 Axes>"
      ]
     },
     "metadata": {
      "needs_background": "light"
     },
     "output_type": "display_data"
    }
   ],
   "source": [
    "# clf = tree.DecisionTreeClassifier(criterion='entropy', max_depth=3)\n",
    "# clf = clf.fit(X, y)\n",
    "predicted_valid = clf.predict(data_copy_v)\n",
    "\n",
    "tree.plot_tree(clf) "
   ]
  },
  {
   "cell_type": "code",
   "execution_count": 83,
   "metadata": {},
   "outputs": [
    {
     "name": "stdout",
     "output_type": "stream",
     "text": [
      "              precision    recall  f1-score   support\n",
      "\n",
      "         0.0       0.96      0.98      0.97       965\n",
      "         1.0       0.93      0.89      0.91       346\n",
      "\n",
      "    accuracy                           0.95      1311\n",
      "   macro avg       0.95      0.93      0.94      1311\n",
      "weighted avg       0.95      0.95      0.95      1311\n",
      "\n"
     ]
    }
   ],
   "source": [
    "print(classification_report(data_valid['class'], predicted_valid))"
   ]
  },
  {
   "cell_type": "code",
   "execution_count": 84,
   "metadata": {},
   "outputs": [
    {
     "name": "stdout",
     "output_type": "stream",
     "text": [
      "0.954233409610984\n"
     ]
    }
   ],
   "source": [
    "print(accuracy_score(data_valid['class'], predicted_valid))"
   ]
  },
  {
   "cell_type": "code",
   "execution_count": 85,
   "metadata": {},
   "outputs": [
    {
     "data": {
      "image/png": "[encoded data removed]",
      "text/plain": [
       "<Figure size 432x288 with 2 Axes>"
      ]
     },
     "metadata": {
      "needs_background": "light"
     },
     "output_type": "display_data"
    }
   ],
   "source": [
    "cm = confusion_matrix(data_valid['class'], predicted_valid)\n",
    "\n",
    "disp = ConfusionMatrixDisplay(confusion_matrix=cm)\n",
    "disp = disp.plot()"
   ]
  },
  {
   "cell_type": "markdown",
   "metadata": {},
   "source": [
    "## Vyhodnotenie vplyvu zvolenej stratégie nahrádzania chýbajúcich hodnôt na správnosť klasifikácie\n",
    "\n",
    "Všetky číselné atribúty sme nahradili priemerom."
   ]
  },
  {
   "cell_type": "code",
   "execution_count": 86,
   "metadata": {},
   "outputs": [],
   "source": [
    "personal_train = pd.read_csv('personal_train.csv', index_col='Unnamed: 0')"
   ]
  },
  {
   "cell_type": "code",
   "execution_count": 87,
   "metadata": {},
   "outputs": [],
   "source": [
    "other_train = pd.read_csv('other_train.csv', index_col='Unnamed: 0')"
   ]
  },
  {
   "cell_type": "code",
   "execution_count": 88,
   "metadata": {},
   "outputs": [],
   "source": [
    "personal_valid = pd.read_csv('personal_valid.csv', index_col='Unnamed: 0')"
   ]
  },
  {
   "cell_type": "code",
   "execution_count": 89,
   "metadata": {},
   "outputs": [],
   "source": [
    "other_valid = pd.read_csv('other_valid.csv', index_col='Unnamed: 0')"
   ]
  },
  {
   "cell_type": "code",
   "execution_count": 90,
   "metadata": {},
   "outputs": [],
   "source": [
    "merge = Pipeline([('merge', MergeTransformer(personal_train, other_train, ['name', 'address']))])\n",
    "\n",
    "data_train = pd.DataFrame()\n",
    "data_train = merge.transform(data_train)"
   ]
  },
  {
   "cell_type": "code",
   "execution_count": 91,
   "metadata": {},
   "outputs": [
    {
     "name": "stdout",
     "output_type": "stream",
     "text": [
      "Atribút  fnlwgt \n",
      "\n",
      "Pred úpravou:\n",
      "Počet záznamov= 3932 , počet outlierov: 22\n",
      "\n",
      "\n",
      "Po úprave:\n",
      "Počet záznamov= 3932 , počet outlierov: 0\n",
      "\n",
      "\n",
      "-------------------------------------------------------------------------------------------------------------\n",
      "Atribút  mean_glucose \n",
      "\n",
      "Pred úpravou:\n",
      "Počet záznamov= 3932 , počet outlierov: 3\n",
      "\n",
      "\n",
      "Po úprave:\n",
      "Počet záznamov= 3932 , počet outlierov: 0\n",
      "\n",
      "\n",
      "-------------------------------------------------------------------------------------------------------------\n",
      "Atribút  std_glucose \n",
      "\n",
      "Pred úpravou:\n",
      "Počet záznamov= 3932 , počet outlierov: 17\n",
      "\n",
      "\n",
      "Po úprave:\n",
      "Počet záznamov= 3932 , počet outlierov: 0\n",
      "\n",
      "\n",
      "-------------------------------------------------------------------------------------------------------------\n",
      "Atribút  kurtosis_glucose \n",
      "\n",
      "Pred úpravou:\n",
      "Počet záznamov= 3932 , počet outlierov: 18\n",
      "\n",
      "\n",
      "Po úprave:\n",
      "Počet záznamov= 3932 , počet outlierov: 0\n",
      "\n",
      "\n",
      "-------------------------------------------------------------------------------------------------------------\n",
      "Atribút  skewness_glucose \n",
      "\n",
      "Pred úpravou:\n",
      "Počet záznamov= 3932 , počet outlierov: 14\n",
      "\n",
      "\n",
      "Po úprave:\n",
      "Počet záznamov= 3932 , počet outlierov: 0\n",
      "\n",
      "\n",
      "-------------------------------------------------------------------------------------------------------------\n",
      "Atribút  mean_oxygen \n",
      "\n",
      "Pred úpravou:\n",
      "Počet záznamov= 3932 , počet outlierov: 0\n",
      "\n",
      "\n",
      "Po úprave:\n",
      "Počet záznamov= 3932 , počet outlierov: 0\n",
      "\n",
      "\n",
      "-------------------------------------------------------------------------------------------------------------\n",
      "Atribút  std_oxygen \n",
      "\n",
      "Pred úpravou:\n",
      "Počet záznamov= 3932 , počet outlierov: 0\n",
      "\n",
      "\n",
      "Po úprave:\n",
      "Počet záznamov= 3932 , počet outlierov: 0\n",
      "\n",
      "\n",
      "-------------------------------------------------------------------------------------------------------------\n",
      "Atribút  kurtosis_oxygen \n",
      "\n",
      "Pred úpravou:\n",
      "Počet záznamov= 3932 , počet outlierov: 17\n",
      "\n",
      "\n",
      "Po úprave:\n",
      "Počet záznamov= 3932 , počet outlierov: 0\n",
      "\n",
      "\n",
      "-------------------------------------------------------------------------------------------------------------\n",
      "Atribút  skewness_oxygen \n",
      "\n",
      "Pred úpravou:\n",
      "Počet záznamov= 3932 , počet outlierov: 9\n",
      "\n",
      "\n",
      "Po úprave:\n",
      "Počet záznamov= 3932 , počet outlierov: 0\n",
      "\n",
      "\n",
      "-------------------------------------------------------------------------------------------------------------\n",
      "Atribút  fnlwgt \n",
      "\n",
      "Pred úpravou:\n",
      "Počet záznamov= 3932 , počet outlierov: 22\n",
      "\n",
      "\n",
      "Po úprave:\n",
      "Počet záznamov= 3932 , počet outlierov: 0\n",
      "\n",
      "\n",
      "-------------------------------------------------------------------------------------------------------------\n",
      "Atribút  mean_glucose \n",
      "\n",
      "Pred úpravou:\n",
      "Počet záznamov= 3932 , počet outlierov: 3\n",
      "\n",
      "\n",
      "Po úprave:\n",
      "Počet záznamov= 3932 , počet outlierov: 0\n",
      "\n",
      "\n",
      "-------------------------------------------------------------------------------------------------------------\n",
      "Atribút  std_glucose \n",
      "\n",
      "Pred úpravou:\n",
      "Počet záznamov= 3932 , počet outlierov: 17\n",
      "\n",
      "\n",
      "Po úprave:\n",
      "Počet záznamov= 3932 , počet outlierov: 0\n",
      "\n",
      "\n",
      "-------------------------------------------------------------------------------------------------------------\n",
      "Atribút  kurtosis_glucose \n",
      "\n",
      "Pred úpravou:\n",
      "Počet záznamov= 3932 , počet outlierov: 18\n",
      "\n",
      "\n",
      "Po úprave:\n",
      "Počet záznamov= 3932 , počet outlierov: 0\n",
      "\n",
      "\n",
      "-------------------------------------------------------------------------------------------------------------\n",
      "Atribút  skewness_glucose \n",
      "\n",
      "Pred úpravou:\n",
      "Počet záznamov= 3932 , počet outlierov: 14\n",
      "\n",
      "\n",
      "Po úprave:\n",
      "Počet záznamov= 3932 , počet outlierov: 0\n",
      "\n",
      "\n",
      "-------------------------------------------------------------------------------------------------------------\n",
      "Atribút  mean_oxygen \n",
      "\n",
      "Pred úpravou:\n",
      "Počet záznamov= 3932 , počet outlierov: 0\n",
      "\n",
      "\n",
      "Po úprave:\n",
      "Počet záznamov= 3932 , počet outlierov: 0\n",
      "\n",
      "\n",
      "-------------------------------------------------------------------------------------------------------------\n",
      "Atribút  std_oxygen \n",
      "\n",
      "Pred úpravou:\n",
      "Počet záznamov= 3932 , počet outlierov: 0\n",
      "\n",
      "\n",
      "Po úprave:\n",
      "Počet záznamov= 3932 , počet outlierov: 0\n",
      "\n",
      "\n",
      "-------------------------------------------------------------------------------------------------------------\n",
      "Atribút  kurtosis_oxygen \n",
      "\n",
      "Pred úpravou:\n",
      "Počet záznamov= 3932 , počet outlierov: 17\n",
      "\n",
      "\n",
      "Po úprave:\n",
      "Počet záznamov= 3932 , počet outlierov: 0\n",
      "\n",
      "\n",
      "-------------------------------------------------------------------------------------------------------------\n",
      "Atribút  skewness_oxygen \n",
      "\n",
      "Pred úpravou:\n",
      "Počet záznamov= 3932 , počet outlierov: 9\n",
      "\n",
      "\n",
      "Po úprave:\n",
      "Počet záznamov= 3932 , počet outlierov: 0\n",
      "\n",
      "\n",
      "-------------------------------------------------------------------------------------------------------------\n"
     ]
    }
   ],
   "source": [
    "most_frequent_missing = ['education-num','race', 'marital-status', 'occupation', 'relationship', 'native-country', 'workclass', 'capital-gain', 'capital-loss']\n",
    "\n",
    "glucose = ['mean_glucose', 'std_glucose', 'kurtosis_glucose', 'skewness_glucose']\n",
    "\n",
    "oxygen_age = ['mean_oxygen', 'std_oxygen', 'kurtosis_oxygen', 'skewness_oxygen', 'age']\n",
    "\n",
    "encode = ['sex', 'race', 'marital-status', 'occupation', 'relationship', 'income', 'native-country', 'workclass', 'town', 'psc', 'street']\n",
    "\n",
    "outliers = ['fnlwgt', 'mean_glucose', 'std_glucose', 'kurtosis_glucose', 'skewness_glucose', 'mean_oxygen', 'std_oxygen', 'kurtosis_oxygen', 'skewness_oxygen']\n",
    "\n",
    "pip = Pipeline([('split_medical', SplittingMedicalTransformer()),\n",
    "               ('deduplication', DeduplicationTransformer(['name','address'])),\n",
    "               ('strip', StripTransformer(['sex', 'race', 'marital-status', 'occupation', 'relationship', 'education', 'income', 'native-country', 'workclass'])),\n",
    "               ('nan_unification', UnificationToNanTransformer()),\n",
    "               ('date_unification', DateUnificationTransformer()),\n",
    "               ('address_unification', AddressUnificationTransformer()),\n",
    "               ('age_unification', AgeUnificationTransformer()),\n",
    "               ('pregnant_unification', PregnantUnificationTransformer()),\n",
    "               ('workclass_unification', WorkclassUnificationTransformer()),\n",
    "               ('relationship_unification', RelationshipUnificationTransformer()),\n",
    "               ('age_to_nan', AgeToNanTransformer()),\n",
    "               ('most_frequent_missing', MostFrequentTransformer(most_frequent_missing)),\n",
    "               ('class_remove', ClassRemovalTransformer()),\n",
    "               ('hours-per-week', MeanTransformer(['hours-per-week'])),\n",
    "               ('glucose', MeanTransformer(glucose)),\n",
    "               ('oxygen_age', MeanTransformer(oxygen_age)),\n",
    "               ('power_transform',PowerTransformTransformer(outliers)),\n",
    "               ('outliers', OutliersTransformer(outliers)),\n",
    "               ('encode', LabelEncoderTransformer(encode))])\n",
    "\n",
    "pip.fit(data_train)\n",
    "data_train = pip.transform(data_train)"
   ]
  },
  {
   "cell_type": "code",
   "execution_count": 92,
   "metadata": {},
   "outputs": [],
   "source": [
    "merge = Pipeline([('merge', MergeTransformer(personal_valid, other_valid, ['name', 'address']))])\n",
    "\n",
    "data_valid = pd.DataFrame()\n",
    "data_valid = merge.transform(data_valid)"
   ]
  },
  {
   "cell_type": "code",
   "execution_count": 93,
   "metadata": {},
   "outputs": [
    {
     "name": "stdout",
     "output_type": "stream",
     "text": [
      "Atribút  fnlwgt \n",
      "\n",
      "Pred úpravou:\n",
      "Počet záznamov= 1311 , počet outlierov: 2\n",
      "\n",
      "\n",
      "Po úprave:\n",
      "Počet záznamov= 1311 , počet outlierov: 0\n",
      "\n",
      "\n",
      "-------------------------------------------------------------------------------------------------------------\n",
      "Atribút  mean_glucose \n",
      "\n",
      "Pred úpravou:\n",
      "Počet záznamov= 1311 , počet outlierov: 0\n",
      "\n",
      "\n",
      "Po úprave:\n",
      "Počet záznamov= 1311 , počet outlierov: 0\n",
      "\n",
      "\n",
      "-------------------------------------------------------------------------------------------------------------\n",
      "Atribút  std_glucose \n",
      "\n",
      "Pred úpravou:\n",
      "Počet záznamov= 1311 , počet outlierov: 5\n",
      "\n",
      "\n",
      "Po úprave:\n",
      "Počet záznamov= 1311 , počet outlierov: 0\n",
      "\n",
      "\n",
      "-------------------------------------------------------------------------------------------------------------\n",
      "Atribút  kurtosis_glucose \n",
      "\n",
      "Pred úpravou:\n",
      "Počet záznamov= 1311 , počet outlierov: 5\n",
      "\n",
      "\n",
      "Po úprave:\n",
      "Počet záznamov= 1311 , počet outlierov: 0\n",
      "\n",
      "\n",
      "-------------------------------------------------------------------------------------------------------------\n",
      "Atribút  skewness_glucose \n",
      "\n",
      "Pred úpravou:\n",
      "Počet záznamov= 1311 , počet outlierov: 3\n",
      "\n",
      "\n",
      "Po úprave:\n",
      "Počet záznamov= 1311 , počet outlierov: 0\n",
      "\n",
      "\n",
      "-------------------------------------------------------------------------------------------------------------\n",
      "Atribút  mean_oxygen \n",
      "\n",
      "Pred úpravou:\n",
      "Počet záznamov= 1311 , počet outlierov: 0\n",
      "\n",
      "\n",
      "Po úprave:\n",
      "Počet záznamov= 1311 , počet outlierov: 0\n",
      "\n",
      "\n",
      "-------------------------------------------------------------------------------------------------------------\n",
      "Atribút  std_oxygen \n",
      "\n",
      "Pred úpravou:\n",
      "Počet záznamov= 1311 , počet outlierov: 0\n",
      "\n",
      "\n",
      "Po úprave:\n",
      "Počet záznamov= 1311 , počet outlierov: 0\n",
      "\n",
      "\n",
      "-------------------------------------------------------------------------------------------------------------\n",
      "Atribút  kurtosis_oxygen \n",
      "\n",
      "Pred úpravou:\n",
      "Počet záznamov= 1311 , počet outlierov: 3\n",
      "\n",
      "\n",
      "Po úprave:\n",
      "Počet záznamov= 1311 , počet outlierov: 0\n",
      "\n",
      "\n",
      "-------------------------------------------------------------------------------------------------------------\n",
      "Atribút  skewness_oxygen \n",
      "\n",
      "Pred úpravou:\n",
      "Počet záznamov= 1311 , počet outlierov: 3\n",
      "\n",
      "\n",
      "Po úprave:\n",
      "Počet záznamov= 1311 , počet outlierov: 0\n",
      "\n",
      "\n",
      "-------------------------------------------------------------------------------------------------------------\n"
     ]
    }
   ],
   "source": [
    "data_valid = pip.transform(data_valid)"
   ]
  },
  {
   "cell_type": "markdown",
   "metadata": {},
   "source": [
    "### Testovanie DecisionTree"
   ]
  },
  {
   "cell_type": "code",
   "execution_count": 94,
   "metadata": {},
   "outputs": [
    {
     "data": {
      "text/plain": [
       "[Text(165.59612068965515, 201.90857142857143, 'X[17] <= 0.5\\ngini = 0.38\\nsamples = 3932\\nvalue = [2928, 1004]'),\n",
       " Text(104.625, 170.84571428571428, 'X[0] <= 78.5\\ngini = 0.086\\nsamples = 3026\\nvalue = [2889, 137]'),\n",
       " Text(76.48448275862069, 139.78285714285715, 'X[17] <= -0.119\\ngini = 0.08\\nsamples = 3012\\nvalue = [2886, 126]'),\n",
       " Text(37.52068965517241, 108.72, 'X[17] <= -0.449\\ngini = 0.021\\nsamples = 2102\\nvalue = [2080, 22]'),\n",
       " Text(23.089655172413792, 77.65714285714284, 'X[18] <= -1.159\\ngini = 0.006\\nsamples = 1275\\nvalue = [1271, 4]'),\n",
       " Text(11.544827586206896, 46.59428571428572, 'X[18] <= -1.159\\ngini = 0.022\\nsamples = 264\\nvalue = [261, 3]'),\n",
       " Text(5.772413793103448, 15.531428571428563, 'gini = 0.015\\nsamples = 263\\nvalue = [261, 2]'),\n",
       " Text(17.317241379310346, 15.531428571428563, 'gini = 0.0\\nsamples = 1\\nvalue = [0, 1]'),\n",
       " Text(34.63448275862069, 46.59428571428572, 'X[14] <= 1.5\\ngini = 0.002\\nsamples = 1011\\nvalue = [1010, 1]'),\n",
       " Text(28.86206896551724, 15.531428571428563, 'gini = 0.044\\nsamples = 44\\nvalue = [43, 1]'),\n",
       " Text(40.40689655172414, 15.531428571428563, 'gini = 0.0\\nsamples = 967\\nvalue = [967, 0]'),\n",
       " Text(51.95172413793103, 77.65714285714284, 'X[17] <= -0.449\\ngini = 0.043\\nsamples = 827\\nvalue = [809, 18]'),\n",
       " Text(46.179310344827584, 46.59428571428572, 'gini = 0.0\\nsamples = 1\\nvalue = [0, 1]'),\n",
       " Text(57.72413793103448, 46.59428571428572, 'X[6] <= 3.5\\ngini = 0.04\\nsamples = 826\\nvalue = [809, 17]'),\n",
       " Text(51.95172413793103, 15.531428571428563, 'gini = 0.346\\nsamples = 9\\nvalue = [7, 2]'),\n",
       " Text(63.49655172413793, 15.531428571428563, 'gini = 0.036\\nsamples = 817\\nvalue = [802, 15]'),\n",
       " Text(115.44827586206895, 108.72, 'X[21] <= -0.161\\ngini = 0.202\\nsamples = 910\\nvalue = [806, 104]'),\n",
       " Text(92.35862068965517, 77.65714285714284, 'X[17] <= 0.379\\ngini = 0.45\\nsamples = 170\\nvalue = [112, 58]'),\n",
       " Text(80.81379310344828, 46.59428571428572, 'X[24] <= 2684.0\\ngini = 0.403\\nsamples = 150\\nvalue = [108, 42]'),\n",
       " Text(75.04137931034482, 15.531428571428563, 'gini = 0.341\\nsamples = 124\\nvalue = [97, 27]'),\n",
       " Text(86.58620689655172, 15.531428571428563, 'gini = 0.488\\nsamples = 26\\nvalue = [11, 15]'),\n",
       " Text(103.90344827586206, 46.59428571428572, 'X[25] <= 1068.0\\ngini = 0.32\\nsamples = 20\\nvalue = [4, 16]'),\n",
       " Text(98.13103448275862, 15.531428571428563, 'gini = 0.375\\nsamples = 4\\nvalue = [3, 1]'),\n",
       " Text(109.67586206896551, 15.531428571428563, 'gini = 0.117\\nsamples = 16\\nvalue = [1, 15]'),\n",
       " Text(138.53793103448277, 77.65714285714284, 'X[0] <= 71.5\\ngini = 0.117\\nsamples = 740\\nvalue = [694, 46]'),\n",
       " Text(126.99310344827586, 46.59428571428572, 'X[0] <= 47.5\\ngini = 0.105\\nsamples = 734\\nvalue = [693, 41]'),\n",
       " Text(121.22068965517241, 15.531428571428563, 'gini = 0.014\\nsamples = 290\\nvalue = [288, 2]'),\n",
       " Text(132.7655172413793, 15.531428571428563, 'gini = 0.16\\nsamples = 444\\nvalue = [405, 39]'),\n",
       " Text(150.08275862068965, 46.59428571428572, 'X[22] <= 0.693\\ngini = 0.278\\nsamples = 6\\nvalue = [1, 5]'),\n",
       " Text(144.3103448275862, 15.531428571428563, 'gini = 0.0\\nsamples = 5\\nvalue = [0, 5]'),\n",
       " Text(155.8551724137931, 15.531428571428563, 'gini = 0.0\\nsamples = 1\\nvalue = [1, 0]'),\n",
       " Text(132.7655172413793, 139.78285714285715, 'X[25] <= 817.5\\ngini = 0.337\\nsamples = 14\\nvalue = [3, 11]'),\n",
       " Text(126.99310344827586, 108.72, 'gini = 0.0\\nsamples = 3\\nvalue = [3, 0]'),\n",
       " Text(138.53793103448277, 108.72, 'gini = 0.0\\nsamples = 11\\nvalue = [0, 11]'),\n",
       " Text(226.56724137931033, 170.84571428571428, 'X[17] <= 0.62\\ngini = 0.082\\nsamples = 906\\nvalue = [39, 867]'),\n",
       " Text(184.71724137931034, 139.78285714285715, 'X[18] <= 0.559\\ngini = 0.493\\nsamples = 50\\nvalue = [22, 28]'),\n",
       " Text(173.17241379310343, 108.72, 'X[0] <= 56.5\\ngini = 0.245\\nsamples = 28\\nvalue = [4, 24]'),\n",
       " Text(167.4, 77.65714285714284, 'X[9] <= -0.374\\ngini = 0.48\\nsamples = 10\\nvalue = [4, 6]'),\n",
       " Text(161.62758620689655, 46.59428571428572, 'gini = 0.0\\nsamples = 3\\nvalue = [3, 0]'),\n",
       " Text(173.17241379310343, 46.59428571428572, 'X[25] <= 3024.0\\ngini = 0.245\\nsamples = 7\\nvalue = [1, 6]'),\n",
       " Text(167.4, 15.531428571428563, 'gini = 0.0\\nsamples = 6\\nvalue = [0, 6]'),\n",
       " Text(178.94482758620688, 15.531428571428563, 'gini = 0.0\\nsamples = 1\\nvalue = [1, 0]'),\n",
       " Text(178.94482758620688, 77.65714285714284, 'gini = 0.0\\nsamples = 18\\nvalue = [0, 18]'),\n",
       " Text(196.26206896551724, 108.72, 'X[20] <= 0.473\\ngini = 0.298\\nsamples = 22\\nvalue = [18, 4]'),\n",
       " Text(190.4896551724138, 77.65714285714284, 'gini = 0.0\\nsamples = 17\\nvalue = [17, 0]'),\n",
       " Text(202.03448275862067, 77.65714285714284, 'X[12] <= 45.0\\ngini = 0.32\\nsamples = 5\\nvalue = [1, 4]'),\n",
       " Text(196.26206896551724, 46.59428571428572, 'gini = 0.0\\nsamples = 4\\nvalue = [0, 4]'),\n",
       " Text(207.80689655172412, 46.59428571428572, 'gini = 0.0\\nsamples = 1\\nvalue = [1, 0]'),\n",
       " Text(268.4172413793103, 139.78285714285715, 'X[16] <= 0.78\\ngini = 0.039\\nsamples = 856\\nvalue = [17, 839]'),\n",
       " Text(239.5551724137931, 108.72, 'X[19] <= -0.423\\ngini = 0.022\\nsamples = 820\\nvalue = [9, 811]'),\n",
       " Text(225.12413793103448, 77.65714285714284, 'X[21] <= 0.474\\ngini = 0.266\\nsamples = 19\\nvalue = [3, 16]'),\n",
       " Text(219.35172413793103, 46.59428571428572, 'gini = 0.0\\nsamples = 3\\nvalue = [3, 0]'),\n",
       " Text(230.8965517241379, 46.59428571428572, 'gini = 0.0\\nsamples = 16\\nvalue = [0, 16]'),\n",
       " Text(253.98620689655172, 77.65714285714284, 'X[25] <= 3793.0\\ngini = 0.015\\nsamples = 801\\nvalue = [6, 795]'),\n",
       " Text(242.44137931034481, 46.59428571428572, 'X[16] <= 0.209\\ngini = 0.01\\nsamples = 765\\nvalue = [4, 761]'),\n",
       " Text(236.66896551724136, 15.531428571428563, 'gini = 0.005\\nsamples = 726\\nvalue = [2, 724]'),\n",
       " Text(248.21379310344827, 15.531428571428563, 'gini = 0.097\\nsamples = 39\\nvalue = [2, 37]'),\n",
       " Text(265.5310344827586, 46.59428571428572, 'X[25] <= 3796.5\\ngini = 0.105\\nsamples = 36\\nvalue = [2, 34]'),\n",
       " Text(259.7586206896552, 15.531428571428563, 'gini = 0.0\\nsamples = 1\\nvalue = [1, 0]'),\n",
       " Text(271.3034482758621, 15.531428571428563, 'gini = 0.056\\nsamples = 35\\nvalue = [1, 34]'),\n",
       " Text(297.2793103448276, 108.72, 'X[20] <= 0.636\\ngini = 0.346\\nsamples = 36\\nvalue = [8, 28]'),\n",
       " Text(282.84827586206893, 77.65714285714284, 'X[18] <= 0.842\\ngini = 0.32\\nsamples = 5\\nvalue = [4, 1]'),\n",
       " Text(277.07586206896553, 46.59428571428572, 'gini = 0.0\\nsamples = 4\\nvalue = [4, 0]'),\n",
       " Text(288.6206896551724, 46.59428571428572, 'gini = 0.0\\nsamples = 1\\nvalue = [0, 1]'),\n",
       " Text(311.7103448275862, 77.65714285714284, 'X[0] <= 49.5\\ngini = 0.225\\nsamples = 31\\nvalue = [4, 27]'),\n",
       " Text(300.1655172413793, 46.59428571428572, 'X[21] <= -1.524\\ngini = 0.49\\nsamples = 7\\nvalue = [3, 4]'),\n",
       " Text(294.39310344827584, 15.531428571428563, 'gini = 0.375\\nsamples = 4\\nvalue = [3, 1]'),\n",
       " Text(305.93793103448274, 15.531428571428563, 'gini = 0.0\\nsamples = 3\\nvalue = [0, 3]'),\n",
       " Text(323.2551724137931, 46.59428571428572, 'X[12] <= 27.0\\ngini = 0.08\\nsamples = 24\\nvalue = [1, 23]'),\n",
       " Text(317.48275862068965, 15.531428571428563, 'gini = 0.444\\nsamples = 3\\nvalue = [1, 2]'),\n",
       " Text(329.02758620689656, 15.531428571428563, 'gini = 0.0\\nsamples = 21\\nvalue = [0, 21]')]"
      ]
     },
     "execution_count": 94,
     "metadata": {},
     "output_type": "execute_result"
    },
    {
     "data": {
      "image/png": "[encoded data removed]",
      "text/plain": [
       "<Figure size 432x288 with 1 Axes>"
      ]
     },
     "metadata": {
      "needs_background": "light"
     },
     "output_type": "display_data"
    }
   ],
   "source": [
    "data_copy = data_train.drop(columns=['class', 'name', 'date_of_birth', 'education'])\n",
    "X = data_copy\n",
    "y = data_train['class']\n",
    "\n",
    "clf = tree.DecisionTreeClassifier(max_depth = 6)\n",
    "clf = clf.fit(X, y)\n",
    "predicted_train = clf.predict(X)\n",
    "\n",
    "tree.plot_tree(clf) "
   ]
  },
  {
   "cell_type": "code",
   "execution_count": 95,
   "metadata": {},
   "outputs": [
    {
     "name": "stdout",
     "output_type": "stream",
     "text": [
      "              precision    recall  f1-score   support\n",
      "\n",
      "         0.0       0.97      0.99      0.98      2928\n",
      "         1.0       0.98      0.91      0.94      1004\n",
      "\n",
      "    accuracy                           0.97      3932\n",
      "   macro avg       0.98      0.95      0.96      3932\n",
      "weighted avg       0.97      0.97      0.97      3932\n",
      "\n"
     ]
    }
   ],
   "source": [
    "print(classification_report(data_train['class'], predicted_train))"
   ]
  },
  {
   "cell_type": "code",
   "execution_count": 96,
   "metadata": {},
   "outputs": [
    {
     "name": "stdout",
     "output_type": "stream",
     "text": [
      "0.9725330620549338\n"
     ]
    }
   ],
   "source": [
    "print(accuracy_score(data_train['class'], predicted_train))"
   ]
  },
  {
   "cell_type": "code",
   "execution_count": 97,
   "metadata": {},
   "outputs": [
    {
     "data": {
      "image/png": "[encoded data removed]",
      "text/plain": [
       "<Figure size 432x288 with 2 Axes>"
      ]
     },
     "metadata": {
      "needs_background": "light"
     },
     "output_type": "display_data"
    }
   ],
   "source": [
    "cm = confusion_matrix(data_train['class'], predicted_train)\n",
    "\n",
    "disp = ConfusionMatrixDisplay(confusion_matrix=cm)\n",
    "disp = disp.plot()"
   ]
  },
  {
   "cell_type": "code",
   "execution_count": 98,
   "metadata": {},
   "outputs": [
    {
     "data": {
      "text/plain": [
       "[Text(165.59612068965515, 201.90857142857143, 'X[17] <= 0.5\\ngini = 0.38\\nsamples = 3932\\nvalue = [2928, 1004]'),\n",
       " Text(104.625, 170.84571428571428, 'X[0] <= 78.5\\ngini = 0.086\\nsamples = 3026\\nvalue = [2889, 137]'),\n",
       " Text(76.48448275862069, 139.78285714285715, 'X[17] <= -0.119\\ngini = 0.08\\nsamples = 3012\\nvalue = [2886, 126]'),\n",
       " Text(37.52068965517241, 108.72, 'X[17] <= -0.449\\ngini = 0.021\\nsamples = 2102\\nvalue = [2080, 22]'),\n",
       " Text(23.089655172413792, 77.65714285714284, 'X[18] <= -1.159\\ngini = 0.006\\nsamples = 1275\\nvalue = [1271, 4]'),\n",
       " Text(11.544827586206896, 46.59428571428572, 'X[18] <= -1.159\\ngini = 0.022\\nsamples = 264\\nvalue = [261, 3]'),\n",
       " Text(5.772413793103448, 15.531428571428563, 'gini = 0.015\\nsamples = 263\\nvalue = [261, 2]'),\n",
       " Text(17.317241379310346, 15.531428571428563, 'gini = 0.0\\nsamples = 1\\nvalue = [0, 1]'),\n",
       " Text(34.63448275862069, 46.59428571428572, 'X[14] <= 1.5\\ngini = 0.002\\nsamples = 1011\\nvalue = [1010, 1]'),\n",
       " Text(28.86206896551724, 15.531428571428563, 'gini = 0.044\\nsamples = 44\\nvalue = [43, 1]'),\n",
       " Text(40.40689655172414, 15.531428571428563, 'gini = 0.0\\nsamples = 967\\nvalue = [967, 0]'),\n",
       " Text(51.95172413793103, 77.65714285714284, 'X[17] <= -0.449\\ngini = 0.043\\nsamples = 827\\nvalue = [809, 18]'),\n",
       " Text(46.179310344827584, 46.59428571428572, 'gini = 0.0\\nsamples = 1\\nvalue = [0, 1]'),\n",
       " Text(57.72413793103448, 46.59428571428572, 'X[6] <= 3.5\\ngini = 0.04\\nsamples = 826\\nvalue = [809, 17]'),\n",
       " Text(51.95172413793103, 15.531428571428563, 'gini = 0.346\\nsamples = 9\\nvalue = [7, 2]'),\n",
       " Text(63.49655172413793, 15.531428571428563, 'gini = 0.036\\nsamples = 817\\nvalue = [802, 15]'),\n",
       " Text(115.44827586206895, 108.72, 'X[21] <= -0.161\\ngini = 0.202\\nsamples = 910\\nvalue = [806, 104]'),\n",
       " Text(92.35862068965517, 77.65714285714284, 'X[17] <= 0.379\\ngini = 0.45\\nsamples = 170\\nvalue = [112, 58]'),\n",
       " Text(80.81379310344828, 46.59428571428572, 'X[24] <= 2684.0\\ngini = 0.403\\nsamples = 150\\nvalue = [108, 42]'),\n",
       " Text(75.04137931034482, 15.531428571428563, 'gini = 0.341\\nsamples = 124\\nvalue = [97, 27]'),\n",
       " Text(86.58620689655172, 15.531428571428563, 'gini = 0.488\\nsamples = 26\\nvalue = [11, 15]'),\n",
       " Text(103.90344827586206, 46.59428571428572, 'X[25] <= 1068.0\\ngini = 0.32\\nsamples = 20\\nvalue = [4, 16]'),\n",
       " Text(98.13103448275862, 15.531428571428563, 'gini = 0.375\\nsamples = 4\\nvalue = [3, 1]'),\n",
       " Text(109.67586206896551, 15.531428571428563, 'gini = 0.117\\nsamples = 16\\nvalue = [1, 15]'),\n",
       " Text(138.53793103448277, 77.65714285714284, 'X[0] <= 71.5\\ngini = 0.117\\nsamples = 740\\nvalue = [694, 46]'),\n",
       " Text(126.99310344827586, 46.59428571428572, 'X[0] <= 47.5\\ngini = 0.105\\nsamples = 734\\nvalue = [693, 41]'),\n",
       " Text(121.22068965517241, 15.531428571428563, 'gini = 0.014\\nsamples = 290\\nvalue = [288, 2]'),\n",
       " Text(132.7655172413793, 15.531428571428563, 'gini = 0.16\\nsamples = 444\\nvalue = [405, 39]'),\n",
       " Text(150.08275862068965, 46.59428571428572, 'X[22] <= 0.693\\ngini = 0.278\\nsamples = 6\\nvalue = [1, 5]'),\n",
       " Text(144.3103448275862, 15.531428571428563, 'gini = 0.0\\nsamples = 5\\nvalue = [0, 5]'),\n",
       " Text(155.8551724137931, 15.531428571428563, 'gini = 0.0\\nsamples = 1\\nvalue = [1, 0]'),\n",
       " Text(132.7655172413793, 139.78285714285715, 'X[25] <= 817.5\\ngini = 0.337\\nsamples = 14\\nvalue = [3, 11]'),\n",
       " Text(126.99310344827586, 108.72, 'gini = 0.0\\nsamples = 3\\nvalue = [3, 0]'),\n",
       " Text(138.53793103448277, 108.72, 'gini = 0.0\\nsamples = 11\\nvalue = [0, 11]'),\n",
       " Text(226.56724137931033, 170.84571428571428, 'X[17] <= 0.62\\ngini = 0.082\\nsamples = 906\\nvalue = [39, 867]'),\n",
       " Text(184.71724137931034, 139.78285714285715, 'X[18] <= 0.559\\ngini = 0.493\\nsamples = 50\\nvalue = [22, 28]'),\n",
       " Text(173.17241379310343, 108.72, 'X[0] <= 56.5\\ngini = 0.245\\nsamples = 28\\nvalue = [4, 24]'),\n",
       " Text(167.4, 77.65714285714284, 'X[9] <= -0.374\\ngini = 0.48\\nsamples = 10\\nvalue = [4, 6]'),\n",
       " Text(161.62758620689655, 46.59428571428572, 'gini = 0.0\\nsamples = 3\\nvalue = [3, 0]'),\n",
       " Text(173.17241379310343, 46.59428571428572, 'X[25] <= 3024.0\\ngini = 0.245\\nsamples = 7\\nvalue = [1, 6]'),\n",
       " Text(167.4, 15.531428571428563, 'gini = 0.0\\nsamples = 6\\nvalue = [0, 6]'),\n",
       " Text(178.94482758620688, 15.531428571428563, 'gini = 0.0\\nsamples = 1\\nvalue = [1, 0]'),\n",
       " Text(178.94482758620688, 77.65714285714284, 'gini = 0.0\\nsamples = 18\\nvalue = [0, 18]'),\n",
       " Text(196.26206896551724, 108.72, 'X[20] <= 0.473\\ngini = 0.298\\nsamples = 22\\nvalue = [18, 4]'),\n",
       " Text(190.4896551724138, 77.65714285714284, 'gini = 0.0\\nsamples = 17\\nvalue = [17, 0]'),\n",
       " Text(202.03448275862067, 77.65714285714284, 'X[12] <= 45.0\\ngini = 0.32\\nsamples = 5\\nvalue = [1, 4]'),\n",
       " Text(196.26206896551724, 46.59428571428572, 'gini = 0.0\\nsamples = 4\\nvalue = [0, 4]'),\n",
       " Text(207.80689655172412, 46.59428571428572, 'gini = 0.0\\nsamples = 1\\nvalue = [1, 0]'),\n",
       " Text(268.4172413793103, 139.78285714285715, 'X[16] <= 0.78\\ngini = 0.039\\nsamples = 856\\nvalue = [17, 839]'),\n",
       " Text(239.5551724137931, 108.72, 'X[19] <= -0.423\\ngini = 0.022\\nsamples = 820\\nvalue = [9, 811]'),\n",
       " Text(225.12413793103448, 77.65714285714284, 'X[21] <= 0.474\\ngini = 0.266\\nsamples = 19\\nvalue = [3, 16]'),\n",
       " Text(219.35172413793103, 46.59428571428572, 'gini = 0.0\\nsamples = 3\\nvalue = [3, 0]'),\n",
       " Text(230.8965517241379, 46.59428571428572, 'gini = 0.0\\nsamples = 16\\nvalue = [0, 16]'),\n",
       " Text(253.98620689655172, 77.65714285714284, 'X[25] <= 3793.0\\ngini = 0.015\\nsamples = 801\\nvalue = [6, 795]'),\n",
       " Text(242.44137931034481, 46.59428571428572, 'X[16] <= 0.209\\ngini = 0.01\\nsamples = 765\\nvalue = [4, 761]'),\n",
       " Text(236.66896551724136, 15.531428571428563, 'gini = 0.005\\nsamples = 726\\nvalue = [2, 724]'),\n",
       " Text(248.21379310344827, 15.531428571428563, 'gini = 0.097\\nsamples = 39\\nvalue = [2, 37]'),\n",
       " Text(265.5310344827586, 46.59428571428572, 'X[25] <= 3796.5\\ngini = 0.105\\nsamples = 36\\nvalue = [2, 34]'),\n",
       " Text(259.7586206896552, 15.531428571428563, 'gini = 0.0\\nsamples = 1\\nvalue = [1, 0]'),\n",
       " Text(271.3034482758621, 15.531428571428563, 'gini = 0.056\\nsamples = 35\\nvalue = [1, 34]'),\n",
       " Text(297.2793103448276, 108.72, 'X[20] <= 0.636\\ngini = 0.346\\nsamples = 36\\nvalue = [8, 28]'),\n",
       " Text(282.84827586206893, 77.65714285714284, 'X[18] <= 0.842\\ngini = 0.32\\nsamples = 5\\nvalue = [4, 1]'),\n",
       " Text(277.07586206896553, 46.59428571428572, 'gini = 0.0\\nsamples = 4\\nvalue = [4, 0]'),\n",
       " Text(288.6206896551724, 46.59428571428572, 'gini = 0.0\\nsamples = 1\\nvalue = [0, 1]'),\n",
       " Text(311.7103448275862, 77.65714285714284, 'X[0] <= 49.5\\ngini = 0.225\\nsamples = 31\\nvalue = [4, 27]'),\n",
       " Text(300.1655172413793, 46.59428571428572, 'X[21] <= -1.524\\ngini = 0.49\\nsamples = 7\\nvalue = [3, 4]'),\n",
       " Text(294.39310344827584, 15.531428571428563, 'gini = 0.375\\nsamples = 4\\nvalue = [3, 1]'),\n",
       " Text(305.93793103448274, 15.531428571428563, 'gini = 0.0\\nsamples = 3\\nvalue = [0, 3]'),\n",
       " Text(323.2551724137931, 46.59428571428572, 'X[12] <= 27.0\\ngini = 0.08\\nsamples = 24\\nvalue = [1, 23]'),\n",
       " Text(317.48275862068965, 15.531428571428563, 'gini = 0.444\\nsamples = 3\\nvalue = [1, 2]'),\n",
       " Text(329.02758620689656, 15.531428571428563, 'gini = 0.0\\nsamples = 21\\nvalue = [0, 21]')]"
      ]
     },
     "execution_count": 98,
     "metadata": {},
     "output_type": "execute_result"
    },
    {
     "data": {
      "image/png": "[encoded data removed]",
      "text/plain": [
       "<Figure size 432x288 with 1 Axes>"
      ]
     },
     "metadata": {
      "needs_background": "light"
     },
     "output_type": "display_data"
    }
   ],
   "source": [
    "data_copy = data_valid.drop(columns=['class', 'name', 'date_of_birth', 'education'])\n",
    "X = data_copy\n",
    "y = data_valid['class']\n",
    "\n",
    "predicted_valid = clf.predict(X)\n",
    "\n",
    "tree.plot_tree(clf) "
   ]
  },
  {
   "cell_type": "code",
   "execution_count": 99,
   "metadata": {},
   "outputs": [
    {
     "name": "stdout",
     "output_type": "stream",
     "text": [
      "              precision    recall  f1-score   support\n",
      "\n",
      "         0.0       0.97      0.95      0.96       965\n",
      "         1.0       0.87      0.93      0.90       346\n",
      "\n",
      "    accuracy                           0.95      1311\n",
      "   macro avg       0.92      0.94      0.93      1311\n",
      "weighted avg       0.95      0.95      0.95      1311\n",
      "\n"
     ]
    }
   ],
   "source": [
    "print(classification_report(data_valid['class'], predicted_valid))"
   ]
  },
  {
   "cell_type": "code",
   "execution_count": 100,
   "metadata": {},
   "outputs": [
    {
     "name": "stdout",
     "output_type": "stream",
     "text": [
      "0.9450800915331807\n"
     ]
    }
   ],
   "source": [
    "print(accuracy_score(data_valid['class'], predicted_valid))"
   ]
  },
  {
   "cell_type": "code",
   "execution_count": 101,
   "metadata": {},
   "outputs": [
    {
     "data": {
      "image/png": "[encoded data removed]",
      "text/plain": [
       "<Figure size 432x288 with 2 Axes>"
      ]
     },
     "metadata": {
      "needs_background": "light"
     },
     "output_type": "display_data"
    }
   ],
   "source": [
    "cm = confusion_matrix(data_valid['class'], predicted_valid)\n",
    "\n",
    "disp = ConfusionMatrixDisplay(confusion_matrix=cm)\n",
    "disp = disp.plot()"
   ]
  },
  {
   "cell_type": "markdown",
   "metadata": {},
   "source": [
    "### cez K najbližších"
   ]
  },
  {
   "cell_type": "code",
   "execution_count": 102,
   "metadata": {},
   "outputs": [],
   "source": [
    "merge = Pipeline([('merge', MergeTransformer(personal_train, other_train, ['name', 'address']))])\n",
    "\n",
    "data_train = pd.DataFrame()\n",
    "data_train = merge.transform(data_train)"
   ]
  },
  {
   "cell_type": "code",
   "execution_count": 103,
   "metadata": {},
   "outputs": [
    {
     "name": "stdout",
     "output_type": "stream",
     "text": [
      "Atribút  fnlwgt \n",
      "\n",
      "Pred úpravou:\n",
      "Počet záznamov= 3932 , počet outlierov: 22\n",
      "\n",
      "\n",
      "Po úprave:\n",
      "Počet záznamov= 3932 , počet outlierov: 0\n",
      "\n",
      "\n",
      "-------------------------------------------------------------------------------------------------------------\n",
      "Atribút  mean_glucose \n",
      "\n",
      "Pred úpravou:\n",
      "Počet záznamov= 3932 , počet outlierov: 3\n",
      "\n",
      "\n",
      "Po úprave:\n",
      "Počet záznamov= 3932 , počet outlierov: 0\n",
      "\n",
      "\n",
      "-------------------------------------------------------------------------------------------------------------\n",
      "Atribút  std_glucose \n",
      "\n",
      "Pred úpravou:\n",
      "Počet záznamov= 3932 , počet outlierov: 17\n",
      "\n",
      "\n",
      "Po úprave:\n",
      "Počet záznamov= 3932 , počet outlierov: 0\n",
      "\n",
      "\n",
      "-------------------------------------------------------------------------------------------------------------\n",
      "Atribút  kurtosis_glucose \n",
      "\n",
      "Pred úpravou:\n",
      "Počet záznamov= 3932 , počet outlierov: 18\n",
      "\n",
      "\n",
      "Po úprave:\n",
      "Počet záznamov= 3932 , počet outlierov: 0\n",
      "\n",
      "\n",
      "-------------------------------------------------------------------------------------------------------------\n",
      "Atribút  skewness_glucose \n",
      "\n",
      "Pred úpravou:\n",
      "Počet záznamov= 3932 , počet outlierov: 14\n",
      "\n",
      "\n",
      "Po úprave:\n",
      "Počet záznamov= 3932 , počet outlierov: 0\n",
      "\n",
      "\n",
      "-------------------------------------------------------------------------------------------------------------\n",
      "Atribút  mean_oxygen \n",
      "\n",
      "Pred úpravou:\n",
      "Počet záznamov= 3932 , počet outlierov: 0\n",
      "\n",
      "\n",
      "Po úprave:\n",
      "Počet záznamov= 3932 , počet outlierov: 0\n",
      "\n",
      "\n",
      "-------------------------------------------------------------------------------------------------------------\n",
      "Atribút  std_oxygen \n",
      "\n",
      "Pred úpravou:\n",
      "Počet záznamov= 3932 , počet outlierov: 0\n",
      "\n",
      "\n",
      "Po úprave:\n",
      "Počet záznamov= 3932 , počet outlierov: 0\n",
      "\n",
      "\n",
      "-------------------------------------------------------------------------------------------------------------\n",
      "Atribút  kurtosis_oxygen \n",
      "\n",
      "Pred úpravou:\n",
      "Počet záznamov= 3932 , počet outlierov: 17\n",
      "\n",
      "\n",
      "Po úprave:\n",
      "Počet záznamov= 3932 , počet outlierov: 0\n",
      "\n",
      "\n",
      "-------------------------------------------------------------------------------------------------------------\n",
      "Atribút  skewness_oxygen \n",
      "\n",
      "Pred úpravou:\n",
      "Počet záznamov= 3932 , počet outlierov: 9\n",
      "\n",
      "\n",
      "Po úprave:\n",
      "Počet záznamov= 3932 , počet outlierov: 0\n",
      "\n",
      "\n",
      "-------------------------------------------------------------------------------------------------------------\n",
      "Atribút  fnlwgt \n",
      "\n",
      "Pred úpravou:\n",
      "Počet záznamov= 3932 , počet outlierov: 22\n",
      "\n",
      "\n",
      "Po úprave:\n",
      "Počet záznamov= 3932 , počet outlierov: 0\n",
      "\n",
      "\n",
      "-------------------------------------------------------------------------------------------------------------\n",
      "Atribút  mean_glucose \n",
      "\n",
      "Pred úpravou:\n",
      "Počet záznamov= 3932 , počet outlierov: 3\n",
      "\n",
      "\n",
      "Po úprave:\n",
      "Počet záznamov= 3932 , počet outlierov: 0\n",
      "\n",
      "\n",
      "-------------------------------------------------------------------------------------------------------------\n",
      "Atribút  std_glucose \n",
      "\n",
      "Pred úpravou:\n",
      "Počet záznamov= 3932 , počet outlierov: 17\n",
      "\n",
      "\n",
      "Po úprave:\n",
      "Počet záznamov= 3932 , počet outlierov: 0\n",
      "\n",
      "\n",
      "-------------------------------------------------------------------------------------------------------------\n",
      "Atribút  kurtosis_glucose \n",
      "\n",
      "Pred úpravou:\n",
      "Počet záznamov= 3932 , počet outlierov: 18\n",
      "\n",
      "\n",
      "Po úprave:\n",
      "Počet záznamov= 3932 , počet outlierov: 0\n",
      "\n",
      "\n",
      "-------------------------------------------------------------------------------------------------------------\n",
      "Atribút  skewness_glucose \n",
      "\n",
      "Pred úpravou:\n",
      "Počet záznamov= 3932 , počet outlierov: 14\n",
      "\n",
      "\n",
      "Po úprave:\n",
      "Počet záznamov= 3932 , počet outlierov: 0\n",
      "\n",
      "\n",
      "-------------------------------------------------------------------------------------------------------------\n",
      "Atribút  mean_oxygen \n",
      "\n",
      "Pred úpravou:\n",
      "Počet záznamov= 3932 , počet outlierov: 0\n",
      "\n",
      "\n",
      "Po úprave:\n",
      "Počet záznamov= 3932 , počet outlierov: 0\n",
      "\n",
      "\n",
      "-------------------------------------------------------------------------------------------------------------\n",
      "Atribút  std_oxygen \n",
      "\n",
      "Pred úpravou:\n",
      "Počet záznamov= 3932 , počet outlierov: 0\n",
      "\n",
      "\n",
      "Po úprave:\n",
      "Počet záznamov= 3932 , počet outlierov: 0\n",
      "\n",
      "\n",
      "-------------------------------------------------------------------------------------------------------------\n",
      "Atribút  kurtosis_oxygen \n",
      "\n",
      "Pred úpravou:\n",
      "Počet záznamov= 3932 , počet outlierov: 17\n",
      "\n",
      "\n",
      "Po úprave:\n",
      "Počet záznamov= 3932 , počet outlierov: 0\n",
      "\n",
      "\n",
      "-------------------------------------------------------------------------------------------------------------\n",
      "Atribút  skewness_oxygen \n",
      "\n",
      "Pred úpravou:\n",
      "Počet záznamov= 3932 , počet outlierov: 9\n",
      "\n",
      "\n",
      "Po úprave:\n",
      "Počet záznamov= 3932 , počet outlierov: 0\n",
      "\n",
      "\n",
      "-------------------------------------------------------------------------------------------------------------\n"
     ]
    }
   ],
   "source": [
    "most_frequent_missing = ['education-num','race', 'marital-status', 'occupation', 'relationship', 'native-country', 'workclass', 'capital-gain', 'capital-loss']\n",
    "\n",
    "glucose = ['mean_glucose', 'std_glucose', 'kurtosis_glucose', 'skewness_glucose']\n",
    "\n",
    "oxygen_age = ['mean_oxygen', 'std_oxygen', 'kurtosis_oxygen', 'skewness_oxygen', 'age']\n",
    "\n",
    "encode = ['sex', 'race', 'marital-status', 'occupation', 'relationship', 'income', 'native-country', 'workclass', 'town', 'psc', 'street']\n",
    "\n",
    "outliers = ['fnlwgt', 'mean_glucose', 'std_glucose', 'kurtosis_glucose', 'skewness_glucose', 'mean_oxygen', 'std_oxygen', 'kurtosis_oxygen', 'skewness_oxygen']\n",
    "\n",
    "pip = Pipeline([('split_medical', SplittingMedicalTransformer()),\n",
    "               ('deduplication', DeduplicationTransformer(['name','address'])),\n",
    "               ('strip', StripTransformer(['sex', 'race', 'marital-status', 'occupation', 'relationship', 'education', 'income', 'native-country', 'workclass'])),\n",
    "               ('nan_unification', UnificationToNanTransformer()),\n",
    "               ('date_unification', DateUnificationTransformer()),\n",
    "               ('address_unification', AddressUnificationTransformer()),\n",
    "               ('age_unification', AgeUnificationTransformer()),\n",
    "               ('pregnant_unification', PregnantUnificationTransformer()),\n",
    "               ('workclass_unification', WorkclassUnificationTransformer()),\n",
    "               ('relationship_unification', RelationshipUnificationTransformer()),\n",
    "               ('age_to_nan', AgeToNanTransformer()),\n",
    "               ('most_frequent_missing', MostFrequentTransformer(most_frequent_missing)),\n",
    "               ('class_remove', ClassRemovalTransformer()),\n",
    "               ('hours-per-week', KNNTransformer(['hours-per-week'])),\n",
    "               ('glucose', KNNTransformer(glucose)),\n",
    "               ('oxygen_age', KNNTransformer(oxygen_age)),\n",
    "               ('power_transform',PowerTransformTransformer(outliers)),\n",
    "               ('outliers', OutliersTransformer(outliers)),\n",
    "               ('encode', LabelEncoderTransformer(encode))])\n",
    "\n",
    "pip.fit(data_train)\n",
    "data_train = pip.transform(data_train)"
   ]
  },
  {
   "cell_type": "code",
   "execution_count": 104,
   "metadata": {},
   "outputs": [],
   "source": [
    "merge = Pipeline([('merge', MergeTransformer(personal_valid, other_valid, ['name', 'address']))])\n",
    "\n",
    "data_valid = pd.DataFrame()\n",
    "data_valid = merge.transform(data_valid)"
   ]
  },
  {
   "cell_type": "code",
   "execution_count": 105,
   "metadata": {},
   "outputs": [
    {
     "name": "stdout",
     "output_type": "stream",
     "text": [
      "Atribút  fnlwgt \n",
      "\n",
      "Pred úpravou:\n",
      "Počet záznamov= 1311 , počet outlierov: 2\n",
      "\n",
      "\n",
      "Po úprave:\n",
      "Počet záznamov= 1311 , počet outlierov: 0\n",
      "\n",
      "\n",
      "-------------------------------------------------------------------------------------------------------------\n",
      "Atribút  mean_glucose \n",
      "\n",
      "Pred úpravou:\n",
      "Počet záznamov= 1311 , počet outlierov: 0\n",
      "\n",
      "\n",
      "Po úprave:\n",
      "Počet záznamov= 1311 , počet outlierov: 0\n",
      "\n",
      "\n",
      "-------------------------------------------------------------------------------------------------------------\n",
      "Atribút  std_glucose \n",
      "\n",
      "Pred úpravou:\n",
      "Počet záznamov= 1311 , počet outlierov: 5\n",
      "\n",
      "\n",
      "Po úprave:\n",
      "Počet záznamov= 1311 , počet outlierov: 0\n",
      "\n",
      "\n",
      "-------------------------------------------------------------------------------------------------------------\n",
      "Atribút  kurtosis_glucose \n",
      "\n",
      "Pred úpravou:\n",
      "Počet záznamov= 1311 , počet outlierov: 5\n",
      "\n",
      "\n",
      "Po úprave:\n",
      "Počet záznamov= 1311 , počet outlierov: 0\n",
      "\n",
      "\n",
      "-------------------------------------------------------------------------------------------------------------\n",
      "Atribút  skewness_glucose \n",
      "\n",
      "Pred úpravou:\n",
      "Počet záznamov= 1311 , počet outlierov: 3\n",
      "\n",
      "\n",
      "Po úprave:\n",
      "Počet záznamov= 1311 , počet outlierov: 0\n",
      "\n",
      "\n",
      "-------------------------------------------------------------------------------------------------------------\n",
      "Atribút  mean_oxygen \n",
      "\n",
      "Pred úpravou:\n",
      "Počet záznamov= 1311 , počet outlierov: 0\n",
      "\n",
      "\n",
      "Po úprave:\n",
      "Počet záznamov= 1311 , počet outlierov: 0\n",
      "\n",
      "\n",
      "-------------------------------------------------------------------------------------------------------------\n",
      "Atribút  std_oxygen \n",
      "\n",
      "Pred úpravou:\n",
      "Počet záznamov= 1311 , počet outlierov: 0\n",
      "\n",
      "\n",
      "Po úprave:\n",
      "Počet záznamov= 1311 , počet outlierov: 0\n",
      "\n",
      "\n",
      "-------------------------------------------------------------------------------------------------------------\n",
      "Atribút  kurtosis_oxygen \n",
      "\n",
      "Pred úpravou:\n",
      "Počet záznamov= 1311 , počet outlierov: 3\n",
      "\n",
      "\n",
      "Po úprave:\n",
      "Počet záznamov= 1311 , počet outlierov: 0\n",
      "\n",
      "\n",
      "-------------------------------------------------------------------------------------------------------------\n",
      "Atribút  skewness_oxygen \n",
      "\n",
      "Pred úpravou:\n",
      "Počet záznamov= 1311 , počet outlierov: 3\n",
      "\n",
      "\n",
      "Po úprave:\n",
      "Počet záznamov= 1311 , počet outlierov: 0\n",
      "\n",
      "\n",
      "-------------------------------------------------------------------------------------------------------------\n"
     ]
    }
   ],
   "source": [
    "data_valid = pip.transform(data_valid)"
   ]
  },
  {
   "cell_type": "code",
   "execution_count": 106,
   "metadata": {},
   "outputs": [
    {
     "data": {
      "text/plain": [
       "[Text(165.59612068965515, 201.90857142857143, 'X[17] <= 0.5\\ngini = 0.38\\nsamples = 3932\\nvalue = [2928, 1004]'),\n",
       " Text(104.625, 170.84571428571428, 'X[0] <= 78.5\\ngini = 0.086\\nsamples = 3026\\nvalue = [2889, 137]'),\n",
       " Text(76.48448275862069, 139.78285714285715, 'X[17] <= -0.119\\ngini = 0.08\\nsamples = 3012\\nvalue = [2886, 126]'),\n",
       " Text(37.52068965517241, 108.72, 'X[17] <= -0.449\\ngini = 0.021\\nsamples = 2102\\nvalue = [2080, 22]'),\n",
       " Text(23.089655172413792, 77.65714285714284, 'X[18] <= -1.159\\ngini = 0.006\\nsamples = 1275\\nvalue = [1271, 4]'),\n",
       " Text(11.544827586206896, 46.59428571428572, 'X[18] <= -1.159\\ngini = 0.022\\nsamples = 264\\nvalue = [261, 3]'),\n",
       " Text(5.772413793103448, 15.531428571428563, 'gini = 0.015\\nsamples = 263\\nvalue = [261, 2]'),\n",
       " Text(17.317241379310346, 15.531428571428563, 'gini = 0.0\\nsamples = 1\\nvalue = [0, 1]'),\n",
       " Text(34.63448275862069, 46.59428571428572, 'X[14] <= 1.5\\ngini = 0.002\\nsamples = 1011\\nvalue = [1010, 1]'),\n",
       " Text(28.86206896551724, 15.531428571428563, 'gini = 0.044\\nsamples = 44\\nvalue = [43, 1]'),\n",
       " Text(40.40689655172414, 15.531428571428563, 'gini = 0.0\\nsamples = 967\\nvalue = [967, 0]'),\n",
       " Text(51.95172413793103, 77.65714285714284, 'X[17] <= -0.449\\ngini = 0.043\\nsamples = 827\\nvalue = [809, 18]'),\n",
       " Text(46.179310344827584, 46.59428571428572, 'gini = 0.0\\nsamples = 1\\nvalue = [0, 1]'),\n",
       " Text(57.72413793103448, 46.59428571428572, 'X[6] <= 3.5\\ngini = 0.04\\nsamples = 826\\nvalue = [809, 17]'),\n",
       " Text(51.95172413793103, 15.531428571428563, 'gini = 0.346\\nsamples = 9\\nvalue = [7, 2]'),\n",
       " Text(63.49655172413793, 15.531428571428563, 'gini = 0.036\\nsamples = 817\\nvalue = [802, 15]'),\n",
       " Text(115.44827586206895, 108.72, 'X[21] <= -0.161\\ngini = 0.202\\nsamples = 910\\nvalue = [806, 104]'),\n",
       " Text(92.35862068965517, 77.65714285714284, 'X[17] <= 0.379\\ngini = 0.45\\nsamples = 170\\nvalue = [112, 58]'),\n",
       " Text(80.81379310344828, 46.59428571428572, 'X[24] <= 2684.0\\ngini = 0.403\\nsamples = 150\\nvalue = [108, 42]'),\n",
       " Text(75.04137931034482, 15.531428571428563, 'gini = 0.341\\nsamples = 124\\nvalue = [97, 27]'),\n",
       " Text(86.58620689655172, 15.531428571428563, 'gini = 0.488\\nsamples = 26\\nvalue = [11, 15]'),\n",
       " Text(103.90344827586206, 46.59428571428572, 'X[25] <= 1068.0\\ngini = 0.32\\nsamples = 20\\nvalue = [4, 16]'),\n",
       " Text(98.13103448275862, 15.531428571428563, 'gini = 0.375\\nsamples = 4\\nvalue = [3, 1]'),\n",
       " Text(109.67586206896551, 15.531428571428563, 'gini = 0.117\\nsamples = 16\\nvalue = [1, 15]'),\n",
       " Text(138.53793103448277, 77.65714285714284, 'X[0] <= 71.5\\ngini = 0.117\\nsamples = 740\\nvalue = [694, 46]'),\n",
       " Text(126.99310344827586, 46.59428571428572, 'X[0] <= 47.5\\ngini = 0.105\\nsamples = 734\\nvalue = [693, 41]'),\n",
       " Text(121.22068965517241, 15.531428571428563, 'gini = 0.014\\nsamples = 290\\nvalue = [288, 2]'),\n",
       " Text(132.7655172413793, 15.531428571428563, 'gini = 0.16\\nsamples = 444\\nvalue = [405, 39]'),\n",
       " Text(150.08275862068965, 46.59428571428572, 'X[24] <= 1697.0\\ngini = 0.278\\nsamples = 6\\nvalue = [1, 5]'),\n",
       " Text(144.3103448275862, 15.531428571428563, 'gini = 0.0\\nsamples = 1\\nvalue = [1, 0]'),\n",
       " Text(155.8551724137931, 15.531428571428563, 'gini = 0.0\\nsamples = 5\\nvalue = [0, 5]'),\n",
       " Text(132.7655172413793, 139.78285714285715, 'X[25] <= 817.5\\ngini = 0.337\\nsamples = 14\\nvalue = [3, 11]'),\n",
       " Text(126.99310344827586, 108.72, 'gini = 0.0\\nsamples = 3\\nvalue = [3, 0]'),\n",
       " Text(138.53793103448277, 108.72, 'gini = 0.0\\nsamples = 11\\nvalue = [0, 11]'),\n",
       " Text(226.56724137931033, 170.84571428571428, 'X[17] <= 0.62\\ngini = 0.082\\nsamples = 906\\nvalue = [39, 867]'),\n",
       " Text(184.71724137931034, 139.78285714285715, 'X[18] <= 0.559\\ngini = 0.493\\nsamples = 50\\nvalue = [22, 28]'),\n",
       " Text(173.17241379310343, 108.72, 'X[0] <= 56.5\\ngini = 0.245\\nsamples = 28\\nvalue = [4, 24]'),\n",
       " Text(167.4, 77.65714285714284, 'X[9] <= -0.374\\ngini = 0.48\\nsamples = 10\\nvalue = [4, 6]'),\n",
       " Text(161.62758620689655, 46.59428571428572, 'gini = 0.0\\nsamples = 3\\nvalue = [3, 0]'),\n",
       " Text(173.17241379310343, 46.59428571428572, 'X[17] <= 0.607\\ngini = 0.245\\nsamples = 7\\nvalue = [1, 6]'),\n",
       " Text(167.4, 15.531428571428563, 'gini = 0.0\\nsamples = 6\\nvalue = [0, 6]'),\n",
       " Text(178.94482758620688, 15.531428571428563, 'gini = 0.0\\nsamples = 1\\nvalue = [1, 0]'),\n",
       " Text(178.94482758620688, 77.65714285714284, 'gini = 0.0\\nsamples = 18\\nvalue = [0, 18]'),\n",
       " Text(196.26206896551724, 108.72, 'X[20] <= 0.473\\ngini = 0.298\\nsamples = 22\\nvalue = [18, 4]'),\n",
       " Text(190.4896551724138, 77.65714285714284, 'gini = 0.0\\nsamples = 17\\nvalue = [17, 0]'),\n",
       " Text(202.03448275862067, 77.65714285714284, 'X[8] <= 5302.5\\ngini = 0.32\\nsamples = 5\\nvalue = [1, 4]'),\n",
       " Text(196.26206896551724, 46.59428571428572, 'gini = 0.0\\nsamples = 4\\nvalue = [0, 4]'),\n",
       " Text(207.80689655172412, 46.59428571428572, 'gini = 0.0\\nsamples = 1\\nvalue = [1, 0]'),\n",
       " Text(268.4172413793103, 139.78285714285715, 'X[16] <= 0.78\\ngini = 0.039\\nsamples = 856\\nvalue = [17, 839]'),\n",
       " Text(239.5551724137931, 108.72, 'X[19] <= -0.423\\ngini = 0.022\\nsamples = 820\\nvalue = [9, 811]'),\n",
       " Text(225.12413793103448, 77.65714285714284, 'X[21] <= 0.474\\ngini = 0.266\\nsamples = 19\\nvalue = [3, 16]'),\n",
       " Text(219.35172413793103, 46.59428571428572, 'gini = 0.0\\nsamples = 3\\nvalue = [3, 0]'),\n",
       " Text(230.8965517241379, 46.59428571428572, 'gini = 0.0\\nsamples = 16\\nvalue = [0, 16]'),\n",
       " Text(253.98620689655172, 77.65714285714284, 'X[25] <= 3793.0\\ngini = 0.015\\nsamples = 801\\nvalue = [6, 795]'),\n",
       " Text(242.44137931034481, 46.59428571428572, 'X[16] <= 0.209\\ngini = 0.01\\nsamples = 765\\nvalue = [4, 761]'),\n",
       " Text(236.66896551724136, 15.531428571428563, 'gini = 0.005\\nsamples = 726\\nvalue = [2, 724]'),\n",
       " Text(248.21379310344827, 15.531428571428563, 'gini = 0.097\\nsamples = 39\\nvalue = [2, 37]'),\n",
       " Text(265.5310344827586, 46.59428571428572, 'X[25] <= 3796.5\\ngini = 0.105\\nsamples = 36\\nvalue = [2, 34]'),\n",
       " Text(259.7586206896552, 15.531428571428563, 'gini = 0.0\\nsamples = 1\\nvalue = [1, 0]'),\n",
       " Text(271.3034482758621, 15.531428571428563, 'gini = 0.056\\nsamples = 35\\nvalue = [1, 34]'),\n",
       " Text(297.2793103448276, 108.72, 'X[20] <= 0.636\\ngini = 0.346\\nsamples = 36\\nvalue = [8, 28]'),\n",
       " Text(282.84827586206893, 77.65714285714284, 'X[17] <= 1.085\\ngini = 0.32\\nsamples = 5\\nvalue = [4, 1]'),\n",
       " Text(277.07586206896553, 46.59428571428572, 'gini = 0.0\\nsamples = 4\\nvalue = [4, 0]'),\n",
       " Text(288.6206896551724, 46.59428571428572, 'gini = 0.0\\nsamples = 1\\nvalue = [0, 1]'),\n",
       " Text(311.7103448275862, 77.65714285714284, 'X[0] <= 49.5\\ngini = 0.225\\nsamples = 31\\nvalue = [4, 27]'),\n",
       " Text(300.1655172413793, 46.59428571428572, 'X[21] <= -1.524\\ngini = 0.49\\nsamples = 7\\nvalue = [3, 4]'),\n",
       " Text(294.39310344827584, 15.531428571428563, 'gini = 0.375\\nsamples = 4\\nvalue = [3, 1]'),\n",
       " Text(305.93793103448274, 15.531428571428563, 'gini = 0.0\\nsamples = 3\\nvalue = [0, 3]'),\n",
       " Text(323.2551724137931, 46.59428571428572, 'X[12] <= 27.0\\ngini = 0.08\\nsamples = 24\\nvalue = [1, 23]'),\n",
       " Text(317.48275862068965, 15.531428571428563, 'gini = 0.444\\nsamples = 3\\nvalue = [1, 2]'),\n",
       " Text(329.02758620689656, 15.531428571428563, 'gini = 0.0\\nsamples = 21\\nvalue = [0, 21]')]"
      ]
     },
     "execution_count": 106,
     "metadata": {},
     "output_type": "execute_result"
    },
    {
     "data": {
      "image/png": "[encoded data removed]",
      "text/plain": [
       "<Figure size 432x288 with 1 Axes>"
      ]
     },
     "metadata": {
      "needs_background": "light"
     },
     "output_type": "display_data"
    }
   ],
   "source": [
    "data_copy = data_train.drop(columns=['class', 'name', 'date_of_birth', 'education'])\n",
    "X = data_copy\n",
    "y = data_train['class']\n",
    "\n",
    "clf = tree.DecisionTreeClassifier(max_depth = 6)\n",
    "clf = clf.fit(X, y)\n",
    "predicted_train = clf.predict(X)\n",
    "\n",
    "tree.plot_tree(clf) "
   ]
  },
  {
   "cell_type": "code",
   "execution_count": 107,
   "metadata": {},
   "outputs": [
    {
     "name": "stdout",
     "output_type": "stream",
     "text": [
      "              precision    recall  f1-score   support\n",
      "\n",
      "         0.0       0.97      0.99      0.98      2928\n",
      "         1.0       0.98      0.91      0.94      1004\n",
      "\n",
      "    accuracy                           0.97      3932\n",
      "   macro avg       0.98      0.95      0.96      3932\n",
      "weighted avg       0.97      0.97      0.97      3932\n",
      "\n"
     ]
    }
   ],
   "source": [
    "print(classification_report(data_train['class'], predicted_train))"
   ]
  },
  {
   "cell_type": "code",
   "execution_count": 108,
   "metadata": {},
   "outputs": [
    {
     "name": "stdout",
     "output_type": "stream",
     "text": [
      "0.9725330620549338\n"
     ]
    }
   ],
   "source": [
    "print(accuracy_score(data_train['class'], predicted_train))"
   ]
  },
  {
   "cell_type": "code",
   "execution_count": 109,
   "metadata": {},
   "outputs": [
    {
     "data": {
      "image/png": "[encoded data removed]",
      "text/plain": [
       "<Figure size 432x288 with 2 Axes>"
      ]
     },
     "metadata": {
      "needs_background": "light"
     },
     "output_type": "display_data"
    }
   ],
   "source": [
    "cm = confusion_matrix(data_train['class'], predicted_train)\n",
    "\n",
    "disp = ConfusionMatrixDisplay(confusion_matrix=cm)\n",
    "disp = disp.plot()"
   ]
  },
  {
   "cell_type": "code",
   "execution_count": 110,
   "metadata": {},
   "outputs": [
    {
     "data": {
      "text/plain": [
       "[Text(165.59612068965515, 201.90857142857143, 'X[17] <= 0.5\\ngini = 0.38\\nsamples = 3932\\nvalue = [2928, 1004]'),\n",
       " Text(104.625, 170.84571428571428, 'X[0] <= 78.5\\ngini = 0.086\\nsamples = 3026\\nvalue = [2889, 137]'),\n",
       " Text(76.48448275862069, 139.78285714285715, 'X[17] <= -0.119\\ngini = 0.08\\nsamples = 3012\\nvalue = [2886, 126]'),\n",
       " Text(37.52068965517241, 108.72, 'X[17] <= -0.449\\ngini = 0.021\\nsamples = 2102\\nvalue = [2080, 22]'),\n",
       " Text(23.089655172413792, 77.65714285714284, 'X[18] <= -1.159\\ngini = 0.006\\nsamples = 1275\\nvalue = [1271, 4]'),\n",
       " Text(11.544827586206896, 46.59428571428572, 'X[18] <= -1.159\\ngini = 0.022\\nsamples = 264\\nvalue = [261, 3]'),\n",
       " Text(5.772413793103448, 15.531428571428563, 'gini = 0.015\\nsamples = 263\\nvalue = [261, 2]'),\n",
       " Text(17.317241379310346, 15.531428571428563, 'gini = 0.0\\nsamples = 1\\nvalue = [0, 1]'),\n",
       " Text(34.63448275862069, 46.59428571428572, 'X[14] <= 1.5\\ngini = 0.002\\nsamples = 1011\\nvalue = [1010, 1]'),\n",
       " Text(28.86206896551724, 15.531428571428563, 'gini = 0.044\\nsamples = 44\\nvalue = [43, 1]'),\n",
       " Text(40.40689655172414, 15.531428571428563, 'gini = 0.0\\nsamples = 967\\nvalue = [967, 0]'),\n",
       " Text(51.95172413793103, 77.65714285714284, 'X[17] <= -0.449\\ngini = 0.043\\nsamples = 827\\nvalue = [809, 18]'),\n",
       " Text(46.179310344827584, 46.59428571428572, 'gini = 0.0\\nsamples = 1\\nvalue = [0, 1]'),\n",
       " Text(57.72413793103448, 46.59428571428572, 'X[6] <= 3.5\\ngini = 0.04\\nsamples = 826\\nvalue = [809, 17]'),\n",
       " Text(51.95172413793103, 15.531428571428563, 'gini = 0.346\\nsamples = 9\\nvalue = [7, 2]'),\n",
       " Text(63.49655172413793, 15.531428571428563, 'gini = 0.036\\nsamples = 817\\nvalue = [802, 15]'),\n",
       " Text(115.44827586206895, 108.72, 'X[21] <= -0.161\\ngini = 0.202\\nsamples = 910\\nvalue = [806, 104]'),\n",
       " Text(92.35862068965517, 77.65714285714284, 'X[17] <= 0.379\\ngini = 0.45\\nsamples = 170\\nvalue = [112, 58]'),\n",
       " Text(80.81379310344828, 46.59428571428572, 'X[24] <= 2684.0\\ngini = 0.403\\nsamples = 150\\nvalue = [108, 42]'),\n",
       " Text(75.04137931034482, 15.531428571428563, 'gini = 0.341\\nsamples = 124\\nvalue = [97, 27]'),\n",
       " Text(86.58620689655172, 15.531428571428563, 'gini = 0.488\\nsamples = 26\\nvalue = [11, 15]'),\n",
       " Text(103.90344827586206, 46.59428571428572, 'X[25] <= 1068.0\\ngini = 0.32\\nsamples = 20\\nvalue = [4, 16]'),\n",
       " Text(98.13103448275862, 15.531428571428563, 'gini = 0.375\\nsamples = 4\\nvalue = [3, 1]'),\n",
       " Text(109.67586206896551, 15.531428571428563, 'gini = 0.117\\nsamples = 16\\nvalue = [1, 15]'),\n",
       " Text(138.53793103448277, 77.65714285714284, 'X[0] <= 71.5\\ngini = 0.117\\nsamples = 740\\nvalue = [694, 46]'),\n",
       " Text(126.99310344827586, 46.59428571428572, 'X[0] <= 47.5\\ngini = 0.105\\nsamples = 734\\nvalue = [693, 41]'),\n",
       " Text(121.22068965517241, 15.531428571428563, 'gini = 0.014\\nsamples = 290\\nvalue = [288, 2]'),\n",
       " Text(132.7655172413793, 15.531428571428563, 'gini = 0.16\\nsamples = 444\\nvalue = [405, 39]'),\n",
       " Text(150.08275862068965, 46.59428571428572, 'X[24] <= 1697.0\\ngini = 0.278\\nsamples = 6\\nvalue = [1, 5]'),\n",
       " Text(144.3103448275862, 15.531428571428563, 'gini = 0.0\\nsamples = 1\\nvalue = [1, 0]'),\n",
       " Text(155.8551724137931, 15.531428571428563, 'gini = 0.0\\nsamples = 5\\nvalue = [0, 5]'),\n",
       " Text(132.7655172413793, 139.78285714285715, 'X[25] <= 817.5\\ngini = 0.337\\nsamples = 14\\nvalue = [3, 11]'),\n",
       " Text(126.99310344827586, 108.72, 'gini = 0.0\\nsamples = 3\\nvalue = [3, 0]'),\n",
       " Text(138.53793103448277, 108.72, 'gini = 0.0\\nsamples = 11\\nvalue = [0, 11]'),\n",
       " Text(226.56724137931033, 170.84571428571428, 'X[17] <= 0.62\\ngini = 0.082\\nsamples = 906\\nvalue = [39, 867]'),\n",
       " Text(184.71724137931034, 139.78285714285715, 'X[18] <= 0.559\\ngini = 0.493\\nsamples = 50\\nvalue = [22, 28]'),\n",
       " Text(173.17241379310343, 108.72, 'X[0] <= 56.5\\ngini = 0.245\\nsamples = 28\\nvalue = [4, 24]'),\n",
       " Text(167.4, 77.65714285714284, 'X[9] <= -0.374\\ngini = 0.48\\nsamples = 10\\nvalue = [4, 6]'),\n",
       " Text(161.62758620689655, 46.59428571428572, 'gini = 0.0\\nsamples = 3\\nvalue = [3, 0]'),\n",
       " Text(173.17241379310343, 46.59428571428572, 'X[17] <= 0.607\\ngini = 0.245\\nsamples = 7\\nvalue = [1, 6]'),\n",
       " Text(167.4, 15.531428571428563, 'gini = 0.0\\nsamples = 6\\nvalue = [0, 6]'),\n",
       " Text(178.94482758620688, 15.531428571428563, 'gini = 0.0\\nsamples = 1\\nvalue = [1, 0]'),\n",
       " Text(178.94482758620688, 77.65714285714284, 'gini = 0.0\\nsamples = 18\\nvalue = [0, 18]'),\n",
       " Text(196.26206896551724, 108.72, 'X[20] <= 0.473\\ngini = 0.298\\nsamples = 22\\nvalue = [18, 4]'),\n",
       " Text(190.4896551724138, 77.65714285714284, 'gini = 0.0\\nsamples = 17\\nvalue = [17, 0]'),\n",
       " Text(202.03448275862067, 77.65714285714284, 'X[8] <= 5302.5\\ngini = 0.32\\nsamples = 5\\nvalue = [1, 4]'),\n",
       " Text(196.26206896551724, 46.59428571428572, 'gini = 0.0\\nsamples = 4\\nvalue = [0, 4]'),\n",
       " Text(207.80689655172412, 46.59428571428572, 'gini = 0.0\\nsamples = 1\\nvalue = [1, 0]'),\n",
       " Text(268.4172413793103, 139.78285714285715, 'X[16] <= 0.78\\ngini = 0.039\\nsamples = 856\\nvalue = [17, 839]'),\n",
       " Text(239.5551724137931, 108.72, 'X[19] <= -0.423\\ngini = 0.022\\nsamples = 820\\nvalue = [9, 811]'),\n",
       " Text(225.12413793103448, 77.65714285714284, 'X[21] <= 0.474\\ngini = 0.266\\nsamples = 19\\nvalue = [3, 16]'),\n",
       " Text(219.35172413793103, 46.59428571428572, 'gini = 0.0\\nsamples = 3\\nvalue = [3, 0]'),\n",
       " Text(230.8965517241379, 46.59428571428572, 'gini = 0.0\\nsamples = 16\\nvalue = [0, 16]'),\n",
       " Text(253.98620689655172, 77.65714285714284, 'X[25] <= 3793.0\\ngini = 0.015\\nsamples = 801\\nvalue = [6, 795]'),\n",
       " Text(242.44137931034481, 46.59428571428572, 'X[16] <= 0.209\\ngini = 0.01\\nsamples = 765\\nvalue = [4, 761]'),\n",
       " Text(236.66896551724136, 15.531428571428563, 'gini = 0.005\\nsamples = 726\\nvalue = [2, 724]'),\n",
       " Text(248.21379310344827, 15.531428571428563, 'gini = 0.097\\nsamples = 39\\nvalue = [2, 37]'),\n",
       " Text(265.5310344827586, 46.59428571428572, 'X[25] <= 3796.5\\ngini = 0.105\\nsamples = 36\\nvalue = [2, 34]'),\n",
       " Text(259.7586206896552, 15.531428571428563, 'gini = 0.0\\nsamples = 1\\nvalue = [1, 0]'),\n",
       " Text(271.3034482758621, 15.531428571428563, 'gini = 0.056\\nsamples = 35\\nvalue = [1, 34]'),\n",
       " Text(297.2793103448276, 108.72, 'X[20] <= 0.636\\ngini = 0.346\\nsamples = 36\\nvalue = [8, 28]'),\n",
       " Text(282.84827586206893, 77.65714285714284, 'X[17] <= 1.085\\ngini = 0.32\\nsamples = 5\\nvalue = [4, 1]'),\n",
       " Text(277.07586206896553, 46.59428571428572, 'gini = 0.0\\nsamples = 4\\nvalue = [4, 0]'),\n",
       " Text(288.6206896551724, 46.59428571428572, 'gini = 0.0\\nsamples = 1\\nvalue = [0, 1]'),\n",
       " Text(311.7103448275862, 77.65714285714284, 'X[0] <= 49.5\\ngini = 0.225\\nsamples = 31\\nvalue = [4, 27]'),\n",
       " Text(300.1655172413793, 46.59428571428572, 'X[21] <= -1.524\\ngini = 0.49\\nsamples = 7\\nvalue = [3, 4]'),\n",
       " Text(294.39310344827584, 15.531428571428563, 'gini = 0.375\\nsamples = 4\\nvalue = [3, 1]'),\n",
       " Text(305.93793103448274, 15.531428571428563, 'gini = 0.0\\nsamples = 3\\nvalue = [0, 3]'),\n",
       " Text(323.2551724137931, 46.59428571428572, 'X[12] <= 27.0\\ngini = 0.08\\nsamples = 24\\nvalue = [1, 23]'),\n",
       " Text(317.48275862068965, 15.531428571428563, 'gini = 0.444\\nsamples = 3\\nvalue = [1, 2]'),\n",
       " Text(329.02758620689656, 15.531428571428563, 'gini = 0.0\\nsamples = 21\\nvalue = [0, 21]')]"
      ]
     },
     "execution_count": 110,
     "metadata": {},
     "output_type": "execute_result"
    },
    {
     "data": {
      "image/png": "[encoded data removed]",
      "text/plain": [
       "<Figure size 432x288 with 1 Axes>"
      ]
     },
     "metadata": {
      "needs_background": "light"
     },
     "output_type": "display_data"
    }
   ],
   "source": [
    "data_copy = data_valid.drop(columns=['class', 'name', 'date_of_birth', 'education'])\n",
    "X = data_copy\n",
    "y = data_valid['class']\n",
    "\n",
    "predicted_valid = clf.predict(X)\n",
    "\n",
    "tree.plot_tree(clf) "
   ]
  },
  {
   "cell_type": "code",
   "execution_count": 111,
   "metadata": {},
   "outputs": [
    {
     "name": "stdout",
     "output_type": "stream",
     "text": [
      "              precision    recall  f1-score   support\n",
      "\n",
      "         0.0       0.98      0.95      0.96       965\n",
      "         1.0       0.87      0.94      0.90       346\n",
      "\n",
      "    accuracy                           0.95      1311\n",
      "   macro avg       0.92      0.95      0.93      1311\n",
      "weighted avg       0.95      0.95      0.95      1311\n",
      "\n"
     ]
    }
   ],
   "source": [
    "print(classification_report(data_valid['class'], predicted_valid))"
   ]
  },
  {
   "cell_type": "code",
   "execution_count": 112,
   "metadata": {},
   "outputs": [
    {
     "name": "stdout",
     "output_type": "stream",
     "text": [
      "0.9466056445461479\n"
     ]
    }
   ],
   "source": [
    "print(accuracy_score(data_valid['class'], predicted_valid))"
   ]
  },
  {
   "cell_type": "code",
   "execution_count": 113,
   "metadata": {},
   "outputs": [
    {
     "data": {
      "image/png": "[encoded data removed]",
      "text/plain": [
       "<Figure size 432x288 with 2 Axes>"
      ]
     },
     "metadata": {
      "needs_background": "light"
     },
     "output_type": "display_data"
    }
   ],
   "source": [
    "cm = confusion_matrix(data_valid['class'], predicted_valid)\n",
    "\n",
    "disp = ConfusionMatrixDisplay(confusion_matrix=cm)\n",
    "disp = disp.plot()"
   ]
  },
  {
   "cell_type": "markdown",
   "metadata": {},
   "source": [
    "Minimálny vplyv, ....  Z tých 3 čo sme otestovali tá z priemerom do všetkých..."
   ]
  },
  {
   "cell_type": "code",
   "execution_count": null,
   "metadata": {},
   "outputs": [],
   "source": []
  }
 ],
 "metadata": {
  "kernelspec": {
   "display_name": "Python 3",
   "language": "python",
   "name": "python3"
  },
  "language_info": {
   "codemirror_mode": {
    "name": "ipython",
    "version": 3
   },
   "file_extension": ".py",
   "mimetype": "text/x-python",
   "name": "python",
   "nbconvert_exporter": "python",
   "pygments_lexer": "ipython3",
   "version": "3.8.2"
  }
 },
 "nbformat": 4,
 "nbformat_minor": 4
}
