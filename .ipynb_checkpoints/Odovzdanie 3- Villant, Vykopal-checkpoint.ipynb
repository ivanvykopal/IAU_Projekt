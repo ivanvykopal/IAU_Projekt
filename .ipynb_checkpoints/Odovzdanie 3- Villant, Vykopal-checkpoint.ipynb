{
 "cells": [
  {
   "cell_type": "markdown",
   "metadata": {},
   "source": [
    "# Projekt - odovzdanie 3\n",
    "\n",
    "**Autori:** Patrik Villant, Ivan Vykopal\n",
    " \n",
    "**Cvičenie:** Utorok o 14:00\n",
    " \n",
    "**Cvičiaci:** Ing. Peter Bakonyi\n",
    " \n",
    "**Dátová sada:** 55\n",
    " \n",
    "**Podiel práce:** 50/50"
   ]
  },
  {
   "cell_type": "code",
   "execution_count": 1,
   "metadata": {},
   "outputs": [],
   "source": [
    "import matplotlib.pyplot as plt\n",
    "import pandas as pd\n",
    "import numpy as np\n",
    "import seaborn as sns\n",
    "import re\n",
    "import datetime\n",
    "import math\n",
    "from sklearn.impute import SimpleImputer\n",
    "from sklearn.impute import KNNImputer\n",
    "from sklearn.preprocessing import LabelEncoder\n",
    "from sklearn.preprocessing import PowerTransformer\n",
    "from sklearn.pipeline import Pipeline\n",
    "from sklearn.base import TransformerMixin\n",
    "from sklearn.metrics import ConfusionMatrixDisplay\n",
    "from sklearn.metrics import confusion_matrix\n",
    "from sklearn.metrics import classification_report\n",
    "from sklearn.metrics import accuracy_score"
   ]
  },
  {
   "cell_type": "code",
   "execution_count": 2,
   "metadata": {},
   "outputs": [],
   "source": [
    "class MergeTransformer(TransformerMixin):\n",
    "    def __init__(self, personal, other, columns=['name', 'address']):\n",
    "        self.personal = personal\n",
    "        self.other = other\n",
    "        self.columns = columns\n",
    "        \n",
    "    def fit(self, data, y=None):\n",
    "        return self\n",
    "    \n",
    "    def transform(self, data, y=None):\n",
    "        data = pd.merge(self.personal, self.other, on=self.columns, how = 'inner')\n",
    "        return data"
   ]
  },
  {
   "cell_type": "code",
   "execution_count": 3,
   "metadata": {},
   "outputs": [],
   "source": [
    "class SplittingMedicalTransformer(TransformerMixin):\n",
    "        \n",
    "    def fit(self, data, y=None):\n",
    "        return self\n",
    "    \n",
    "    def transform(self, data, y=None):\n",
    "        for i in range(len(data)):\n",
    "            row = data.medical_info[i]\n",
    "            if str(row) == 'nan':\n",
    "                j ={'mean_glucose': np.nan,\n",
    "                     'std_glucose': np.nan,\n",
    "                     'kurtosis_glucose': np.nan,\n",
    "                     'skewness_glucose': np.nan,\n",
    "                     'mean_oxygen': np.nan,\n",
    "                     'std_oxygen': np.nan,\n",
    "                     'kurtosis_oxygen': np.nan,\n",
    "                     'skewness_oxygen': np.nan}\n",
    "            else:\n",
    "                j = eval(str(row))\n",
    "            data.at[i,'mean_glucose'] = float(j['mean_glucose'])\n",
    "            data.at[i,'std_glucose'] = float(j['std_glucose'])\n",
    "            data.at[i,'kurtosis_glucose'] = float(j['kurtosis_glucose'])\n",
    "            data.at[i,'skewness_glucose'] = float(j['skewness_glucose'])\n",
    "            data.at[i,'mean_oxygen'] = float(j['mean_oxygen'])\n",
    "            data.at[i,'std_oxygen'] = float(j['std_oxygen'])\n",
    "            data.at[i,'kurtosis_oxygen'] = float(j['kurtosis_oxygen'])\n",
    "            data.at[i,'skewness_oxygen'] = float(j['skewness_oxygen'])\n",
    "        data = data.drop(columns=['medical_info'])\n",
    "        return data"
   ]
  },
  {
   "cell_type": "code",
   "execution_count": 4,
   "metadata": {},
   "outputs": [],
   "source": [
    "class DeduplicationTransformer(TransformerMixin):\n",
    "    def __init__(self, columns=['name', 'address']):\n",
    "        self.columns = columns\n",
    "        \n",
    "    def fit(self, data, y=None):\n",
    "        return self\n",
    "    \n",
    "    def transform(self, data, y=None):\n",
    "        duplicates = data[data.duplicated(self.columns)]\n",
    "        unique_names = duplicates.name.unique()\n",
    "        for i in unique_names: \n",
    "            helper = data[data.name == i]\n",
    "            helper = helper.fillna(method='ffill')\n",
    "            helper = helper.drop_duplicates(self.columns, keep = 'last')\n",
    "            data = data.append(helper)\n",
    "    \n",
    "        data.drop_duplicates(self.columns, inplace = True, keep = 'last')\n",
    "        data = data.reset_index(drop = True)\n",
    "        return data"
   ]
  },
  {
   "cell_type": "code",
   "execution_count": 5,
   "metadata": {},
   "outputs": [],
   "source": [
    "class StripTransformer(TransformerMixin):\n",
    "    def __init__(self, columns):\n",
    "        self.columns = columns\n",
    "        \n",
    "    def fit(self, data, y=None):\n",
    "        return self\n",
    "    \n",
    "    def transform(self, data, y=None):\n",
    "        data[self.columns] = data[self.columns].apply(lambda x: x.str.strip())\n",
    "        return data"
   ]
  },
  {
   "cell_type": "code",
   "execution_count": 6,
   "metadata": {},
   "outputs": [],
   "source": [
    "class UnificationToNanTransformer(TransformerMixin):\n",
    "    \n",
    "    def fit(self, data, y=None):\n",
    "        return self\n",
    "    \n",
    "    def transform(self, data, y=None):\n",
    "        data.replace(to_replace=r'\\?+', value=np.nan, regex=True, inplace=True)\n",
    "        return data"
   ]
  },
  {
   "cell_type": "code",
   "execution_count": 7,
   "metadata": {},
   "outputs": [],
   "source": [
    "class DateUnificationTransformer(TransformerMixin):\n",
    "    \n",
    "    def _unifyFormats(self, data):\n",
    "        data = data[:10]\n",
    "        date = re.sub('[0-9]','0', data)\n",
    "        if date == '0000/00/00':\n",
    "            data = data.replace('/', '-')\n",
    "        if date == '00/00/0000':\n",
    "            data = data[6:] + '-' + data[3:5] +'-' + data[:2]\n",
    "        if date == '00-00-00':\n",
    "            if data[0] == 0 or data[0] == 1:\n",
    "                data = '20' + data[:2] + '-' + data[3:5] + '-' + data[6:]\n",
    "            else:\n",
    "                data = '19' + data[:2] + '-' + data[3:5] + '-' + data[6:]\n",
    "        \n",
    "        return data\n",
    "    \n",
    "    def fit(self, data, y=None):\n",
    "        return self\n",
    "    \n",
    "    def transform(self, data, y=None):\n",
    "        data['date_of_birth'] = data['date_of_birth'].apply(self._unifyFormats)\n",
    "        return data"
   ]
  },
  {
   "cell_type": "code",
   "execution_count": 8,
   "metadata": {},
   "outputs": [],
   "source": [
    "class AddressUnificationTransformer(TransformerMixin):\n",
    "    \n",
    "    def _splittAddress(self, data):\n",
    "        data['street'] = 'street'\n",
    "        data['town'] = 'town'\n",
    "        data['psc'] = 'psc'\n",
    "        for i in range(len(data.address)):\n",
    "            helper = re.split('\\n|, ', data.address[i])\n",
    "            data.loc[i, 'street'] = str(helper[0]).strip()\n",
    "            data.loc[i, 'town'] = str(helper[1])\n",
    "            if len(helper) == 2:\n",
    "                data.loc[i, 'town'] = str(helper[1][:-8])\n",
    "                data.loc[i, 'psc'] = str(helper[1][-8:])\n",
    "            if len(helper) == 3:\n",
    "                data.loc[i, 'psc'] = str(helper[2])\n",
    "        data = data.drop(columns=['address'])\n",
    "        return data\n",
    "        \n",
    "    def fit(self, data, y=None):\n",
    "        return self\n",
    "    \n",
    "    def transform(self, data, y=None):\n",
    "        data = self._splittAddress(data)\n",
    "        return data"
   ]
  },
  {
   "cell_type": "code",
   "execution_count": 9,
   "metadata": {},
   "outputs": [],
   "source": [
    "class AgeUnificationTransformer(TransformerMixin):\n",
    "    \n",
    "    def _unifyAge(self, data):\n",
    "        date = datetime.date(2019, 12, 31)\n",
    "        birth = datetime.date(int(data[:4]), int(data[5:7]), int(data[8:]))\n",
    "        age = date - birth\n",
    "        age = age.days // 365\n",
    "        return age\n",
    "        \n",
    "    def fit(self, data, y=None):\n",
    "        return self\n",
    "    \n",
    "    def transform(self, data, y=None):\n",
    "        data['age'] = data['date_of_birth'].apply(self._unifyAge)\n",
    "        return data"
   ]
  },
  {
   "cell_type": "code",
   "execution_count": 10,
   "metadata": {},
   "outputs": [],
   "source": [
    "class PregnantUnificationTransformer(TransformerMixin):\n",
    "          \n",
    "    def fit(self, data, y=None):\n",
    "        return self\n",
    "    \n",
    "    def transform(self, data, y=None):\n",
    "        for i in range(len(data)):\n",
    "            if data.loc[i, 'pregnant'] in ['f','F','FALSE']:\n",
    "                data.loc[i, 'pregnant'] = int(0)\n",
    "            elif data.loc[i, 'pregnant'] in ['t','T','TRUE']:\n",
    "                data.loc[i, 'pregnant'] = int(1)\n",
    "            elif data.loc[i, 'sex'] == 'Male':\n",
    "                data.loc[i, 'pregnant'] = int(0)\n",
    "            else: \n",
    "                data.loc[i, 'pregnant'] = np.nan\n",
    "        data.pregnant = data.pregnant.astype('int64')\n",
    "        return data"
   ]
  },
  {
   "cell_type": "code",
   "execution_count": 11,
   "metadata": {},
   "outputs": [],
   "source": [
    "class WorkclassUnificationTransformer(TransformerMixin):\n",
    "    def _unifyWorkclass(self, data):\n",
    "        string = str(data).lower()\n",
    "        if string == 'nan':\n",
    "            return np.nan\n",
    "        else:\n",
    "            return string\n",
    "        \n",
    "    def fit(self, data, y=None):\n",
    "        return self\n",
    "    \n",
    "    def transform(self, data, y=None):\n",
    "        data.workclass = data.workclass.apply(self._unifyWorkclass)\n",
    "        return data"
   ]
  },
  {
   "cell_type": "code",
   "execution_count": 12,
   "metadata": {},
   "outputs": [],
   "source": [
    "class RelationshipUnificationTransformer(TransformerMixin):\n",
    "    def _unifyRelationship(self, data):\n",
    "        string = str(data)\n",
    "        if string == 'nan':\n",
    "            return np.nan\n",
    "        else:\n",
    "            return string.replace('_', '-')\n",
    "        \n",
    "    def fit(self, data, y=None):\n",
    "        return self\n",
    "    \n",
    "    def transform(self, data, y=None):\n",
    "        data['relationship'] = data['relationship'].apply(self._unifyRelationship)\n",
    "        return data"
   ]
  },
  {
   "cell_type": "code",
   "execution_count": 13,
   "metadata": {},
   "outputs": [],
   "source": [
    "class MedianTransformer(TransformerMixin):\n",
    "    def __init__(self, columns):\n",
    "        self.columns = columns\n",
    "        self.medians = {}\n",
    "        \n",
    "    def fit(self, data, y=None):\n",
    "        for column in self.columns:\n",
    "            self.medians[column] = data[column].median()\n",
    "        return self\n",
    "    \n",
    "    def transform(self, data, y=None):\n",
    "        for column in self.columns:\n",
    "            data[column].fillna(self.medians[column], inplace=True)\n",
    "            \n",
    "        return data"
   ]
  },
  {
   "cell_type": "code",
   "execution_count": 14,
   "metadata": {},
   "outputs": [],
   "source": [
    "class MeanTransformer(TransformerMixin):\n",
    "    def __init__(self, columns):\n",
    "        self.columns = columns\n",
    "        self.means = {}\n",
    "        \n",
    "    def fit(self, data, y=None):      \n",
    "        for column in self.columns:\n",
    "            self.means[column] = data[column].mean()\n",
    "        return self\n",
    "    \n",
    "    def transform(self, data, y=None):\n",
    "        for column in self.columns:\n",
    "            data[column].fillna(self.means[column], inplace=True)\n",
    "            \n",
    "        return data"
   ]
  },
  {
   "cell_type": "code",
   "execution_count": 15,
   "metadata": {},
   "outputs": [],
   "source": [
    "class MostFrequentTransformer(TransformerMixin):\n",
    "    def __init__(self, columns):\n",
    "        self.columns = columns\n",
    "        self.modes = {}\n",
    "        \n",
    "    def fit(self, data, y=None):\n",
    "        for column in self.columns:\n",
    "            self.modes[column] = data[column].mode()[0]\n",
    "        return self\n",
    "    \n",
    "    def transform(self, data, y=None):\n",
    "        for column in self.columns:\n",
    "            data[column].fillna(self.modes[column], inplace=True)\n",
    "            \n",
    "        return data"
   ]
  },
  {
   "cell_type": "code",
   "execution_count": 16,
   "metadata": {},
   "outputs": [],
   "source": [
    "class KNNTransformer(TransformerMixin):\n",
    "    def __init__(self, columns):\n",
    "        self.columns = columns\n",
    "        \n",
    "    def _kNN(self, data, column):\n",
    "        imp_kNN = KNNImputer(missing_values=np.nan)\n",
    "        data[column] = imp_kNN.fit_transform(data[[column]])\n",
    "        return data\n",
    "        \n",
    "    def fit(self, data, y=None):\n",
    "        return self\n",
    "    \n",
    "    def transform(self, data, y=None):\n",
    "        for column in self.columns:\n",
    "            data = self._kNN(data, column)\n",
    "            \n",
    "        return data"
   ]
  },
  {
   "cell_type": "code",
   "execution_count": 17,
   "metadata": {},
   "outputs": [],
   "source": [
    "class AgeToNanTransformer(TransformerMixin):\n",
    "        \n",
    "    def _ageToNan(self, data):\n",
    "        if data < 0:\n",
    "            return np.nan\n",
    "        else:\n",
    "            return data\n",
    "        \n",
    "    def fit(self, data, y=None):\n",
    "        return self\n",
    "    \n",
    "    def transform(self, data, y=None): \n",
    "        data['age'] = data['age'].apply(self._ageToNan)   \n",
    "        return data"
   ]
  },
  {
   "cell_type": "markdown",
   "metadata": {},
   "source": [
    "Zmena..."
   ]
  },
  {
   "cell_type": "code",
   "execution_count": 18,
   "metadata": {},
   "outputs": [],
   "source": [
    "class ClassRemovalTransformer(TransformerMixin):\n",
    "        \n",
    "    def fit(self, data, y=None):\n",
    "        return self\n",
    "    \n",
    "    def transform(self, data, y=None): \n",
    "        data = data[data['class'].notna()]\n",
    "        data = data.reset_index(drop = True)\n",
    "        return data\n"
   ]
  },
  {
   "cell_type": "code",
   "execution_count": 19,
   "metadata": {},
   "outputs": [],
   "source": [
    "class OutliersTransformer(TransformerMixin):\n",
    "    def __init__(self, columns):\n",
    "        self.columns = columns\n",
    "        \n",
    "    def _standarddeviation(self, data):\n",
    "        data_mean, data_std = np.mean(data), np.std(data)\n",
    "\n",
    "        cut_off = data_std * 3\n",
    "        lower, upper = data_mean - cut_off, data_mean + cut_off \n",
    "\n",
    "        outliers = [x for x in data if x < lower or x > upper] \n",
    "        print('Počet záznamov=', len(data), ', počet outlierov: %d' % len(outliers))\n",
    "        print('\\n')\n",
    "                \n",
    "    def _setOutliers(self, data, column):\n",
    "        percentile_95 = data[column].quantile(0.95)\n",
    "        percentile_05 = data[column].quantile(0.05)\n",
    "        data.loc[data[column] < percentile_05, column] = percentile_05\n",
    "        data.loc[data[column] > percentile_95, column] = percentile_95\n",
    "        \n",
    "    def fit(self, data, y=None):\n",
    "        return self\n",
    "    \n",
    "    def transform(self, data, y=None):\n",
    "        for column in self.columns:\n",
    "            print('Atribút ', column, '\\n')\n",
    "            print('Pred úpravou:')\n",
    "            self._standarddeviation(data[column])\n",
    "            self._setOutliers(data, column)\n",
    "            print('Po úprave:')\n",
    "            self._standarddeviation(data[column])\n",
    "            print('-------------------------------------------------------------------------------------------------------------')\n",
    "\n",
    "            \n",
    "        return data"
   ]
  },
  {
   "cell_type": "code",
   "execution_count": 20,
   "metadata": {},
   "outputs": [],
   "source": [
    "class PowerTransformTransformer(TransformerMixin):\n",
    "    def __init__(self, columns):\n",
    "        self.columns = columns\n",
    "        \n",
    "    def _powerTransform(self, data, column):\n",
    "        power = PowerTransformer(method='yeo-johnson', standardize=True) \n",
    "        data[column] = power.fit_transform(data[[column]])\n",
    "        \n",
    "    def fit(self, data, y=None):\n",
    "        return self\n",
    "    \n",
    "    def transform(self, data, y=None):\n",
    "        for column in self.columns:\n",
    "            self._powerTransform(data, column)\n",
    "            \n",
    "        return data"
   ]
  },
  {
   "cell_type": "code",
   "execution_count": 21,
   "metadata": {},
   "outputs": [],
   "source": [
    "class HoursUnificationTransformer(TransformerMixin):\n",
    "        \n",
    "    def _hoursToNan(self, data):\n",
    "        if data < 0 or data > 168:\n",
    "            return np.nan\n",
    "        else:\n",
    "            return data\n",
    "        \n",
    "    def fit(self, data, y=None):\n",
    "        return self\n",
    "    \n",
    "    def transform(self, data, y=None): \n",
    "        data['hours-per-week'] = data['hours-per-week'].apply(self._hoursToNan)   \n",
    "        return data"
   ]
  },
  {
   "cell_type": "markdown",
   "metadata": {},
   "source": [
    "Popísať vykonané zmeny"
   ]
  },
  {
   "cell_type": "code",
   "execution_count": 22,
   "metadata": {},
   "outputs": [],
   "source": [
    "class LabelEncoderTransformer(TransformerMixin):\n",
    "    \n",
    "    def __init__(self, columns):\n",
    "        self.columns = columns\n",
    "        self.encoders = {}\n",
    "        for column in self.columns:\n",
    "            self.encoders[column] = LabelEncoder()\n",
    "        \n",
    "    def fit(self, data, y=None):\n",
    "        for column in self.columns:\n",
    "            self.encoders[column].fit(list(data[column]) + ['Unknown'])\n",
    "        return self\n",
    "    \n",
    "    def transform(self, data, y=None): \n",
    "        for column in self.columns:\n",
    "            data_list = list(data[column])\n",
    "            for unique_item in np.unique(data[column]):\n",
    "                if unique_item not in self.encoders[column].classes_:\n",
    "                    data_list = ['Unknown' if x==unique_item else x for x in data_list]\n",
    "\n",
    "            data[column] = self.encoders[column].transform(data_list)\n",
    "        return data"
   ]
  },
  {
   "cell_type": "code",
   "execution_count": 23,
   "metadata": {},
   "outputs": [],
   "source": [
    "personal_train = pd.read_csv('personal_train.csv', index_col='Unnamed: 0')"
   ]
  },
  {
   "cell_type": "code",
   "execution_count": 24,
   "metadata": {},
   "outputs": [],
   "source": [
    "other_train = pd.read_csv('other_train.csv', index_col='Unnamed: 0')"
   ]
  },
  {
   "cell_type": "code",
   "execution_count": 25,
   "metadata": {},
   "outputs": [],
   "source": [
    "personal_valid = pd.read_csv('personal_valid.csv', index_col='Unnamed: 0')"
   ]
  },
  {
   "cell_type": "code",
   "execution_count": 26,
   "metadata": {},
   "outputs": [],
   "source": [
    "other_valid = pd.read_csv('other_valid.csv', index_col='Unnamed: 0')"
   ]
  },
  {
   "cell_type": "code",
   "execution_count": 27,
   "metadata": {},
   "outputs": [],
   "source": [
    "merge = Pipeline([('merge', MergeTransformer(personal_train, other_train, ['name', 'address']))])\n",
    "\n",
    "data_train = pd.DataFrame()\n",
    "data_train = merge.transform(data_train)"
   ]
  },
  {
   "cell_type": "code",
   "execution_count": 28,
   "metadata": {},
   "outputs": [
    {
     "name": "stdout",
     "output_type": "stream",
     "text": [
      "Atribút  fnlwgt \n",
      "\n",
      "Pred úpravou:\n",
      "Počet záznamov= 3932 , počet outlierov: 22\n",
      "\n",
      "\n",
      "Po úprave:\n",
      "Počet záznamov= 3932 , počet outlierov: 0\n",
      "\n",
      "\n",
      "-------------------------------------------------------------------------------------------------------------\n",
      "Atribút  mean_glucose \n",
      "\n",
      "Pred úpravou:\n",
      "Počet záznamov= 3932 , počet outlierov: 3\n",
      "\n",
      "\n",
      "Po úprave:\n",
      "Počet záznamov= 3932 , počet outlierov: 0\n",
      "\n",
      "\n",
      "-------------------------------------------------------------------------------------------------------------\n",
      "Atribút  std_glucose \n",
      "\n",
      "Pred úpravou:\n",
      "Počet záznamov= 3932 , počet outlierov: 17\n",
      "\n",
      "\n",
      "Po úprave:\n",
      "Počet záznamov= 3932 , počet outlierov: 0\n",
      "\n",
      "\n",
      "-------------------------------------------------------------------------------------------------------------\n",
      "Atribút  kurtosis_glucose \n",
      "\n",
      "Pred úpravou:\n",
      "Počet záznamov= 3932 , počet outlierov: 18\n",
      "\n",
      "\n",
      "Po úprave:\n",
      "Počet záznamov= 3932 , počet outlierov: 0\n",
      "\n",
      "\n",
      "-------------------------------------------------------------------------------------------------------------\n",
      "Atribút  skewness_glucose \n",
      "\n",
      "Pred úpravou:\n",
      "Počet záznamov= 3932 , počet outlierov: 14\n",
      "\n",
      "\n",
      "Po úprave:\n",
      "Počet záznamov= 3932 , počet outlierov: 0\n",
      "\n",
      "\n",
      "-------------------------------------------------------------------------------------------------------------\n",
      "Atribút  mean_oxygen \n",
      "\n",
      "Pred úpravou:\n",
      "Počet záznamov= 3932 , počet outlierov: 0\n",
      "\n",
      "\n",
      "Po úprave:\n",
      "Počet záznamov= 3932 , počet outlierov: 0\n",
      "\n",
      "\n",
      "-------------------------------------------------------------------------------------------------------------\n",
      "Atribút  std_oxygen \n",
      "\n",
      "Pred úpravou:\n",
      "Počet záznamov= 3932 , počet outlierov: 0\n",
      "\n",
      "\n",
      "Po úprave:\n",
      "Počet záznamov= 3932 , počet outlierov: 0\n",
      "\n",
      "\n",
      "-------------------------------------------------------------------------------------------------------------\n",
      "Atribút  kurtosis_oxygen \n",
      "\n",
      "Pred úpravou:\n",
      "Počet záznamov= 3932 , počet outlierov: 17\n",
      "\n",
      "\n",
      "Po úprave:\n",
      "Počet záznamov= 3932 , počet outlierov: 0\n",
      "\n",
      "\n",
      "-------------------------------------------------------------------------------------------------------------\n",
      "Atribút  skewness_oxygen \n",
      "\n",
      "Pred úpravou:\n",
      "Počet záznamov= 3932 , počet outlierov: 9\n",
      "\n",
      "\n",
      "Po úprave:\n",
      "Počet záznamov= 3932 , počet outlierov: 0\n",
      "\n",
      "\n",
      "-------------------------------------------------------------------------------------------------------------\n",
      "Atribút  fnlwgt \n",
      "\n",
      "Pred úpravou:\n",
      "Počet záznamov= 3932 , počet outlierov: 22\n",
      "\n",
      "\n",
      "Po úprave:\n",
      "Počet záznamov= 3932 , počet outlierov: 0\n",
      "\n",
      "\n",
      "-------------------------------------------------------------------------------------------------------------\n",
      "Atribút  mean_glucose \n",
      "\n",
      "Pred úpravou:\n",
      "Počet záznamov= 3932 , počet outlierov: 3\n",
      "\n",
      "\n",
      "Po úprave:\n",
      "Počet záznamov= 3932 , počet outlierov: 0\n",
      "\n",
      "\n",
      "-------------------------------------------------------------------------------------------------------------\n",
      "Atribút  std_glucose \n",
      "\n",
      "Pred úpravou:\n",
      "Počet záznamov= 3932 , počet outlierov: 17\n",
      "\n",
      "\n",
      "Po úprave:\n",
      "Počet záznamov= 3932 , počet outlierov: 0\n",
      "\n",
      "\n",
      "-------------------------------------------------------------------------------------------------------------\n",
      "Atribút  kurtosis_glucose \n",
      "\n",
      "Pred úpravou:\n",
      "Počet záznamov= 3932 , počet outlierov: 18\n",
      "\n",
      "\n",
      "Po úprave:\n",
      "Počet záznamov= 3932 , počet outlierov: 0\n",
      "\n",
      "\n",
      "-------------------------------------------------------------------------------------------------------------\n",
      "Atribút  skewness_glucose \n",
      "\n",
      "Pred úpravou:\n",
      "Počet záznamov= 3932 , počet outlierov: 14\n",
      "\n",
      "\n",
      "Po úprave:\n",
      "Počet záznamov= 3932 , počet outlierov: 0\n",
      "\n",
      "\n",
      "-------------------------------------------------------------------------------------------------------------\n",
      "Atribút  mean_oxygen \n",
      "\n",
      "Pred úpravou:\n",
      "Počet záznamov= 3932 , počet outlierov: 0\n",
      "\n",
      "\n",
      "Po úprave:\n",
      "Počet záznamov= 3932 , počet outlierov: 0\n",
      "\n",
      "\n",
      "-------------------------------------------------------------------------------------------------------------\n",
      "Atribút  std_oxygen \n",
      "\n",
      "Pred úpravou:\n",
      "Počet záznamov= 3932 , počet outlierov: 0\n",
      "\n",
      "\n",
      "Po úprave:\n",
      "Počet záznamov= 3932 , počet outlierov: 0\n",
      "\n",
      "\n",
      "-------------------------------------------------------------------------------------------------------------\n",
      "Atribút  kurtosis_oxygen \n",
      "\n",
      "Pred úpravou:\n",
      "Počet záznamov= 3932 , počet outlierov: 17\n",
      "\n",
      "\n",
      "Po úprave:\n",
      "Počet záznamov= 3932 , počet outlierov: 0\n",
      "\n",
      "\n",
      "-------------------------------------------------------------------------------------------------------------\n",
      "Atribút  skewness_oxygen \n",
      "\n",
      "Pred úpravou:\n",
      "Počet záznamov= 3932 , počet outlierov: 9\n",
      "\n",
      "\n",
      "Po úprave:\n",
      "Počet záznamov= 3932 , počet outlierov: 0\n",
      "\n",
      "\n",
      "-------------------------------------------------------------------------------------------------------------\n"
     ]
    }
   ],
   "source": [
    "most_frequent_missing = ['race', 'marital-status', 'occupation', 'relationship', 'native-country', 'workclass', 'capital-gain', 'capital-loss']\n",
    "\n",
    "glucose = ['mean_glucose', 'std_glucose', 'kurtosis_glucose', 'skewness_glucose']\n",
    "\n",
    "oxygen_age = ['mean_oxygen', 'std_oxygen', 'kurtosis_oxygen', 'skewness_oxygen', 'age']\n",
    "\n",
    "encode = ['sex', 'race', 'marital-status', 'occupation', 'relationship', 'income', 'native-country', 'workclass', 'town', 'psc', 'street']\n",
    "\n",
    "outliers = ['fnlwgt', 'mean_glucose', 'std_glucose', 'kurtosis_glucose', 'skewness_glucose', 'mean_oxygen', 'std_oxygen', 'kurtosis_oxygen', 'skewness_oxygen']\n",
    "\n",
    "pip = Pipeline([('split_medical', SplittingMedicalTransformer()),\n",
    "               ('deduplication', DeduplicationTransformer(['name','address'])),\n",
    "               ('strip', StripTransformer(['sex', 'race', 'marital-status', 'occupation', 'relationship', 'education', 'income', 'native-country', 'workclass'])),\n",
    "               ('nan_unification', UnificationToNanTransformer()),\n",
    "               ('date_unification', DateUnificationTransformer()),\n",
    "               ('address_unification', AddressUnificationTransformer()),\n",
    "               ('age_unification', AgeUnificationTransformer()),\n",
    "               ('pregnant_unification', PregnantUnificationTransformer()),\n",
    "               ('workclass_unification', WorkclassUnificationTransformer()),\n",
    "               ('relationship_unification', RelationshipUnificationTransformer()),\n",
    "               ('age_to_nan', AgeToNanTransformer()),\n",
    "               ('most_frequent_missing', MostFrequentTransformer(most_frequent_missing)),\n",
    "               ('class_remove', ClassRemovalTransformer()),\n",
    "               ('hours-per-week', MeanTransformer(['hours-per-week'])),\n",
    "               ('glucose', KNNTransformer(glucose)),\n",
    "               ('oxygen_age', MedianTransformer(oxygen_age)),\n",
    "               ('power_transform',PowerTransformTransformer(outliers)),\n",
    "               ('outliers', OutliersTransformer(outliers)),\n",
    "               ('encode', LabelEncoderTransformer(encode))])\n",
    "\n",
    "pip.fit(data_train)\n",
    "data_train = pip.transform(data_train)"
   ]
  },
  {
   "cell_type": "code",
   "execution_count": 29,
   "metadata": {},
   "outputs": [],
   "source": [
    "merge = Pipeline([('merge', MergeTransformer(personal_valid, other_valid, ['name', 'address']))])\n",
    "\n",
    "data_valid = pd.DataFrame()\n",
    "data_valid = merge.transform(data_valid)"
   ]
  },
  {
   "cell_type": "code",
   "execution_count": 30,
   "metadata": {},
   "outputs": [
    {
     "name": "stdout",
     "output_type": "stream",
     "text": [
      "Atribút  fnlwgt \n",
      "\n",
      "Pred úpravou:\n",
      "Počet záznamov= 1311 , počet outlierov: 2\n",
      "\n",
      "\n",
      "Po úprave:\n",
      "Počet záznamov= 1311 , počet outlierov: 0\n",
      "\n",
      "\n",
      "-------------------------------------------------------------------------------------------------------------\n",
      "Atribút  mean_glucose \n",
      "\n",
      "Pred úpravou:\n",
      "Počet záznamov= 1311 , počet outlierov: 0\n",
      "\n",
      "\n",
      "Po úprave:\n",
      "Počet záznamov= 1311 , počet outlierov: 0\n",
      "\n",
      "\n",
      "-------------------------------------------------------------------------------------------------------------\n",
      "Atribút  std_glucose \n",
      "\n",
      "Pred úpravou:\n",
      "Počet záznamov= 1311 , počet outlierov: 5\n",
      "\n",
      "\n",
      "Po úprave:\n",
      "Počet záznamov= 1311 , počet outlierov: 0\n",
      "\n",
      "\n",
      "-------------------------------------------------------------------------------------------------------------\n",
      "Atribút  kurtosis_glucose \n",
      "\n",
      "Pred úpravou:\n",
      "Počet záznamov= 1311 , počet outlierov: 5\n",
      "\n",
      "\n",
      "Po úprave:\n",
      "Počet záznamov= 1311 , počet outlierov: 0\n",
      "\n",
      "\n",
      "-------------------------------------------------------------------------------------------------------------\n",
      "Atribút  skewness_glucose \n",
      "\n",
      "Pred úpravou:\n",
      "Počet záznamov= 1311 , počet outlierov: 3\n",
      "\n",
      "\n",
      "Po úprave:\n",
      "Počet záznamov= 1311 , počet outlierov: 0\n",
      "\n",
      "\n",
      "-------------------------------------------------------------------------------------------------------------\n",
      "Atribút  mean_oxygen \n",
      "\n",
      "Pred úpravou:\n",
      "Počet záznamov= 1311 , počet outlierov: 0\n",
      "\n",
      "\n",
      "Po úprave:\n",
      "Počet záznamov= 1311 , počet outlierov: 0\n",
      "\n",
      "\n",
      "-------------------------------------------------------------------------------------------------------------\n",
      "Atribút  std_oxygen \n",
      "\n",
      "Pred úpravou:\n",
      "Počet záznamov= 1311 , počet outlierov: 0\n",
      "\n",
      "\n",
      "Po úprave:\n",
      "Počet záznamov= 1311 , počet outlierov: 0\n",
      "\n",
      "\n",
      "-------------------------------------------------------------------------------------------------------------\n",
      "Atribút  kurtosis_oxygen \n",
      "\n",
      "Pred úpravou:\n",
      "Počet záznamov= 1311 , počet outlierov: 3\n",
      "\n",
      "\n",
      "Po úprave:\n",
      "Počet záznamov= 1311 , počet outlierov: 0\n",
      "\n",
      "\n",
      "-------------------------------------------------------------------------------------------------------------\n",
      "Atribút  skewness_oxygen \n",
      "\n",
      "Pred úpravou:\n",
      "Počet záznamov= 1311 , počet outlierov: 3\n",
      "\n",
      "\n",
      "Po úprave:\n",
      "Počet záznamov= 1311 , počet outlierov: 0\n",
      "\n",
      "\n",
      "-------------------------------------------------------------------------------------------------------------\n"
     ]
    }
   ],
   "source": [
    "data_valid = pip.transform(data_valid)"
   ]
  },
  {
   "cell_type": "code",
   "execution_count": 31,
   "metadata": {},
   "outputs": [
    {
     "data": {
      "text/html": [
       "<div>\n",
       "<style scoped>\n",
       "    .dataframe tbody tr th:only-of-type {\n",
       "        vertical-align: middle;\n",
       "    }\n",
       "\n",
       "    .dataframe tbody tr th {\n",
       "        vertical-align: top;\n",
       "    }\n",
       "\n",
       "    .dataframe thead th {\n",
       "        text-align: right;\n",
       "    }\n",
       "</style>\n",
       "<table border=\"1\" class=\"dataframe\">\n",
       "  <thead>\n",
       "    <tr style=\"text-align: right;\">\n",
       "      <th></th>\n",
       "      <th>name</th>\n",
       "      <th>age</th>\n",
       "      <th>sex</th>\n",
       "      <th>date_of_birth</th>\n",
       "      <th>race</th>\n",
       "      <th>marital-status</th>\n",
       "      <th>occupation</th>\n",
       "      <th>pregnant</th>\n",
       "      <th>education-num</th>\n",
       "      <th>relationship</th>\n",
       "      <th>...</th>\n",
       "      <th>std_glucose</th>\n",
       "      <th>kurtosis_glucose</th>\n",
       "      <th>skewness_glucose</th>\n",
       "      <th>mean_oxygen</th>\n",
       "      <th>std_oxygen</th>\n",
       "      <th>kurtosis_oxygen</th>\n",
       "      <th>skewness_oxygen</th>\n",
       "      <th>street</th>\n",
       "      <th>town</th>\n",
       "      <th>psc</th>\n",
       "    </tr>\n",
       "  </thead>\n",
       "  <tbody>\n",
       "    <tr>\n",
       "      <th>0</th>\n",
       "      <td>Philip Miller</td>\n",
       "      <td>52</td>\n",
       "      <td>1</td>\n",
       "      <td>1967-09-03</td>\n",
       "      <td>5</td>\n",
       "      <td>4</td>\n",
       "      <td>4</td>\n",
       "      <td>0</td>\n",
       "      <td>9.0</td>\n",
       "      <td>1</td>\n",
       "      <td>...</td>\n",
       "      <td>-0.010168</td>\n",
       "      <td>-1.083175</td>\n",
       "      <td>-0.255202</td>\n",
       "      <td>-0.416802</td>\n",
       "      <td>-0.491678</td>\n",
       "      <td>0.332974</td>\n",
       "      <td>0.387414</td>\n",
       "      <td>3922</td>\n",
       "      <td>2226</td>\n",
       "      <td>3520</td>\n",
       "    </tr>\n",
       "    <tr>\n",
       "      <th>1</th>\n",
       "      <td>Mitch Wilson</td>\n",
       "      <td>50</td>\n",
       "      <td>0</td>\n",
       "      <td>1969-07-19</td>\n",
       "      <td>5</td>\n",
       "      <td>4</td>\n",
       "      <td>0</td>\n",
       "      <td>0</td>\n",
       "      <td>10.0</td>\n",
       "      <td>3</td>\n",
       "      <td>...</td>\n",
       "      <td>1.065302</td>\n",
       "      <td>-0.959011</td>\n",
       "      <td>-1.406078</td>\n",
       "      <td>0.422036</td>\n",
       "      <td>0.471178</td>\n",
       "      <td>-0.495901</td>\n",
       "      <td>-0.527878</td>\n",
       "      <td>3922</td>\n",
       "      <td>2933</td>\n",
       "      <td>3520</td>\n",
       "    </tr>\n",
       "    <tr>\n",
       "      <th>2</th>\n",
       "      <td>James Olsen</td>\n",
       "      <td>36</td>\n",
       "      <td>1</td>\n",
       "      <td>1983-01-20</td>\n",
       "      <td>5</td>\n",
       "      <td>2</td>\n",
       "      <td>13</td>\n",
       "      <td>0</td>\n",
       "      <td>9.0</td>\n",
       "      <td>0</td>\n",
       "      <td>...</td>\n",
       "      <td>-0.281893</td>\n",
       "      <td>-0.503283</td>\n",
       "      <td>-0.059564</td>\n",
       "      <td>-1.386288</td>\n",
       "      <td>-1.454295</td>\n",
       "      <td>1.468397</td>\n",
       "      <td>1.458314</td>\n",
       "      <td>3922</td>\n",
       "      <td>2933</td>\n",
       "      <td>3520</td>\n",
       "    </tr>\n",
       "    <tr>\n",
       "      <th>3</th>\n",
       "      <td>Maurice Riley</td>\n",
       "      <td>56</td>\n",
       "      <td>1</td>\n",
       "      <td>1963-04-18</td>\n",
       "      <td>5</td>\n",
       "      <td>2</td>\n",
       "      <td>11</td>\n",
       "      <td>0</td>\n",
       "      <td>4.0</td>\n",
       "      <td>0</td>\n",
       "      <td>...</td>\n",
       "      <td>-0.010168</td>\n",
       "      <td>-0.971483</td>\n",
       "      <td>-0.600971</td>\n",
       "      <td>-0.241584</td>\n",
       "      <td>-0.059667</td>\n",
       "      <td>0.314069</td>\n",
       "      <td>0.286062</td>\n",
       "      <td>3922</td>\n",
       "      <td>810</td>\n",
       "      <td>3520</td>\n",
       "    </tr>\n",
       "    <tr>\n",
       "      <th>4</th>\n",
       "      <td>Larry Stanley</td>\n",
       "      <td>72</td>\n",
       "      <td>1</td>\n",
       "      <td>1947-09-04</td>\n",
       "      <td>5</td>\n",
       "      <td>4</td>\n",
       "      <td>9</td>\n",
       "      <td>0</td>\n",
       "      <td>10.0</td>\n",
       "      <td>3</td>\n",
       "      <td>...</td>\n",
       "      <td>-1.670691</td>\n",
       "      <td>1.733144</td>\n",
       "      <td>1.706862</td>\n",
       "      <td>1.609443</td>\n",
       "      <td>1.272269</td>\n",
       "      <td>-1.452033</td>\n",
       "      <td>-1.462614</td>\n",
       "      <td>3922</td>\n",
       "      <td>2933</td>\n",
       "      <td>3520</td>\n",
       "    </tr>\n",
       "  </tbody>\n",
       "</table>\n",
       "<p>5 rows × 30 columns</p>\n",
       "</div>"
      ],
      "text/plain": [
       "            name  age  sex date_of_birth  race  marital-status  occupation  \\\n",
       "0  Philip Miller   52    1    1967-09-03     5               4           4   \n",
       "1   Mitch Wilson   50    0    1969-07-19     5               4           0   \n",
       "2    James Olsen   36    1    1983-01-20     5               2          13   \n",
       "3  Maurice Riley   56    1    1963-04-18     5               2          11   \n",
       "4  Larry Stanley   72    1    1947-09-04     5               4           9   \n",
       "\n",
       "   pregnant  education-num  relationship  ...  std_glucose kurtosis_glucose  \\\n",
       "0         0            9.0             1  ...    -0.010168        -1.083175   \n",
       "1         0           10.0             3  ...     1.065302        -0.959011   \n",
       "2         0            9.0             0  ...    -0.281893        -0.503283   \n",
       "3         0            4.0             0  ...    -0.010168        -0.971483   \n",
       "4         0           10.0             3  ...    -1.670691         1.733144   \n",
       "\n",
       "   skewness_glucose  mean_oxygen  std_oxygen  kurtosis_oxygen  \\\n",
       "0         -0.255202    -0.416802   -0.491678         0.332974   \n",
       "1         -1.406078     0.422036    0.471178        -0.495901   \n",
       "2         -0.059564    -1.386288   -1.454295         1.468397   \n",
       "3         -0.600971    -0.241584   -0.059667         0.314069   \n",
       "4          1.706862     1.609443    1.272269        -1.452033   \n",
       "\n",
       "   skewness_oxygen  street  town   psc  \n",
       "0         0.387414    3922  2226  3520  \n",
       "1        -0.527878    3922  2933  3520  \n",
       "2         1.458314    3922  2933  3520  \n",
       "3         0.286062    3922   810  3520  \n",
       "4        -1.462614    3922  2933  3520  \n",
       "\n",
       "[5 rows x 30 columns]"
      ]
     },
     "execution_count": 31,
     "metadata": {},
     "output_type": "execute_result"
    }
   ],
   "source": [
    "data_valid.head()"
   ]
  },
  {
   "cell_type": "markdown",
   "metadata": {},
   "source": [
    "## Manuálne vytvorenie rozhodovaích pravidiel\n",
    "\n",
    "### Pre jeden atribút\n",
    "\n",
    "Zvolený atribút **kurtosis_glucose**"
   ]
  },
  {
   "cell_type": "code",
   "execution_count": 32,
   "metadata": {},
   "outputs": [
    {
     "data": {
      "image/png": "[encoded data removed]",
      "text/plain": [
       "<Figure size 432x288 with 1 Axes>"
      ]
     },
     "metadata": {
      "needs_background": "light"
     },
     "output_type": "display_data"
    }
   ],
   "source": [
    "ill_kg = data_train[data_train['class'] == 0.0].kurtosis_glucose\n",
    "healthy_kg = data_train[data_train['class'] == 1.0].kurtosis_glucose\n",
    "df = pd.DataFrame({\n",
    "    'ill': ill_kg,\n",
    "    'healthy': healthy_kg})\n",
    "ax = df.plot.hist(bins=25, alpha=0.5)"
   ]
  },
  {
   "cell_type": "markdown",
   "metadata": {},
   "source": [
    "Na základe hostogamu sme si zvolili hodnotu 0.5. Tí čo budú pod touto hodnotou budú považovaný za chorých, ostatní budú považovaní za zdravých."
   ]
  },
  {
   "cell_type": "code",
   "execution_count": 33,
   "metadata": {},
   "outputs": [],
   "source": [
    "class KurtosisGlucosePredictor():\n",
    "    \n",
    "    def predict(self, data):\n",
    "        if data <= 0.5:\n",
    "            return 0.0\n",
    "        else:\n",
    "            return 1.0\n",
    "    \n",
    "    def transform(self, data):\n",
    "        predicted = data['kurtosis_glucose'].apply(self.predict)\n",
    "        return predicted"
   ]
  },
  {
   "cell_type": "code",
   "execution_count": 34,
   "metadata": {},
   "outputs": [],
   "source": [
    "predicted_train = KurtosisGlucosePredictor().transform(data_train)"
   ]
  },
  {
   "cell_type": "code",
   "execution_count": 35,
   "metadata": {},
   "outputs": [
    {
     "data": {
      "image/png": "[encoded data removed]",
      "text/plain": [
       "<Figure size 432x288 with 2 Axes>"
      ]
     },
     "metadata": {
      "needs_background": "light"
     },
     "output_type": "display_data"
    }
   ],
   "source": [
    "cm = confusion_matrix(data_train['class'], predicted_train)\n",
    "\n",
    "disp = ConfusionMatrixDisplay(confusion_matrix=cm)\n",
    "disp = disp.plot()"
   ]
  },
  {
   "cell_type": "code",
   "execution_count": 36,
   "metadata": {},
   "outputs": [
    {
     "name": "stdout",
     "output_type": "stream",
     "text": [
      "              precision    recall  f1-score   support\n",
      "\n",
      "         0.0       0.95      0.99      0.97      2928\n",
      "         1.0       0.96      0.86      0.91      1004\n",
      "\n",
      "    accuracy                           0.95      3932\n",
      "   macro avg       0.96      0.92      0.94      3932\n",
      "weighted avg       0.96      0.95      0.95      3932\n",
      "\n"
     ]
    }
   ],
   "source": [
    "print(classification_report(data_train['class'], predicted_train))"
   ]
  },
  {
   "cell_type": "code",
   "execution_count": 37,
   "metadata": {},
   "outputs": [
    {
     "name": "stdout",
     "output_type": "stream",
     "text": [
      "0.9549847405900305\n"
     ]
    }
   ],
   "source": [
    "print(accuracy_score(data_train['class'], predicted_train))"
   ]
  },
  {
   "cell_type": "code",
   "execution_count": 38,
   "metadata": {},
   "outputs": [],
   "source": [
    "predicted_valid = KurtosisGlucosePredictor().transform(data_valid)"
   ]
  },
  {
   "cell_type": "code",
   "execution_count": 39,
   "metadata": {},
   "outputs": [
    {
     "data": {
      "image/png": "[encoded data removed]",
      "text/plain": [
       "<Figure size 432x288 with 2 Axes>"
      ]
     },
     "metadata": {
      "needs_background": "light"
     },
     "output_type": "display_data"
    }
   ],
   "source": [
    "cm = confusion_matrix(data_valid['class'], predicted_valid)\n",
    "\n",
    "disp = ConfusionMatrixDisplay(confusion_matrix=cm)\n",
    "disp = disp.plot()"
   ]
  },
  {
   "cell_type": "code",
   "execution_count": 40,
   "metadata": {},
   "outputs": [
    {
     "name": "stdout",
     "output_type": "stream",
     "text": [
      "              precision    recall  f1-score   support\n",
      "\n",
      "         0.0       0.97      0.97      0.97       965\n",
      "         1.0       0.91      0.91      0.91       346\n",
      "\n",
      "    accuracy                           0.95      1311\n",
      "   macro avg       0.94      0.94      0.94      1311\n",
      "weighted avg       0.95      0.95      0.95      1311\n",
      "\n"
     ]
    }
   ],
   "source": [
    "print(classification_report(data_valid['class'], predicted_valid))"
   ]
  },
  {
   "cell_type": "code",
   "execution_count": 42,
   "metadata": {},
   "outputs": [
    {
     "name": "stdout",
     "output_type": "stream",
     "text": [
      "0.9511823035850496\n"
     ]
    }
   ],
   "source": [
    "print(accuracy_score(data_valid['class'], predicted_valid))"
   ]
  },
  {
   "cell_type": "markdown",
   "metadata": {},
   "source": [
    "### Pre tri atribúty\n",
    "\n",
    "Zvolený atribút **kurtosis_glucose**, **mean_glucose**, **mean_oxygen**."
   ]
  },
  {
   "cell_type": "code",
   "execution_count": 43,
   "metadata": {},
   "outputs": [
    {
     "data": {
      "image/png": "[encoded data removed]",
      "text/plain": [
       "<Figure size 432x288 with 1 Axes>"
      ]
     },
     "metadata": {
      "needs_background": "light"
     },
     "output_type": "display_data"
    }
   ],
   "source": [
    "ill_mg = data_train[data_train['class'] == 0.0].mean_glucose\n",
    "healthy_mg = data_train[data_train['class'] == 1.0].mean_glucose\n",
    "df = pd.DataFrame({\n",
    "    'ill': ill_mg,\n",
    "    'healthy': healthy_mg})\n",
    "ax = df.plot.hist(bins=25, alpha=0.5)"
   ]
  },
  {
   "cell_type": "markdown",
   "metadata": {},
   "source": [
    "Vybrali sme hodnotu: -0.7"
   ]
  },
  {
   "cell_type": "code",
   "execution_count": 44,
   "metadata": {},
   "outputs": [
    {
     "data": {
      "image/png": "[encoded data removed]",
      "text/plain": [
       "<Figure size 432x288 with 1 Axes>"
      ]
     },
     "metadata": {
      "needs_background": "light"
     },
     "output_type": "display_data"
    }
   ],
   "source": [
    "ill_mo = data_train[data_train['class'] == 0.0].mean_oxygen\n",
    "healthy_mo = data_train[data_train['class'] == 1.0].mean_oxygen\n",
    "df = pd.DataFrame({\n",
    "    'ill': ill_mo,\n",
    "    'healthy': healthy_mo})\n",
    "ax = df.plot.hist(bins=25, alpha=0.5)"
   ]
  },
  {
   "cell_type": "markdown",
   "metadata": {},
   "source": [
    "Vybrali sme hodnotu: 0.7"
   ]
  },
  {
   "cell_type": "code",
   "execution_count": 63,
   "metadata": {},
   "outputs": [],
   "source": [
    "class ComplexPredictor():\n",
    "    \n",
    "    def predict(self, row):\n",
    "        if row.kurtosis_glucose <= 0.5:\n",
    "            #chorý\n",
    "            if row.mean_glucose >= -0.7:\n",
    "                #chorý\n",
    "                if row.mean_oxygen <= 0.7:\n",
    "                    return 0.0\n",
    "                else:\n",
    "                    return 0.0 \n",
    "            else:\n",
    "                if row.mean_oxygen <= 0.7:\n",
    "                    return 0.0\n",
    "                else:\n",
    "                    return 1.0 \n",
    "        else:\n",
    "            #zdravý\n",
    "            if row.mean_glucose >= -0.7:\n",
    "                #chorý\n",
    "                if row.mean_oxygen <= 0.7:\n",
    "                    return 0.0\n",
    "                else:\n",
    "                    return 1.0 \n",
    "            else:\n",
    "                if row.mean_oxygen <= 0.7:\n",
    "                    return 1.0\n",
    "                else:\n",
    "                    return 1.0 \n",
    "        \n",
    "    \n",
    "    def transform(self, data):\n",
    "        predicted = []\n",
    "        for i in range(len(data)):\n",
    "            predicted.append(self.predict(data.loc[i]))\n",
    "            \n",
    "        return pd.Series(predicted)"
   ]
  },
  {
   "cell_type": "code",
   "execution_count": 64,
   "metadata": {},
   "outputs": [],
   "source": [
    "predicted_train = ComplexPredictor().transform(data_train)"
   ]
  },
  {
   "cell_type": "code",
   "execution_count": 65,
   "metadata": {},
   "outputs": [
    {
     "data": {
      "image/png": "[encoded data removed]",
      "text/plain": [
       "<Figure size 432x288 with 2 Axes>"
      ]
     },
     "metadata": {
      "needs_background": "light"
     },
     "output_type": "display_data"
    }
   ],
   "source": [
    "cm = confusion_matrix(data_train['class'], predicted_train)\n",
    "\n",
    "disp = ConfusionMatrixDisplay(confusion_matrix=cm)\n",
    "disp = disp.plot()"
   ]
  },
  {
   "cell_type": "code",
   "execution_count": 66,
   "metadata": {},
   "outputs": [
    {
     "name": "stdout",
     "output_type": "stream",
     "text": [
      "              precision    recall  f1-score   support\n",
      "\n",
      "         0.0       0.95      0.99      0.97      2928\n",
      "         1.0       0.96      0.84      0.90      1004\n",
      "\n",
      "    accuracy                           0.95      3932\n",
      "   macro avg       0.95      0.91      0.93      3932\n",
      "weighted avg       0.95      0.95      0.95      3932\n",
      "\n"
     ]
    }
   ],
   "source": [
    "print(classification_report(data_train['class'], predicted_train))"
   ]
  },
  {
   "cell_type": "code",
   "execution_count": 67,
   "metadata": {},
   "outputs": [
    {
     "name": "stdout",
     "output_type": "stream",
     "text": [
      "0.9501525940996948\n"
     ]
    }
   ],
   "source": [
    "print(accuracy_score(data_train['class'], predicted_train))"
   ]
  },
  {
   "cell_type": "code",
   "execution_count": 68,
   "metadata": {},
   "outputs": [],
   "source": [
    "predicted_valid = ComplexPredictor().transform(data_valid)"
   ]
  },
  {
   "cell_type": "code",
   "execution_count": 69,
   "metadata": {},
   "outputs": [
    {
     "data": {
      "image/png": "[encoded data removed]",
      "text/plain": [
       "<Figure size 432x288 with 2 Axes>"
      ]
     },
     "metadata": {
      "needs_background": "light"
     },
     "output_type": "display_data"
    }
   ],
   "source": [
    "cm = confusion_matrix(data_valid['class'], predicted_valid)\n",
    "\n",
    "disp = ConfusionMatrixDisplay(confusion_matrix=cm)\n",
    "disp = disp.plot()"
   ]
  },
  {
   "cell_type": "code",
   "execution_count": 70,
   "metadata": {},
   "outputs": [
    {
     "name": "stdout",
     "output_type": "stream",
     "text": [
      "              precision    recall  f1-score   support\n",
      "\n",
      "         0.0       0.95      0.98      0.97       965\n",
      "         1.0       0.93      0.87      0.90       346\n",
      "\n",
      "    accuracy                           0.95      1311\n",
      "   macro avg       0.94      0.92      0.93      1311\n",
      "weighted avg       0.95      0.95      0.95      1311\n",
      "\n"
     ]
    }
   ],
   "source": [
    "print(classification_report(data_valid['class'], predicted_valid))"
   ]
  },
  {
   "cell_type": "code",
   "execution_count": 71,
   "metadata": {},
   "outputs": [
    {
     "name": "stdout",
     "output_type": "stream",
     "text": [
      "0.9481311975591151\n"
     ]
    }
   ],
   "source": [
    "print(accuracy_score(data_valid['class'], predicted_valid))"
   ]
  },
  {
   "cell_type": "code",
   "execution_count": null,
   "metadata": {},
   "outputs": [],
   "source": []
  }
 ],
 "metadata": {
  "kernelspec": {
   "display_name": "Python 3",
   "language": "python",
   "name": "python3"
  },
  "language_info": {
   "codemirror_mode": {
    "name": "ipython",
    "version": 3
   },
   "file_extension": ".py",
   "mimetype": "text/x-python",
   "name": "python",
   "nbconvert_exporter": "python",
   "pygments_lexer": "ipython3",
   "version": "3.8.2"
  }
 },
 "nbformat": 4,
 "nbformat_minor": 4
}
